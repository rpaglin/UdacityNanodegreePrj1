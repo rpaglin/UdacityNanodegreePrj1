{
 "cells": [
  {
   "cell_type": "markdown",
   "metadata": {},
   "source": [
    "#### Notebook 3 - Sport event database\n",
    "Streaming of high hype sport events (particularly football matches) is creating some additional stress on network capacity.\n",
    "Topic became even more of interest when a pure internet broadcaster acquired the right for serie A matches for next season. \n",
    "The project is about some numerical investigation on the relationship between traffic growth on a mobile network in Italy and the scheduling of football matches involving italian teams. Specifically, investigation will address the following questions:\n",
    "\n",
    "- Can we identify a significative numerical correlation between mobile traffic peaks and footbal matches schedule?\n",
    "- If yes, can we add insigth for classes of football event parameters showing higher correlations (e.g. number of contemporary matches, hype of a single match, types of broadcaster)? \n",
    "- Can the information above be used to tune traffic growth forecasts on a mobile network?\n",
    "\n",
    "The activity is intended as an investigation exercise, so data actually used, though obtained from real measurement, will first be normalized to range between artificially set bounds. "
   ]
  },
  {
   "cell_type": "markdown",
   "metadata": {},
   "source": [
    "#### Datasets\n",
    "\n",
    "The notebook will leverage on following data:\n",
    "\n",
    "- Some real traffic measurement from a mobile network on a generic geographical area in Italy over about 2 years. Data are normalized in a way that reduces all used kpi to range between 1 and 2. Only normalized and region wide values are shown.\n",
    "- Scheduling of major footbal competitions involving italian teams (I considered 'Serie A' and 'Champions League')\n",
    "- Information about the broadcaster distribuiting the matches (internet only or pay tv+internet)"
   ]
  },
  {
   "cell_type": "markdown",
   "metadata": {},
   "source": [
    "#### Notebook organization\n",
    "Activity is organized into different jupyter notebooks:\n",
    "- The first notebook  is about preparing reading traffic data and adding normalization. As actual starting data will not be shared, this notebook is only intended for reference\n",
    "- The second notebook will analize and prepare normalized data for actual usage \n",
    "- Third notebook (the present one) reads, manipulates and prepare sport events dataframe\n",
    "- Fourth notebook  merges all collected and preprocessed data and investigate relationship to try to answer the target questions"
   ]
  },
  {
   "cell_type": "code",
   "execution_count": 135,
   "metadata": {},
   "outputs": [],
   "source": [
    "import numpy as np\n",
    "import pandas as pd\n",
    "import matplotlib.pyplot as plt\n",
    "from sklearn.linear_model import LinearRegression\n",
    "from sklearn.model_selection import train_test_split\n",
    "from sklearn.metrics import r2_score, mean_squared_error\n",
    "import seaborn as sns\n",
    "%matplotlib inline"
   ]
  },
  {
   "cell_type": "markdown",
   "metadata": {},
   "source": [
    "Information about football matches are available on different sites on the internet. Here I used info available at 'footystats.org'.\n",
    "\n",
    "As first step, available info were donloaded and saved as csv file using external tools and stored in alist of files. Below some sample"
   ]
  },
  {
   "cell_type": "code",
   "execution_count": 136,
   "metadata": {},
   "outputs": [
    {
     "name": "stdout",
     "output_type": "stream",
     "text": [
      "C:\\Users\\rpaglin\\OneDrive - Vodafone Group\\Desktop\\Nanodegree prj1 data\n"
     ]
    }
   ],
   "source": [
    "cd \"C:\\\\Users\\\\rpaglin\\\\OneDrive - Vodafone Group\\\\Desktop\\\\Nanodegree prj1 data\""
   ]
  },
  {
   "cell_type": "code",
   "execution_count": 137,
   "metadata": {},
   "outputs": [
    {
     "name": "stdout",
     "output_type": "stream",
     "text": [
      "C:\\Users\\rpaglin\\OneDrive - Vodafone Group\\Desktop\\Nanodegree prj1 data\\Footystat Data\n"
     ]
    }
   ],
   "source": [
    "cd \"Footystat Data\""
   ]
  },
  {
   "cell_type": "code",
   "execution_count": 138,
   "metadata": {},
   "outputs": [],
   "source": [
    "SerieA1819=pd.read_csv('SerieA1819.csv')"
   ]
  },
  {
   "cell_type": "code",
   "execution_count": 139,
   "metadata": {},
   "outputs": [
    {
     "data": {
      "text/html": [
       "<div>\n",
       "<style scoped>\n",
       "    .dataframe tbody tr th:only-of-type {\n",
       "        vertical-align: middle;\n",
       "    }\n",
       "\n",
       "    .dataframe tbody tr th {\n",
       "        vertical-align: top;\n",
       "    }\n",
       "\n",
       "    .dataframe thead th {\n",
       "        text-align: right;\n",
       "    }\n",
       "</style>\n",
       "<table border=\"1\" class=\"dataframe\">\n",
       "  <thead>\n",
       "    <tr style=\"text-align: right;\">\n",
       "      <th></th>\n",
       "      <th>Date</th>\n",
       "      <th>Home</th>\n",
       "      <th>Away</th>\n",
       "      <th>Year</th>\n",
       "    </tr>\n",
       "  </thead>\n",
       "  <tbody>\n",
       "    <tr>\n",
       "      <th>0</th>\n",
       "      <td>Apr 13, 3:00pm</td>\n",
       "      <td>SPAL</td>\n",
       "      <td>Juventus</td>\n",
       "      <td>2019</td>\n",
       "    </tr>\n",
       "    <tr>\n",
       "      <th>1</th>\n",
       "      <td>Apr 13, 6:00pm</td>\n",
       "      <td>Roma</td>\n",
       "      <td>Udinese</td>\n",
       "      <td>2019</td>\n",
       "    </tr>\n",
       "    <tr>\n",
       "      <th>2</th>\n",
       "      <td>Apr 13, 8:30pm</td>\n",
       "      <td>AC Milan</td>\n",
       "      <td>Lazio</td>\n",
       "      <td>2019</td>\n",
       "    </tr>\n",
       "    <tr>\n",
       "      <th>3</th>\n",
       "      <td>Apr 14, 12:30pm</td>\n",
       "      <td>Torino</td>\n",
       "      <td>Cagliari</td>\n",
       "      <td>2019</td>\n",
       "    </tr>\n",
       "    <tr>\n",
       "      <th>4</th>\n",
       "      <td>Apr 14, 3:00pm</td>\n",
       "      <td>Fiorentina</td>\n",
       "      <td>Bologna</td>\n",
       "      <td>2019</td>\n",
       "    </tr>\n",
       "  </tbody>\n",
       "</table>\n",
       "</div>"
      ],
      "text/plain": [
       "              Date        Home      Away  Year\n",
       "0   Apr 13, 3:00pm        SPAL  Juventus  2019\n",
       "1   Apr 13, 6:00pm        Roma   Udinese  2019\n",
       "2   Apr 13, 8:30pm    AC Milan     Lazio  2019\n",
       "3  Apr 14, 12:30pm      Torino  Cagliari  2019\n",
       "4   Apr 14, 3:00pm  Fiorentina   Bologna  2019"
      ]
     },
     "execution_count": 139,
     "metadata": {},
     "output_type": "execute_result"
    }
   ],
   "source": [
    "SerieA1819.head()"
   ]
  },
  {
   "cell_type": "code",
   "execution_count": 140,
   "metadata": {},
   "outputs": [
    {
     "name": "stdout",
     "output_type": "stream",
     "text": [
      "<class 'pandas.core.frame.DataFrame'>\n",
      "RangeIndex: 380 entries, 0 to 379\n",
      "Data columns (total 4 columns):\n",
      "Date    380 non-null object\n",
      "Home    380 non-null object\n",
      "Away    380 non-null object\n",
      "Year    380 non-null int64\n",
      "dtypes: int64(1), object(3)\n",
      "memory usage: 12.0+ KB\n"
     ]
    }
   ],
   "source": [
    "SerieA1819.info()"
   ]
  },
  {
   "cell_type": "code",
   "execution_count": 141,
   "metadata": {},
   "outputs": [
    {
     "data": {
      "text/plain": [
       "0     Apr 13, 3:00pm\n",
       "1     Apr 13, 6:00pm\n",
       "2     Apr 13, 8:30pm\n",
       "3    Apr 14, 12:30pm\n",
       "4     Apr 14, 3:00pm\n",
       "Name: Date, dtype: object"
      ]
     },
     "execution_count": 141,
     "metadata": {},
     "output_type": "execute_result"
    }
   ],
   "source": [
    "SerieA1819['Date'].head(5)"
   ]
  },
  {
   "cell_type": "markdown",
   "metadata": {},
   "source": [
    "'Date' column is particularly important as it contains the info needed to associate a specific event to network data (date and starting time). I prepared a dedicated function to read the different files and concatenate them into a dedicated pandas dataframe, also extracting info in the 'Date' and saving them in different columns"
   ]
  },
  {
   "cell_type": "code",
   "execution_count": 142,
   "metadata": {},
   "outputs": [],
   "source": [
    "def read_football_result(path,filelist,competition):\n",
    "    \n",
    "    \"\"\" \n",
    "    INPUT\n",
    "    path: path where input files are stored\n",
    "    filelist: python list including filenames to be read. Each file contains information about footbal matches, including teams involved and \n",
    "    competition: string to be associated to the list of data\n",
    "    \n",
    "    OUTPUT\n",
    "    a pandas dataframe including values read from filelist after some manipulation\n",
    "    \n",
    "    The function perform the following tasks:\n",
    "    1. Read each file in 'filelist' from directory 'path'. Each file i assumed to be a csv file\n",
    "    2. Manipulate the string containing the date and create different columns for date, year, month, day, hour and min\n",
    "    3. Create a new column named 'competition' filled with the string in the function parameter\n",
    "    \"\"\"\n",
    "\n",
    "    mdict={'Jan':1,'Feb':2,'Mar':3,'Apr':4,'May':5,'Jun':6,\n",
    "          'Jul':7,'Aug':8,'Sep':9,'Oct':10,'Nov':11,'Dec':12}\n",
    "    ddict = (\"Mon\",\"Tue\",\"Wed\",\"Thu\",\"Fri\",\"Sat\",\"Sun\")\n",
    "    dflist=[]\n",
    "    for fl in filelist:\n",
    "        df=pd.read_csv(path+fl)\n",
    "        dflist.append(df)\n",
    "    df=pd.concat(dflist, ignore_index=True, axis=0)\n",
    "    df1=pd.DataFrame(df['Date'].str.split(' ').tolist(), columns=['Month','Day','Hour'])\n",
    "    df=pd.concat([df, df1], axis=1)\n",
    "    df1=pd.DataFrame(df['Hour'].str.split(':').tolist(), columns=['Hour','Min'])\n",
    "    df['Pm']=df1['Min'].apply(lambda x: x[-2:]=='pm')\n",
    "    df['Min']=df1['Min'].apply(lambda x: int(x[:-2]))\n",
    "    df['Hour']=df1['Hour'].apply(lambda x: int(x))\n",
    "    df['Day'] = df['Day'].str[:-1]\n",
    "    df['Day']=df['Day'].apply(lambda x:int(x))\n",
    "    df['Month']=df['Month'].apply(lambda x:mdict[x])\n",
    "    df['Date']=pd.to_datetime(df[['Year','Month','Day']],errors='coerce')\n",
    "    df['Day of week']=df['Date'].apply(lambda x:ddict[x.weekday()])\n",
    "    df['Competition']=competition\n",
    "    return df\n",
    "    "
   ]
  },
  {
   "cell_type": "code",
   "execution_count": 143,
   "metadata": {},
   "outputs": [],
   "source": [
    "path=\"C:\\\\Users\\\\rpaglin\\\\OneDrive - Vodafone Group\\\\Desktop\\\\Nanodegree prj1 data\\\\Footystat Data\\\\\"\n",
    "\n",
    "#Create dataframe for Champions league matches\n",
    "filelist=['CL1819.csv','CL1920.csv','CL2021.csv']\n",
    "CL=read_football_result(path,filelist,'ChampionsLeague')\n",
    "\n",
    "#Create dataframe for SerieA matches matches\n",
    "filelist=['SerieA1819.csv','SerieA1920.csv','SerieA2021.csv']\n",
    "SerieA=read_football_result(path,filelist,'SerieA')"
   ]
  },
  {
   "cell_type": "code",
   "execution_count": 144,
   "metadata": {},
   "outputs": [
    {
     "name": "stdout",
     "output_type": "stream",
     "text": [
      "<class 'pandas.core.frame.DataFrame'>\n",
      "RangeIndex: 1140 entries, 0 to 1139\n",
      "Data columns (total 11 columns):\n",
      "Date           1140 non-null datetime64[ns]\n",
      "Home           1140 non-null object\n",
      "Away           1140 non-null object\n",
      "Year           1140 non-null int64\n",
      "Month          1140 non-null int64\n",
      "Day            1140 non-null int64\n",
      "Hour           1140 non-null int64\n",
      "Pm             1140 non-null bool\n",
      "Min            1140 non-null int64\n",
      "Day of week    1140 non-null object\n",
      "Competition    1140 non-null object\n",
      "dtypes: bool(1), datetime64[ns](1), int64(5), object(4)\n",
      "memory usage: 90.3+ KB\n"
     ]
    }
   ],
   "source": [
    "SerieA.info()"
   ]
  },
  {
   "cell_type": "code",
   "execution_count": 145,
   "metadata": {},
   "outputs": [
    {
     "name": "stdout",
     "output_type": "stream",
     "text": [
      "<class 'pandas.core.frame.DataFrame'>\n",
      "RangeIndex: 369 entries, 0 to 368\n",
      "Data columns (total 11 columns):\n",
      "Date           369 non-null datetime64[ns]\n",
      "Home           369 non-null object\n",
      "Away           369 non-null object\n",
      "Year           369 non-null int64\n",
      "Month          369 non-null int64\n",
      "Day            369 non-null int64\n",
      "Hour           369 non-null int64\n",
      "Pm             369 non-null bool\n",
      "Min            369 non-null int64\n",
      "Day of week    369 non-null object\n",
      "Competition    369 non-null object\n",
      "dtypes: bool(1), datetime64[ns](1), int64(5), object(4)\n",
      "memory usage: 29.3+ KB\n"
     ]
    }
   ],
   "source": [
    "CL.info()"
   ]
  },
  {
   "cell_type": "code",
   "execution_count": 148,
   "metadata": {},
   "outputs": [
    {
     "data": {
      "text/plain": [
       "<matplotlib.axes._subplots.AxesSubplot at 0x142a8d9e4a8>"
      ]
     },
     "execution_count": 148,
     "metadata": {},
     "output_type": "execute_result"
    },
    {
     "data": {
      "image/png": "[encoded data removed]",
      "text/plain": [
       "<Figure size 432x288 with 1 Axes>"
      ]
     },
     "metadata": {},
     "output_type": "display_data"
    }
   ],
   "source": [
    "SerieA['Hour'].hist(bins=12)"
   ]
  },
  {
   "cell_type": "code",
   "execution_count": 149,
   "metadata": {},
   "outputs": [
    {
     "data": {
      "text/plain": [
       "Sun    538\n",
       "Sat    302\n",
       "Wed    134\n",
       "Mon     68\n",
       "Fri     44\n",
       "Tue     29\n",
       "Thu     25\n",
       "Name: Day of week, dtype: int64"
      ]
     },
     "execution_count": 149,
     "metadata": {},
     "output_type": "execute_result"
    }
   ],
   "source": [
    "SerieA['Day of week'].value_counts()"
   ]
  },
  {
   "cell_type": "code",
   "execution_count": 150,
   "metadata": {},
   "outputs": [
    {
     "data": {
      "text/plain": [
       "Wed    181\n",
       "Tue    178\n",
       "Sat      5\n",
       "Fri      3\n",
       "Thu      1\n",
       "Sun      1\n",
       "Name: Day of week, dtype: int64"
      ]
     },
     "execution_count": 150,
     "metadata": {},
     "output_type": "execute_result"
    }
   ],
   "source": [
    "CL['Day of week'].value_counts()"
   ]
  },
  {
   "cell_type": "code",
   "execution_count": 151,
   "metadata": {},
   "outputs": [
    {
     "data": {
      "text/html": [
       "<div>\n",
       "<style scoped>\n",
       "    .dataframe tbody tr th:only-of-type {\n",
       "        vertical-align: middle;\n",
       "    }\n",
       "\n",
       "    .dataframe tbody tr th {\n",
       "        vertical-align: top;\n",
       "    }\n",
       "\n",
       "    .dataframe thead th {\n",
       "        text-align: right;\n",
       "    }\n",
       "</style>\n",
       "<table border=\"1\" class=\"dataframe\">\n",
       "  <thead>\n",
       "    <tr style=\"text-align: right;\">\n",
       "      <th></th>\n",
       "      <th>Date</th>\n",
       "      <th>Home</th>\n",
       "      <th>Away</th>\n",
       "      <th>Year</th>\n",
       "      <th>Month</th>\n",
       "      <th>Day</th>\n",
       "      <th>Hour</th>\n",
       "      <th>Pm</th>\n",
       "      <th>Min</th>\n",
       "      <th>Day of week</th>\n",
       "      <th>Competition</th>\n",
       "    </tr>\n",
       "  </thead>\n",
       "  <tbody>\n",
       "    <tr>\n",
       "      <th>0</th>\n",
       "      <td>2019-06-01</td>\n",
       "      <td>Tottenham Hotspur</td>\n",
       "      <td>Liverpool</td>\n",
       "      <td>2019</td>\n",
       "      <td>6</td>\n",
       "      <td>1</td>\n",
       "      <td>9</td>\n",
       "      <td>True</td>\n",
       "      <td>0</td>\n",
       "      <td>Sat</td>\n",
       "      <td>ChampionsLeague</td>\n",
       "    </tr>\n",
       "    <tr>\n",
       "      <th>128</th>\n",
       "      <td>2020-08-15</td>\n",
       "      <td>Manchester City</td>\n",
       "      <td>Olympique Lyonnais</td>\n",
       "      <td>2020</td>\n",
       "      <td>8</td>\n",
       "      <td>15</td>\n",
       "      <td>9</td>\n",
       "      <td>True</td>\n",
       "      <td>0</td>\n",
       "      <td>Sat</td>\n",
       "      <td>ChampionsLeague</td>\n",
       "    </tr>\n",
       "    <tr>\n",
       "      <th>132</th>\n",
       "      <td>2020-08-08</td>\n",
       "      <td>FC Barcelona</td>\n",
       "      <td>Napoli</td>\n",
       "      <td>2020</td>\n",
       "      <td>8</td>\n",
       "      <td>8</td>\n",
       "      <td>9</td>\n",
       "      <td>True</td>\n",
       "      <td>0</td>\n",
       "      <td>Sat</td>\n",
       "      <td>ChampionsLeague</td>\n",
       "    </tr>\n",
       "    <tr>\n",
       "      <th>133</th>\n",
       "      <td>2020-08-08</td>\n",
       "      <td>Bayern München</td>\n",
       "      <td>Chelsea</td>\n",
       "      <td>2020</td>\n",
       "      <td>8</td>\n",
       "      <td>8</td>\n",
       "      <td>9</td>\n",
       "      <td>True</td>\n",
       "      <td>0</td>\n",
       "      <td>Sat</td>\n",
       "      <td>ChampionsLeague</td>\n",
       "    </tr>\n",
       "    <tr>\n",
       "      <th>244</th>\n",
       "      <td>2021-05-29</td>\n",
       "      <td>Manchester City</td>\n",
       "      <td>Chelsea</td>\n",
       "      <td>2021</td>\n",
       "      <td>5</td>\n",
       "      <td>29</td>\n",
       "      <td>9</td>\n",
       "      <td>True</td>\n",
       "      <td>0</td>\n",
       "      <td>Sat</td>\n",
       "      <td>ChampionsLeague</td>\n",
       "    </tr>\n",
       "  </tbody>\n",
       "</table>\n",
       "</div>"
      ],
      "text/plain": [
       "          Date               Home                Away  Year  Month  Day  Hour  \\\n",
       "0   2019-06-01  Tottenham Hotspur           Liverpool  2019      6    1     9   \n",
       "128 2020-08-15    Manchester City  Olympique Lyonnais  2020      8   15     9   \n",
       "132 2020-08-08       FC Barcelona              Napoli  2020      8    8     9   \n",
       "133 2020-08-08     Bayern München             Chelsea  2020      8    8     9   \n",
       "244 2021-05-29    Manchester City             Chelsea  2021      5   29     9   \n",
       "\n",
       "       Pm  Min Day of week      Competition  \n",
       "0    True    0         Sat  ChampionsLeague  \n",
       "128  True    0         Sat  ChampionsLeague  \n",
       "132  True    0         Sat  ChampionsLeague  \n",
       "133  True    0         Sat  ChampionsLeague  \n",
       "244  True    0         Sat  ChampionsLeague  "
      ]
     },
     "execution_count": 151,
     "metadata": {},
     "output_type": "execute_result"
    }
   ],
   "source": [
    "CL[CL['Day of week']==\"Sat\"]"
   ]
  },
  {
   "cell_type": "code",
   "execution_count": 152,
   "metadata": {},
   "outputs": [
    {
     "data": {
      "text/html": [
       "<div>\n",
       "<style scoped>\n",
       "    .dataframe tbody tr th:only-of-type {\n",
       "        vertical-align: middle;\n",
       "    }\n",
       "\n",
       "    .dataframe tbody tr th {\n",
       "        vertical-align: top;\n",
       "    }\n",
       "\n",
       "    .dataframe thead th {\n",
       "        text-align: right;\n",
       "    }\n",
       "</style>\n",
       "<table border=\"1\" class=\"dataframe\">\n",
       "  <thead>\n",
       "    <tr style=\"text-align: right;\">\n",
       "      <th></th>\n",
       "      <th>Date</th>\n",
       "      <th>Home</th>\n",
       "      <th>Away</th>\n",
       "      <th>Year</th>\n",
       "      <th>Month</th>\n",
       "      <th>Day</th>\n",
       "      <th>Hour</th>\n",
       "      <th>Pm</th>\n",
       "      <th>Min</th>\n",
       "      <th>Day of week</th>\n",
       "      <th>Competition</th>\n",
       "    </tr>\n",
       "  </thead>\n",
       "  <tbody>\n",
       "    <tr>\n",
       "      <th>0</th>\n",
       "      <td>2019-06-01</td>\n",
       "      <td>Tottenham Hotspur</td>\n",
       "      <td>Liverpool</td>\n",
       "      <td>2019</td>\n",
       "      <td>6</td>\n",
       "      <td>1</td>\n",
       "      <td>9</td>\n",
       "      <td>True</td>\n",
       "      <td>0</td>\n",
       "      <td>Sat</td>\n",
       "      <td>ChampionsLeague</td>\n",
       "    </tr>\n",
       "    <tr>\n",
       "      <th>1</th>\n",
       "      <td>2019-05-08</td>\n",
       "      <td>Ajax</td>\n",
       "      <td>Tottenham Hotspur</td>\n",
       "      <td>2019</td>\n",
       "      <td>5</td>\n",
       "      <td>8</td>\n",
       "      <td>9</td>\n",
       "      <td>True</td>\n",
       "      <td>0</td>\n",
       "      <td>Wed</td>\n",
       "      <td>ChampionsLeague</td>\n",
       "    </tr>\n",
       "    <tr>\n",
       "      <th>2</th>\n",
       "      <td>2019-05-07</td>\n",
       "      <td>Liverpool</td>\n",
       "      <td>FC Barcelona</td>\n",
       "      <td>2019</td>\n",
       "      <td>5</td>\n",
       "      <td>7</td>\n",
       "      <td>9</td>\n",
       "      <td>True</td>\n",
       "      <td>0</td>\n",
       "      <td>Tue</td>\n",
       "      <td>ChampionsLeague</td>\n",
       "    </tr>\n",
       "    <tr>\n",
       "      <th>3</th>\n",
       "      <td>2019-05-01</td>\n",
       "      <td>FC Barcelona</td>\n",
       "      <td>Liverpool</td>\n",
       "      <td>2019</td>\n",
       "      <td>5</td>\n",
       "      <td>1</td>\n",
       "      <td>9</td>\n",
       "      <td>True</td>\n",
       "      <td>0</td>\n",
       "      <td>Wed</td>\n",
       "      <td>ChampionsLeague</td>\n",
       "    </tr>\n",
       "    <tr>\n",
       "      <th>4</th>\n",
       "      <td>2019-04-30</td>\n",
       "      <td>Tottenham Hotspur</td>\n",
       "      <td>Ajax</td>\n",
       "      <td>2019</td>\n",
       "      <td>4</td>\n",
       "      <td>30</td>\n",
       "      <td>9</td>\n",
       "      <td>True</td>\n",
       "      <td>0</td>\n",
       "      <td>Tue</td>\n",
       "      <td>ChampionsLeague</td>\n",
       "    </tr>\n",
       "  </tbody>\n",
       "</table>\n",
       "</div>"
      ],
      "text/plain": [
       "        Date               Home               Away  Year  Month  Day  Hour  \\\n",
       "0 2019-06-01  Tottenham Hotspur          Liverpool  2019      6    1     9   \n",
       "1 2019-05-08               Ajax  Tottenham Hotspur  2019      5    8     9   \n",
       "2 2019-05-07          Liverpool       FC Barcelona  2019      5    7     9   \n",
       "3 2019-05-01       FC Barcelona          Liverpool  2019      5    1     9   \n",
       "4 2019-04-30  Tottenham Hotspur               Ajax  2019      4   30     9   \n",
       "\n",
       "     Pm  Min Day of week      Competition  \n",
       "0  True    0         Sat  ChampionsLeague  \n",
       "1  True    0         Wed  ChampionsLeague  \n",
       "2  True    0         Tue  ChampionsLeague  \n",
       "3  True    0         Wed  ChampionsLeague  \n",
       "4  True    0         Tue  ChampionsLeague  "
      ]
     },
     "execution_count": 152,
     "metadata": {},
     "output_type": "execute_result"
    }
   ],
   "source": [
    "CL.head(5)"
   ]
  },
  {
   "cell_type": "code",
   "execution_count": 153,
   "metadata": {},
   "outputs": [
    {
     "data": {
      "text/html": [
       "<div>\n",
       "<style scoped>\n",
       "    .dataframe tbody tr th:only-of-type {\n",
       "        vertical-align: middle;\n",
       "    }\n",
       "\n",
       "    .dataframe tbody tr th {\n",
       "        vertical-align: top;\n",
       "    }\n",
       "\n",
       "    .dataframe thead th {\n",
       "        text-align: right;\n",
       "    }\n",
       "</style>\n",
       "<table border=\"1\" class=\"dataframe\">\n",
       "  <thead>\n",
       "    <tr style=\"text-align: right;\">\n",
       "      <th></th>\n",
       "      <th>Date</th>\n",
       "      <th>Home</th>\n",
       "      <th>Away</th>\n",
       "      <th>Year</th>\n",
       "      <th>Month</th>\n",
       "      <th>Day</th>\n",
       "      <th>Hour</th>\n",
       "      <th>Pm</th>\n",
       "      <th>Min</th>\n",
       "      <th>Day of week</th>\n",
       "      <th>Competition</th>\n",
       "    </tr>\n",
       "  </thead>\n",
       "  <tbody>\n",
       "    <tr>\n",
       "      <th>0</th>\n",
       "      <td>2019-04-13</td>\n",
       "      <td>SPAL</td>\n",
       "      <td>Juventus</td>\n",
       "      <td>2019</td>\n",
       "      <td>4</td>\n",
       "      <td>13</td>\n",
       "      <td>3</td>\n",
       "      <td>True</td>\n",
       "      <td>0</td>\n",
       "      <td>Sat</td>\n",
       "      <td>SerieA</td>\n",
       "    </tr>\n",
       "    <tr>\n",
       "      <th>1</th>\n",
       "      <td>2019-04-13</td>\n",
       "      <td>Roma</td>\n",
       "      <td>Udinese</td>\n",
       "      <td>2019</td>\n",
       "      <td>4</td>\n",
       "      <td>13</td>\n",
       "      <td>6</td>\n",
       "      <td>True</td>\n",
       "      <td>0</td>\n",
       "      <td>Sat</td>\n",
       "      <td>SerieA</td>\n",
       "    </tr>\n",
       "    <tr>\n",
       "      <th>2</th>\n",
       "      <td>2019-04-13</td>\n",
       "      <td>AC Milan</td>\n",
       "      <td>Lazio</td>\n",
       "      <td>2019</td>\n",
       "      <td>4</td>\n",
       "      <td>13</td>\n",
       "      <td>8</td>\n",
       "      <td>True</td>\n",
       "      <td>30</td>\n",
       "      <td>Sat</td>\n",
       "      <td>SerieA</td>\n",
       "    </tr>\n",
       "    <tr>\n",
       "      <th>3</th>\n",
       "      <td>2019-04-14</td>\n",
       "      <td>Torino</td>\n",
       "      <td>Cagliari</td>\n",
       "      <td>2019</td>\n",
       "      <td>4</td>\n",
       "      <td>14</td>\n",
       "      <td>12</td>\n",
       "      <td>True</td>\n",
       "      <td>30</td>\n",
       "      <td>Sun</td>\n",
       "      <td>SerieA</td>\n",
       "    </tr>\n",
       "    <tr>\n",
       "      <th>4</th>\n",
       "      <td>2019-04-14</td>\n",
       "      <td>Fiorentina</td>\n",
       "      <td>Bologna</td>\n",
       "      <td>2019</td>\n",
       "      <td>4</td>\n",
       "      <td>14</td>\n",
       "      <td>3</td>\n",
       "      <td>True</td>\n",
       "      <td>0</td>\n",
       "      <td>Sun</td>\n",
       "      <td>SerieA</td>\n",
       "    </tr>\n",
       "  </tbody>\n",
       "</table>\n",
       "</div>"
      ],
      "text/plain": [
       "        Date        Home      Away  Year  Month  Day  Hour    Pm  Min  \\\n",
       "0 2019-04-13        SPAL  Juventus  2019      4   13     3  True    0   \n",
       "1 2019-04-13        Roma   Udinese  2019      4   13     6  True    0   \n",
       "2 2019-04-13    AC Milan     Lazio  2019      4   13     8  True   30   \n",
       "3 2019-04-14      Torino  Cagliari  2019      4   14    12  True   30   \n",
       "4 2019-04-14  Fiorentina   Bologna  2019      4   14     3  True    0   \n",
       "\n",
       "  Day of week Competition  \n",
       "0         Sat      SerieA  \n",
       "1         Sat      SerieA  \n",
       "2         Sat      SerieA  \n",
       "3         Sun      SerieA  \n",
       "4         Sun      SerieA  "
      ]
     },
     "execution_count": 153,
     "metadata": {},
     "output_type": "execute_result"
    }
   ],
   "source": [
    "SerieA.head(5)"
   ]
  },
  {
   "cell_type": "markdown",
   "metadata": {},
   "source": [
    "On top of footbal data, we want to add some additional info that might be correlated to overal throughput, namely hype of the match and kind of broadcaster "
   ]
  },
  {
   "cell_type": "markdown",
   "metadata": {},
   "source": [
    "#### Managing categorical variables\n",
    "To manage the categorical information contained in the matches dataframe, we want to define a new information set with the following numerical values, per each hour in the analysis period:\n",
    "- Number of Serie A matches ongoing in the hour\n",
    "- Number of CL matches ongoing in the hour\n",
    "- Hype of the events in a specific hour (we define some ad hoc hype functions)\n",
    "\n",
    "To be added later:\n",
    "- Number of matches broadcasted by internet-only broadcaster\n",
    "- Number of matches broadcasted by payTv + internet broadcaster\n",
    "\n"
   ]
  },
  {
   "cell_type": "markdown",
   "metadata": {},
   "source": [
    "Let's start with hype definition"
   ]
  },
  {
   "cell_type": "code",
   "execution_count": 154,
   "metadata": {},
   "outputs": [
    {
     "data": {
      "text/html": [
       "<div>\n",
       "<style scoped>\n",
       "    .dataframe tbody tr th:only-of-type {\n",
       "        vertical-align: middle;\n",
       "    }\n",
       "\n",
       "    .dataframe tbody tr th {\n",
       "        vertical-align: top;\n",
       "    }\n",
       "\n",
       "    .dataframe thead th {\n",
       "        text-align: right;\n",
       "    }\n",
       "</style>\n",
       "<table border=\"1\" class=\"dataframe\">\n",
       "  <thead>\n",
       "    <tr style=\"text-align: right;\">\n",
       "      <th></th>\n",
       "      <th>Date</th>\n",
       "      <th>Home</th>\n",
       "      <th>Away</th>\n",
       "      <th>Year</th>\n",
       "      <th>Month</th>\n",
       "      <th>Day</th>\n",
       "      <th>Hour</th>\n",
       "      <th>Pm</th>\n",
       "      <th>Min</th>\n",
       "      <th>Day of week</th>\n",
       "      <th>Competition</th>\n",
       "    </tr>\n",
       "  </thead>\n",
       "  <tbody>\n",
       "    <tr>\n",
       "      <th>0</th>\n",
       "      <td>2019-04-13</td>\n",
       "      <td>SPAL</td>\n",
       "      <td>Juventus</td>\n",
       "      <td>2019</td>\n",
       "      <td>4</td>\n",
       "      <td>13</td>\n",
       "      <td>3</td>\n",
       "      <td>True</td>\n",
       "      <td>0</td>\n",
       "      <td>Sat</td>\n",
       "      <td>SerieA</td>\n",
       "    </tr>\n",
       "    <tr>\n",
       "      <th>1</th>\n",
       "      <td>2019-04-13</td>\n",
       "      <td>Roma</td>\n",
       "      <td>Udinese</td>\n",
       "      <td>2019</td>\n",
       "      <td>4</td>\n",
       "      <td>13</td>\n",
       "      <td>6</td>\n",
       "      <td>True</td>\n",
       "      <td>0</td>\n",
       "      <td>Sat</td>\n",
       "      <td>SerieA</td>\n",
       "    </tr>\n",
       "    <tr>\n",
       "      <th>2</th>\n",
       "      <td>2019-04-13</td>\n",
       "      <td>AC Milan</td>\n",
       "      <td>Lazio</td>\n",
       "      <td>2019</td>\n",
       "      <td>4</td>\n",
       "      <td>13</td>\n",
       "      <td>8</td>\n",
       "      <td>True</td>\n",
       "      <td>30</td>\n",
       "      <td>Sat</td>\n",
       "      <td>SerieA</td>\n",
       "    </tr>\n",
       "    <tr>\n",
       "      <th>3</th>\n",
       "      <td>2019-04-14</td>\n",
       "      <td>Torino</td>\n",
       "      <td>Cagliari</td>\n",
       "      <td>2019</td>\n",
       "      <td>4</td>\n",
       "      <td>14</td>\n",
       "      <td>12</td>\n",
       "      <td>True</td>\n",
       "      <td>30</td>\n",
       "      <td>Sun</td>\n",
       "      <td>SerieA</td>\n",
       "    </tr>\n",
       "    <tr>\n",
       "      <th>4</th>\n",
       "      <td>2019-04-14</td>\n",
       "      <td>Fiorentina</td>\n",
       "      <td>Bologna</td>\n",
       "      <td>2019</td>\n",
       "      <td>4</td>\n",
       "      <td>14</td>\n",
       "      <td>3</td>\n",
       "      <td>True</td>\n",
       "      <td>0</td>\n",
       "      <td>Sun</td>\n",
       "      <td>SerieA</td>\n",
       "    </tr>\n",
       "  </tbody>\n",
       "</table>\n",
       "</div>"
      ],
      "text/plain": [
       "        Date        Home      Away  Year  Month  Day  Hour    Pm  Min  \\\n",
       "0 2019-04-13        SPAL  Juventus  2019      4   13     3  True    0   \n",
       "1 2019-04-13        Roma   Udinese  2019      4   13     6  True    0   \n",
       "2 2019-04-13    AC Milan     Lazio  2019      4   13     8  True   30   \n",
       "3 2019-04-14      Torino  Cagliari  2019      4   14    12  True   30   \n",
       "4 2019-04-14  Fiorentina   Bologna  2019      4   14     3  True    0   \n",
       "\n",
       "  Day of week Competition  \n",
       "0         Sat      SerieA  \n",
       "1         Sat      SerieA  \n",
       "2         Sat      SerieA  \n",
       "3         Sun      SerieA  \n",
       "4         Sun      SerieA  "
      ]
     },
     "execution_count": 154,
     "metadata": {},
     "output_type": "execute_result"
    }
   ],
   "source": [
    "SerieA.head()"
   ]
  },
  {
   "cell_type": "code",
   "execution_count": 155,
   "metadata": {},
   "outputs": [],
   "source": [
    "    #We assume that the interest of a match is greater if at least one of major italian team is involved\n",
    "    #We also define a potential hype for competition (not used at start)\n",
    "    \n",
    "    hype_teams={'AC Milan':2, 'Juventus':2, 'Inter Milan':2, 'Roma':2,'Lazio':2,'Napoli':2, 'Atalanta':2, \n",
    "                'OthersSA':1, 'OthersCL':0 }\n",
    "    hype_competitions={'SerieA':1, 'ChampionsLeague':1}\n"
   ]
  },
  {
   "cell_type": "code",
   "execution_count": 156,
   "metadata": {},
   "outputs": [],
   "source": [
    "def Hype_x_match(home,away,competition, hype_teams,hype_competitions):\n",
    " \n",
    "    \"\"\" \n",
    "    The function associates an 'hype value' to a match based on contending teams and the championship of the match\n",
    "    INPUT\n",
    "    home: the team playig at home (string)\n",
    "    away: guest team (string)\n",
    "    competition: 'SerieA' or 'Champion League'\n",
    "    hype_teams: dictionary matching a team name with an hype weight\n",
    "    hype_competition: dictionary matching a competition name with an hype weight\n",
    "    \n",
    "    OUTPUT\n",
    "    an integer representing the 'hype' of the match calculated as the product of team per competition hype \n",
    "    \"\"\"   \n",
    "    h=0\n",
    "    for team in [away, home]:\n",
    "        try: h+=hype_teams[team]\n",
    "        except: \n",
    "            if competition=='SerieA': h+=hype_teams['OthersSA']\n",
    "            elif competition=='ChampionsLeague': h+=hype_teams['OthersCL']\n",
    "    try: m=hype_competitions[competition]\n",
    "    except: \n",
    "        m=0    \n",
    "    return h*m\n",
    "        "
   ]
  },
  {
   "cell_type": "code",
   "execution_count": 159,
   "metadata": {},
   "outputs": [
    {
     "name": "stdout",
     "output_type": "stream",
     "text": [
      "AC Milan - Juventus , SerieA:  4\n",
      "Avellino - Juventus , SerieA:  3\n",
      "Avellino - Palermo , SerieA:  2\n",
      "AC Milan - Juventus , CL:  4\n"
     ]
    }
   ],
   "source": [
    "#some sample for testing:\n",
    "print('AC Milan - Juventus , SerieA: ', Hype_x_match('AC Milan','Juventus','SerieA',hype_teams,hype_competitions))\n",
    "print('Avellino - Juventus , SerieA: ', Hype_x_match('Avellino','Juventus','SerieA',hype_teams,hype_competitions))\n",
    "print('Avellino - Palermo , SerieA: ', Hype_x_match('Avellino','Palermo','SerieA',hype_teams,hype_competitions))\n",
    "print('AC Milan - Juventus , CL: ', Hype_x_match('AC Milan','Juventus','ChampionsLeague',hype_teams,hype_competitions))"
   ]
  },
  {
   "cell_type": "markdown",
   "metadata": {},
   "source": [
    "Once we know the hype of a specific match, we want to calculate the hours in the calendar when we have a match with a specific hype.\n",
    "Following function execute this task"
   ]
  },
  {
   "cell_type": "code",
   "execution_count": 160,
   "metadata": {},
   "outputs": [],
   "source": [
    "def hyped_hours(Hour, Min, Pm):\n",
    "    \"\"\" \n",
    "    INPUT\n",
    "    Hour: integer, representing the hour when the match started\n",
    "    Min: integer, representing the minute when the match started\n",
    "    Pm: Boolean (True if hour is to be considered PM)\n",
    "    \n",
    "    OUTPUT\n",
    "    a series of integers, representing the couple of hours mostly impacted by the match. \n",
    "    For simplicity we ignore cases where the match finishes the day after (no such case in hour match db)  \n",
    "    \"\"\"   \n",
    "    h=[]\n",
    "    h1=Hour\n",
    "    if Pm and Hour<12: h1+=12\n",
    "    h2=h1+1\n",
    "    if Min>40:h1,h2=h1+1,h2+1\n",
    "    if h1<24:h.append(h1) \n",
    "    if h2<24:h.append(h2) \n",
    "    return h\n",
    "        "
   ]
  },
  {
   "cell_type": "code",
   "execution_count": 161,
   "metadata": {},
   "outputs": [
    {
     "name": "stdout",
     "output_type": "stream",
     "text": [
      "A match starting at 15:05 : [15, 16]\n",
      "A match starting at 11:55 : [12, 13]\n",
      "A match starting at 22:55 (we accept a mistake here): [23]\n"
     ]
    }
   ],
   "source": [
    "print('A match starting at 15:05 :',hyped_hours(3,5,True))\n",
    "print('A match starting at 11:55 :',hyped_hours(11,55,False))\n",
    "print('A match starting at 22:55 (we accept a mistake here):',hyped_hours(10,55,True))"
   ]
  },
  {
   "cell_type": "markdown",
   "metadata": {},
   "source": [
    "Finally, we create a new dataframe with the following columns:\n",
    "- DATE: Datetime, representing a date in the period under analysis\n",
    "- TIME: Integer, representing an hour in the period under analysis\n",
    "- SerieA: Boolean, representing presence of a SerieA match in the DATE/TIME slot\n",
    "- Champions League: Boolean, representing presence of a CL match in the DATE/TIME slot\n",
    "- Hype: Hype value for the match\n",
    "- Home, Away: string, teams involved in the match"
   ]
  },
  {
   "cell_type": "code",
   "execution_count": 163,
   "metadata": {},
   "outputs": [],
   "source": [
    "def Hype_x_hour(Matches, hype_teams,hype_competitions):\n",
    "    \"\"\"\n",
    "    INPUT\n",
    "    Matches: Dataframe of all matches (SA+CL) \n",
    "    hype_teams,hype_competitions: dictionaries, defining hype assumptions per team/championship \n",
    "    \n",
    "    OUTPUT\n",
    "    A new DF with  following columns:\n",
    "    DATE: Datetime, representing a date in the period under analysis\n",
    "    TIME: Integer, representing an hour in the period under analysis\n",
    "    SerieA: Boolean, representing presence of a SerieA match in the DATE/TIME slot\n",
    "    Champions League: Boolean, representing presence of a CL match in the DATE/TIME slot\n",
    "    Hype: Hype value for the match\n",
    "    Home, Away: string, teams involved in the match    \"\"\"   \n",
    "    \n",
    "    hypelist=[]\n",
    "    for i in Matches.index:\n",
    "        hype=Hype_x_match(Matches.loc[i]['Home'],Matches.loc[i]['Away'],Matches.loc[i]['Competition'],hype_teams,hype_competitions)\n",
    "        if hype>0:\n",
    "            hhlist=hyped_hours(Matches.loc[i]['Hour'],Matches.loc[i]['Min'],Matches.loc[i]['Pm'])\n",
    "            for h in hhlist:\n",
    "                d={'DATE':Matches.loc[i]['Date'],\n",
    "                   'TIME':h,\n",
    "                   'SerieA':Matches.loc[i]['Competition']=='SerieA',\n",
    "                   'ChampionsLeague':Matches.loc[i]['Competition']=='ChampionsLeague',\n",
    "                   'Hype':hype,\n",
    "                   'Home':Matches.loc[i]['Home'],\n",
    "                   'Away':Matches.loc[i]['Away'] }\n",
    "                hypelist.append(d)\n",
    "    return pd.DataFrame(hypelist)\n",
    "        \n"
   ]
  },
  {
   "cell_type": "code",
   "execution_count": 164,
   "metadata": {},
   "outputs": [],
   "source": [
    "HypeDf=Hype_x_hour(pd.concat([CL,SerieA], axis=0,ignore_index=True),hype_teams,hype_competitions)"
   ]
  },
  {
   "cell_type": "code",
   "execution_count": 165,
   "metadata": {},
   "outputs": [
    {
     "name": "stdout",
     "output_type": "stream",
     "text": [
      "<class 'pandas.core.frame.DataFrame'>\n",
      "RangeIndex: 2462 entries, 0 to 2461\n",
      "Data columns (total 7 columns):\n",
      "Away               2462 non-null object\n",
      "ChampionsLeague    2462 non-null bool\n",
      "DATE               2462 non-null datetime64[ns]\n",
      "Home               2462 non-null object\n",
      "Hype               2462 non-null int64\n",
      "SerieA             2462 non-null bool\n",
      "TIME               2462 non-null int64\n",
      "dtypes: bool(2), datetime64[ns](1), int64(2), object(2)\n",
      "memory usage: 101.1+ KB\n"
     ]
    }
   ],
   "source": [
    "HypeDf.info()"
   ]
  },
  {
   "cell_type": "code",
   "execution_count": 166,
   "metadata": {},
   "outputs": [
    {
     "data": {
      "text/html": [
       "<div>\n",
       "<style scoped>\n",
       "    .dataframe tbody tr th:only-of-type {\n",
       "        vertical-align: middle;\n",
       "    }\n",
       "\n",
       "    .dataframe tbody tr th {\n",
       "        vertical-align: top;\n",
       "    }\n",
       "\n",
       "    .dataframe thead th {\n",
       "        text-align: right;\n",
       "    }\n",
       "</style>\n",
       "<table border=\"1\" class=\"dataframe\">\n",
       "  <thead>\n",
       "    <tr style=\"text-align: right;\">\n",
       "      <th></th>\n",
       "      <th>Away</th>\n",
       "      <th>ChampionsLeague</th>\n",
       "      <th>DATE</th>\n",
       "      <th>Home</th>\n",
       "      <th>Hype</th>\n",
       "      <th>SerieA</th>\n",
       "      <th>TIME</th>\n",
       "    </tr>\n",
       "  </thead>\n",
       "  <tbody>\n",
       "    <tr>\n",
       "      <th>2447</th>\n",
       "      <td>Udinese</td>\n",
       "      <td>False</td>\n",
       "      <td>2020-09-27</td>\n",
       "      <td>Hellas Verona</td>\n",
       "      <td>2</td>\n",
       "      <td>True</td>\n",
       "      <td>16</td>\n",
       "    </tr>\n",
       "    <tr>\n",
       "      <th>2448</th>\n",
       "      <td>Genoa</td>\n",
       "      <td>False</td>\n",
       "      <td>2020-09-27</td>\n",
       "      <td>Napoli</td>\n",
       "      <td>3</td>\n",
       "      <td>True</td>\n",
       "      <td>18</td>\n",
       "    </tr>\n",
       "    <tr>\n",
       "      <th>2449</th>\n",
       "      <td>Genoa</td>\n",
       "      <td>False</td>\n",
       "      <td>2020-09-27</td>\n",
       "      <td>Napoli</td>\n",
       "      <td>3</td>\n",
       "      <td>True</td>\n",
       "      <td>19</td>\n",
       "    </tr>\n",
       "    <tr>\n",
       "      <th>2450</th>\n",
       "      <td>AC Milan</td>\n",
       "      <td>False</td>\n",
       "      <td>2020-09-27</td>\n",
       "      <td>Crotone</td>\n",
       "      <td>3</td>\n",
       "      <td>True</td>\n",
       "      <td>18</td>\n",
       "    </tr>\n",
       "    <tr>\n",
       "      <th>2451</th>\n",
       "      <td>AC Milan</td>\n",
       "      <td>False</td>\n",
       "      <td>2020-09-27</td>\n",
       "      <td>Crotone</td>\n",
       "      <td>3</td>\n",
       "      <td>True</td>\n",
       "      <td>19</td>\n",
       "    </tr>\n",
       "    <tr>\n",
       "      <th>2452</th>\n",
       "      <td>Juventus</td>\n",
       "      <td>False</td>\n",
       "      <td>2020-09-27</td>\n",
       "      <td>Roma</td>\n",
       "      <td>4</td>\n",
       "      <td>True</td>\n",
       "      <td>21</td>\n",
       "    </tr>\n",
       "    <tr>\n",
       "      <th>2453</th>\n",
       "      <td>Juventus</td>\n",
       "      <td>False</td>\n",
       "      <td>2020-09-27</td>\n",
       "      <td>Roma</td>\n",
       "      <td>4</td>\n",
       "      <td>True</td>\n",
       "      <td>22</td>\n",
       "    </tr>\n",
       "    <tr>\n",
       "      <th>2454</th>\n",
       "      <td>Parma</td>\n",
       "      <td>False</td>\n",
       "      <td>2020-09-28</td>\n",
       "      <td>Bologna</td>\n",
       "      <td>2</td>\n",
       "      <td>True</td>\n",
       "      <td>21</td>\n",
       "    </tr>\n",
       "    <tr>\n",
       "      <th>2455</th>\n",
       "      <td>Parma</td>\n",
       "      <td>False</td>\n",
       "      <td>2020-09-28</td>\n",
       "      <td>Bologna</td>\n",
       "      <td>2</td>\n",
       "      <td>True</td>\n",
       "      <td>22</td>\n",
       "    </tr>\n",
       "    <tr>\n",
       "      <th>2456</th>\n",
       "      <td>Inter Milan</td>\n",
       "      <td>False</td>\n",
       "      <td>2020-09-30</td>\n",
       "      <td>Benevento</td>\n",
       "      <td>3</td>\n",
       "      <td>True</td>\n",
       "      <td>18</td>\n",
       "    </tr>\n",
       "    <tr>\n",
       "      <th>2457</th>\n",
       "      <td>Inter Milan</td>\n",
       "      <td>False</td>\n",
       "      <td>2020-09-30</td>\n",
       "      <td>Benevento</td>\n",
       "      <td>3</td>\n",
       "      <td>True</td>\n",
       "      <td>19</td>\n",
       "    </tr>\n",
       "    <tr>\n",
       "      <th>2458</th>\n",
       "      <td>Spezia</td>\n",
       "      <td>False</td>\n",
       "      <td>2020-09-30</td>\n",
       "      <td>Udinese</td>\n",
       "      <td>2</td>\n",
       "      <td>True</td>\n",
       "      <td>18</td>\n",
       "    </tr>\n",
       "    <tr>\n",
       "      <th>2459</th>\n",
       "      <td>Spezia</td>\n",
       "      <td>False</td>\n",
       "      <td>2020-09-30</td>\n",
       "      <td>Udinese</td>\n",
       "      <td>2</td>\n",
       "      <td>True</td>\n",
       "      <td>19</td>\n",
       "    </tr>\n",
       "    <tr>\n",
       "      <th>2460</th>\n",
       "      <td>Atalanta</td>\n",
       "      <td>False</td>\n",
       "      <td>2020-09-30</td>\n",
       "      <td>Lazio</td>\n",
       "      <td>4</td>\n",
       "      <td>True</td>\n",
       "      <td>21</td>\n",
       "    </tr>\n",
       "    <tr>\n",
       "      <th>2461</th>\n",
       "      <td>Atalanta</td>\n",
       "      <td>False</td>\n",
       "      <td>2020-09-30</td>\n",
       "      <td>Lazio</td>\n",
       "      <td>4</td>\n",
       "      <td>True</td>\n",
       "      <td>22</td>\n",
       "    </tr>\n",
       "  </tbody>\n",
       "</table>\n",
       "</div>"
      ],
      "text/plain": [
       "             Away  ChampionsLeague       DATE           Home  Hype  SerieA  \\\n",
       "2447      Udinese            False 2020-09-27  Hellas Verona     2    True   \n",
       "2448        Genoa            False 2020-09-27         Napoli     3    True   \n",
       "2449        Genoa            False 2020-09-27         Napoli     3    True   \n",
       "2450     AC Milan            False 2020-09-27        Crotone     3    True   \n",
       "2451     AC Milan            False 2020-09-27        Crotone     3    True   \n",
       "2452     Juventus            False 2020-09-27           Roma     4    True   \n",
       "2453     Juventus            False 2020-09-27           Roma     4    True   \n",
       "2454        Parma            False 2020-09-28        Bologna     2    True   \n",
       "2455        Parma            False 2020-09-28        Bologna     2    True   \n",
       "2456  Inter Milan            False 2020-09-30      Benevento     3    True   \n",
       "2457  Inter Milan            False 2020-09-30      Benevento     3    True   \n",
       "2458       Spezia            False 2020-09-30        Udinese     2    True   \n",
       "2459       Spezia            False 2020-09-30        Udinese     2    True   \n",
       "2460     Atalanta            False 2020-09-30          Lazio     4    True   \n",
       "2461     Atalanta            False 2020-09-30          Lazio     4    True   \n",
       "\n",
       "      TIME  \n",
       "2447    16  \n",
       "2448    18  \n",
       "2449    19  \n",
       "2450    18  \n",
       "2451    19  \n",
       "2452    21  \n",
       "2453    22  \n",
       "2454    21  \n",
       "2455    22  \n",
       "2456    18  \n",
       "2457    19  \n",
       "2458    18  \n",
       "2459    19  \n",
       "2460    21  \n",
       "2461    22  "
      ]
     },
     "execution_count": 166,
     "metadata": {},
     "output_type": "execute_result"
    }
   ],
   "source": [
    "HypeDf.tail(15)"
   ]
  },
  {
   "cell_type": "markdown",
   "metadata": {},
   "source": [
    "As a last step"
   ]
  },
  {
   "cell_type": "code",
   "execution_count": 167,
   "metadata": {},
   "outputs": [],
   "source": [
    "HypeDf=HypeDf.groupby(by=['DATE','TIME'],axis=0).sum()"
   ]
  },
  {
   "cell_type": "code",
   "execution_count": 169,
   "metadata": {},
   "outputs": [
    {
     "data": {
      "text/html": [
       "<div>\n",
       "<style scoped>\n",
       "    .dataframe tbody tr th:only-of-type {\n",
       "        vertical-align: middle;\n",
       "    }\n",
       "\n",
       "    .dataframe tbody tr th {\n",
       "        vertical-align: top;\n",
       "    }\n",
       "\n",
       "    .dataframe thead th {\n",
       "        text-align: right;\n",
       "    }\n",
       "</style>\n",
       "<table border=\"1\" class=\"dataframe\">\n",
       "  <thead>\n",
       "    <tr style=\"text-align: right;\">\n",
       "      <th></th>\n",
       "      <th></th>\n",
       "      <th>ChampionsLeague</th>\n",
       "      <th>Hype</th>\n",
       "      <th>SerieA</th>\n",
       "    </tr>\n",
       "    <tr>\n",
       "      <th>DATE</th>\n",
       "      <th>TIME</th>\n",
       "      <th></th>\n",
       "      <th></th>\n",
       "      <th></th>\n",
       "    </tr>\n",
       "  </thead>\n",
       "  <tbody>\n",
       "    <tr>\n",
       "      <th rowspan=\"4\" valign=\"top\">2018-09-18</th>\n",
       "      <th>19</th>\n",
       "      <td>1.0</td>\n",
       "      <td>2</td>\n",
       "      <td>0.0</td>\n",
       "    </tr>\n",
       "    <tr>\n",
       "      <th>20</th>\n",
       "      <td>1.0</td>\n",
       "      <td>2</td>\n",
       "      <td>0.0</td>\n",
       "    </tr>\n",
       "    <tr>\n",
       "      <th>21</th>\n",
       "      <td>1.0</td>\n",
       "      <td>2</td>\n",
       "      <td>0.0</td>\n",
       "    </tr>\n",
       "    <tr>\n",
       "      <th>22</th>\n",
       "      <td>1.0</td>\n",
       "      <td>2</td>\n",
       "      <td>0.0</td>\n",
       "    </tr>\n",
       "    <tr>\n",
       "      <th>2018-09-19</th>\n",
       "      <th>21</th>\n",
       "      <td>2.0</td>\n",
       "      <td>4</td>\n",
       "      <td>0.0</td>\n",
       "    </tr>\n",
       "  </tbody>\n",
       "</table>\n",
       "</div>"
      ],
      "text/plain": [
       "                 ChampionsLeague  Hype  SerieA\n",
       "DATE       TIME                               \n",
       "2018-09-18 19                1.0     2     0.0\n",
       "           20                1.0     2     0.0\n",
       "           21                1.0     2     0.0\n",
       "           22                1.0     2     0.0\n",
       "2018-09-19 21                2.0     4     0.0"
      ]
     },
     "execution_count": 169,
     "metadata": {},
     "output_type": "execute_result"
    }
   ],
   "source": [
    "HypeDf[HypeDf['ChampionsLeague']>0].head()"
   ]
  },
  {
   "cell_type": "code",
   "execution_count": 132,
   "metadata": {},
   "outputs": [
    {
     "data": {
      "text/plain": [
       "array([[<matplotlib.axes._subplots.AxesSubplot object at 0x00000142A8B69278>,\n",
       "        <matplotlib.axes._subplots.AxesSubplot object at 0x00000142A8B31860>],\n",
       "       [<matplotlib.axes._subplots.AxesSubplot object at 0x00000142A8B93C50>,\n",
       "        <matplotlib.axes._subplots.AxesSubplot object at 0x00000142A8C8D278>]],\n",
       "      dtype=object)"
      ]
     },
     "execution_count": 132,
     "metadata": {},
     "output_type": "execute_result"
    },
    {
     "data": {
      "image/png": "[encoded data removed]",
      "text/plain": [
       "<Figure size 432x288 with 4 Axes>"
      ]
     },
     "metadata": {},
     "output_type": "display_data"
    }
   ],
   "source": [
    "HypeDf.hist(bins=20)"
   ]
  },
  {
   "cell_type": "markdown",
   "metadata": {},
   "source": [
    "#### Conclusion of this step\n",
    "HypeDf is the numerical dataframe that should represent categorical variables given as an input. Next step is to analyse if the info calculated so far have an actual correlation on nw throughput and if they can possibly support a better traffic forecast process.\n",
    "Information about broadcaster have not been inserted, we will come back on this info after having some glance about usefulnes of what done so far"
   ]
  },
  {
   "cell_type": "code",
   "execution_count": 170,
   "metadata": {},
   "outputs": [],
   "source": [
    "HypeDf.to_csv('C:\\\\Users\\\\rpaglin\\\\OneDrive - Vodafone Group\\\\Desktop\\\\Nanodegree prj1 data\\\\HypeDf.csv')"
   ]
  },
  {
   "cell_type": "code",
   "execution_count": 171,
   "metadata": {},
   "outputs": [
    {
     "name": "stdout",
     "output_type": "stream",
     "text": [
      "<class 'pandas.core.frame.DataFrame'>\n",
      "MultiIndex: 1787 entries, (2018-08-18 00:00:00, 18) to (2021-05-23 00:00:00, 22)\n",
      "Data columns (total 3 columns):\n",
      "ChampionsLeague    1787 non-null float64\n",
      "Hype               1787 non-null int64\n",
      "SerieA             1787 non-null float64\n",
      "dtypes: float64(2), int64(1)\n",
      "memory usage: 50.4 KB\n"
     ]
    }
   ],
   "source": [
    "HypeDf.info()"
   ]
  },
  {
   "cell_type": "markdown",
   "metadata": {},
   "source": [
    "#### Final step in the \"Traffic correlation\" notebook"
   ]
  },
  {
   "cell_type": "code",
   "execution_count": null,
   "metadata": {},
   "outputs": [],
   "source": []
  }
 ],
 "metadata": {
  "kernelspec": {
   "display_name": "Python 3",
   "language": "python",
   "name": "python3"
  },
  "language_info": {
   "codemirror_mode": {
    "name": "ipython",
    "version": 3
   },
   "file_extension": ".py",
   "mimetype": "text/x-python",
   "name": "python",
   "nbconvert_exporter": "python",
   "pygments_lexer": "ipython3",
   "version": "3.6.5"
  }
 },
 "nbformat": 4,
 "nbformat_minor": 2
}
