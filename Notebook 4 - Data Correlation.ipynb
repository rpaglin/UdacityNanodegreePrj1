{
 "cells": [
  {
   "cell_type": "markdown",
   "metadata": {},
   "source": [
    "#### Notebook 4 - Addressing the questions\n",
    "Streaming of high hype sport events (particularly football matches) is creating some additional stress on network capacity.\n",
    "Topic became even more of interest when a pure internet broadcaster acquired the right for serie A matches for next season. \n",
    "The project is about some numerical investigation on the relationship between traffic growth on a mobile network in Italy and the scheduling of football matches involving italian teams. Specifically, investigation will address the following questions:\n",
    "\n",
    "- Can we identify a significative numerical correlation between mobile traffic peaks and footbal matches schedule?\n",
    "- If yes, can we add insigth for classes of football event parameters showing higher correlations (e.g. number of contemporary matches, hype of a single match, types of broadcaster)? \n",
    "- Can the information above be used to tune traffic growth forecasts on a mobile network?\n",
    "\n",
    "The activity is intended as an investigation exercise, so data actually used, though obtained from real measurement, will first be normalized to range between artificially set bounds. "
   ]
  },
  {
   "cell_type": "markdown",
   "metadata": {},
   "source": [
    "#### Datasets\n",
    "\n",
    "The notebook will leverage on following data:\n",
    "\n",
    "- Some real traffic measurement from a mobile network on a generic geographical area in Italy over about 2 years. Data are normalized in a way that reduces all used kpi to range between 1 and 2. Only normalized and region wide values are shown.\n",
    "- Scheduling of major footbal competitions involving italian teams (I considered 'Serie A' and 'Champions League')\n",
    "- Information about the broadcaster distribuiting the matches (internet only or pay tv+internet)"
   ]
  },
  {
   "cell_type": "markdown",
   "metadata": {},
   "source": [
    "#### Notebook organization\n",
    "Activity is organized into different jupyter notebooks:\n",
    "- The first notebook  is about preparing reading traffic data and adding normalization. As actual starting data will not be shared, this notebook is only intended for reference\n",
    "- The second notebook will analize and prepare normalized data for actual usage \n",
    "- Third notebook reads, manipulates and prepare sport events dataframe\n",
    "- Fourth notebook (the present one) merges all collected and preprocessed data and investigate relationship to try to answer the target questions"
   ]
  },
  {
   "cell_type": "code",
   "execution_count": 555,
   "metadata": {},
   "outputs": [],
   "source": [
    "import numpy as np\n",
    "import pandas as pd\n",
    "import matplotlib.pyplot as plt\n",
    "from sklearn.linear_model import LinearRegression\n",
    "from sklearn.model_selection import train_test_split\n",
    "from sklearn.metrics import r2_score, mean_squared_error\n",
    "import seaborn as sns\n",
    "import cufflinks as cf\n",
    "%matplotlib inline"
   ]
  },
  {
   "cell_type": "markdown",
   "metadata": {},
   "source": [
    "First, we read and merge the two dataframes prepared in other notebooks"
   ]
  },
  {
   "cell_type": "code",
   "execution_count": 556,
   "metadata": {},
   "outputs": [],
   "source": [
    "Nw_Df=pd.read_csv('C:\\\\Users\\\\rpaglin\\\\OneDrive - Vodafone Group\\\\Desktop\\\\Nanodegree prj1 data\\\\nw_df.csv')"
   ]
  },
  {
   "cell_type": "code",
   "execution_count": 557,
   "metadata": {},
   "outputs": [],
   "source": [
    "Hype_Df=pd.read_csv('C:\\\\Users\\\\rpaglin\\\\OneDrive - Vodafone Group\\\\Desktop\\\\Nanodegree prj1 data\\\\HypeDf.csv')"
   ]
  },
  {
   "cell_type": "code",
   "execution_count": 558,
   "metadata": {},
   "outputs": [],
   "source": [
    "Nw_Df['DATE']=Nw_Df['DATE'].apply(lambda x: pd.datetime(int(x[0:4]),int(x[5:7]),int(x[8:10])))"
   ]
  },
  {
   "cell_type": "code",
   "execution_count": 559,
   "metadata": {},
   "outputs": [],
   "source": [
    "Nw_Df=Nw_Df.set_index(['DATE','TIME'])"
   ]
  },
  {
   "cell_type": "code",
   "execution_count": 560,
   "metadata": {},
   "outputs": [],
   "source": [
    "Hype_Df['DATE']=Hype_Df['DATE'].apply(lambda x: pd.datetime(int(x[0:4]),int(x[5:7]),int(x[8:10])))"
   ]
  },
  {
   "cell_type": "code",
   "execution_count": 561,
   "metadata": {},
   "outputs": [],
   "source": [
    "Hype_Df=Hype_Df.set_index(['DATE','TIME'])"
   ]
  },
  {
   "cell_type": "code",
   "execution_count": 562,
   "metadata": {},
   "outputs": [
    {
     "name": "stdout",
     "output_type": "stream",
     "text": [
      "<class 'pandas.core.frame.DataFrame'>\n",
      "MultiIndex: 1787 entries, (2018-08-18 00:00:00, 18) to (2021-05-23 00:00:00, 22)\n",
      "Data columns (total 3 columns):\n",
      "ChampionsLeague    1787 non-null float64\n",
      "Hype               1787 non-null int64\n",
      "SerieA             1787 non-null float64\n",
      "dtypes: float64(2), int64(1)\n",
      "memory usage: 50.4 KB\n"
     ]
    }
   ],
   "source": [
    "Hype_Df.info()"
   ]
  },
  {
   "cell_type": "code",
   "execution_count": 563,
   "metadata": {},
   "outputs": [
    {
     "name": "stdout",
     "output_type": "stream",
     "text": [
      "<class 'pandas.core.frame.DataFrame'>\n",
      "MultiIndex: 20827 entries, (2019-01-01 00:00:00, 0) to (2021-05-28 00:00:00, 14)\n",
      "Data columns (total 2 columns):\n",
      "Thr (Norm)     20827 non-null float64\n",
      "Conn (Norm)    20827 non-null float64\n",
      "dtypes: float64(2)\n",
      "memory usage: 393.6 KB\n"
     ]
    }
   ],
   "source": [
    "Nw_Df.info()"
   ]
  },
  {
   "cell_type": "code",
   "execution_count": 564,
   "metadata": {},
   "outputs": [],
   "source": [
    "df=pd.concat([Nw_Df,Hype_Df],axis=1)"
   ]
  },
  {
   "cell_type": "code",
   "execution_count": 565,
   "metadata": {},
   "outputs": [
    {
     "name": "stdout",
     "output_type": "stream",
     "text": [
      "<class 'pandas.core.frame.DataFrame'>\n",
      "MultiIndex: 21129 entries, (2018-08-18 00:00:00, 18) to (2021-05-28 00:00:00, 14)\n",
      "Data columns (total 5 columns):\n",
      "Thr (Norm)         20827 non-null float64\n",
      "Conn (Norm)        20827 non-null float64\n",
      "ChampionsLeague    1787 non-null float64\n",
      "Hype               1787 non-null float64\n",
      "SerieA             1787 non-null float64\n",
      "dtypes: float64(5)\n",
      "memory usage: 894.9 KB\n"
     ]
    }
   ],
   "source": [
    "df.info()"
   ]
  },
  {
   "cell_type": "markdown",
   "metadata": {},
   "source": [
    "Then we manage Nan generated from the merge:\n",
    "- we insert 0 in the footbal matches info for rows without matches and with network measurements\n",
    "- we drop the lines with matches but no network measures"
   ]
  },
  {
   "cell_type": "code",
   "execution_count": 566,
   "metadata": {},
   "outputs": [
    {
     "data": {
      "text/html": [
       "<div>\n",
       "<style scoped>\n",
       "    .dataframe tbody tr th:only-of-type {\n",
       "        vertical-align: middle;\n",
       "    }\n",
       "\n",
       "    .dataframe tbody tr th {\n",
       "        vertical-align: top;\n",
       "    }\n",
       "\n",
       "    .dataframe thead th {\n",
       "        text-align: right;\n",
       "    }\n",
       "</style>\n",
       "<table border=\"1\" class=\"dataframe\">\n",
       "  <thead>\n",
       "    <tr style=\"text-align: right;\">\n",
       "      <th></th>\n",
       "      <th></th>\n",
       "      <th>Thr (Norm)</th>\n",
       "      <th>Conn (Norm)</th>\n",
       "      <th>ChampionsLeague</th>\n",
       "      <th>Hype</th>\n",
       "      <th>SerieA</th>\n",
       "    </tr>\n",
       "    <tr>\n",
       "      <th>DATE</th>\n",
       "      <th>TIME</th>\n",
       "      <th></th>\n",
       "      <th></th>\n",
       "      <th></th>\n",
       "      <th></th>\n",
       "      <th></th>\n",
       "    </tr>\n",
       "  </thead>\n",
       "  <tbody>\n",
       "    <tr>\n",
       "      <th rowspan=\"5\" valign=\"top\">2021-05-28</th>\n",
       "      <th>10</th>\n",
       "      <td>1.349436</td>\n",
       "      <td>2.003036</td>\n",
       "      <td>NaN</td>\n",
       "      <td>NaN</td>\n",
       "      <td>NaN</td>\n",
       "    </tr>\n",
       "    <tr>\n",
       "      <th>11</th>\n",
       "      <td>1.397872</td>\n",
       "      <td>2.005011</td>\n",
       "      <td>NaN</td>\n",
       "      <td>NaN</td>\n",
       "      <td>NaN</td>\n",
       "    </tr>\n",
       "    <tr>\n",
       "      <th>12</th>\n",
       "      <td>1.507205</td>\n",
       "      <td>1.992988</td>\n",
       "      <td>NaN</td>\n",
       "      <td>NaN</td>\n",
       "      <td>NaN</td>\n",
       "    </tr>\n",
       "    <tr>\n",
       "      <th>13</th>\n",
       "      <td>1.598983</td>\n",
       "      <td>1.976059</td>\n",
       "      <td>NaN</td>\n",
       "      <td>NaN</td>\n",
       "      <td>NaN</td>\n",
       "    </tr>\n",
       "    <tr>\n",
       "      <th>14</th>\n",
       "      <td>1.694435</td>\n",
       "      <td>1.971523</td>\n",
       "      <td>NaN</td>\n",
       "      <td>NaN</td>\n",
       "      <td>NaN</td>\n",
       "    </tr>\n",
       "  </tbody>\n",
       "</table>\n",
       "</div>"
      ],
      "text/plain": [
       "                 Thr (Norm)  Conn (Norm)  ChampionsLeague  Hype  SerieA\n",
       "DATE       TIME                                                        \n",
       "2021-05-28 10      1.349436     2.003036              NaN   NaN     NaN\n",
       "           11      1.397872     2.005011              NaN   NaN     NaN\n",
       "           12      1.507205     1.992988              NaN   NaN     NaN\n",
       "           13      1.598983     1.976059              NaN   NaN     NaN\n",
       "           14      1.694435     1.971523              NaN   NaN     NaN"
      ]
     },
     "execution_count": 566,
     "metadata": {},
     "output_type": "execute_result"
    }
   ],
   "source": [
    "df.tail()"
   ]
  },
  {
   "cell_type": "code",
   "execution_count": 567,
   "metadata": {},
   "outputs": [],
   "source": [
    "df['ChampionsLeague'].fillna(0,inplace=True)\n",
    "df['SerieA'].fillna(0,inplace=True)\n",
    "df['Hype'].fillna(0,inplace=True)"
   ]
  },
  {
   "cell_type": "code",
   "execution_count": 568,
   "metadata": {},
   "outputs": [
    {
     "data": {
      "text/html": [
       "<div>\n",
       "<style scoped>\n",
       "    .dataframe tbody tr th:only-of-type {\n",
       "        vertical-align: middle;\n",
       "    }\n",
       "\n",
       "    .dataframe tbody tr th {\n",
       "        vertical-align: top;\n",
       "    }\n",
       "\n",
       "    .dataframe thead th {\n",
       "        text-align: right;\n",
       "    }\n",
       "</style>\n",
       "<table border=\"1\" class=\"dataframe\">\n",
       "  <thead>\n",
       "    <tr style=\"text-align: right;\">\n",
       "      <th></th>\n",
       "      <th></th>\n",
       "      <th>Thr (Norm)</th>\n",
       "      <th>Conn (Norm)</th>\n",
       "      <th>ChampionsLeague</th>\n",
       "      <th>Hype</th>\n",
       "      <th>SerieA</th>\n",
       "    </tr>\n",
       "    <tr>\n",
       "      <th>DATE</th>\n",
       "      <th>TIME</th>\n",
       "      <th></th>\n",
       "      <th></th>\n",
       "      <th></th>\n",
       "      <th></th>\n",
       "      <th></th>\n",
       "    </tr>\n",
       "  </thead>\n",
       "  <tbody>\n",
       "    <tr>\n",
       "      <th rowspan=\"10\" valign=\"top\">2021-05-28</th>\n",
       "      <th>5</th>\n",
       "      <td>0.516417</td>\n",
       "      <td>1.604000</td>\n",
       "      <td>0.0</td>\n",
       "      <td>0.0</td>\n",
       "      <td>0.0</td>\n",
       "    </tr>\n",
       "    <tr>\n",
       "      <th>6</th>\n",
       "      <td>0.714319</td>\n",
       "      <td>1.659888</td>\n",
       "      <td>0.0</td>\n",
       "      <td>0.0</td>\n",
       "      <td>0.0</td>\n",
       "    </tr>\n",
       "    <tr>\n",
       "      <th>7</th>\n",
       "      <td>1.017623</td>\n",
       "      <td>1.788548</td>\n",
       "      <td>0.0</td>\n",
       "      <td>0.0</td>\n",
       "      <td>0.0</td>\n",
       "    </tr>\n",
       "    <tr>\n",
       "      <th>8</th>\n",
       "      <td>1.192673</td>\n",
       "      <td>1.915676</td>\n",
       "      <td>0.0</td>\n",
       "      <td>0.0</td>\n",
       "      <td>0.0</td>\n",
       "    </tr>\n",
       "    <tr>\n",
       "      <th>9</th>\n",
       "      <td>1.295367</td>\n",
       "      <td>1.978635</td>\n",
       "      <td>0.0</td>\n",
       "      <td>0.0</td>\n",
       "      <td>0.0</td>\n",
       "    </tr>\n",
       "    <tr>\n",
       "      <th>10</th>\n",
       "      <td>1.349436</td>\n",
       "      <td>2.003036</td>\n",
       "      <td>0.0</td>\n",
       "      <td>0.0</td>\n",
       "      <td>0.0</td>\n",
       "    </tr>\n",
       "    <tr>\n",
       "      <th>11</th>\n",
       "      <td>1.397872</td>\n",
       "      <td>2.005011</td>\n",
       "      <td>0.0</td>\n",
       "      <td>0.0</td>\n",
       "      <td>0.0</td>\n",
       "    </tr>\n",
       "    <tr>\n",
       "      <th>12</th>\n",
       "      <td>1.507205</td>\n",
       "      <td>1.992988</td>\n",
       "      <td>0.0</td>\n",
       "      <td>0.0</td>\n",
       "      <td>0.0</td>\n",
       "    </tr>\n",
       "    <tr>\n",
       "      <th>13</th>\n",
       "      <td>1.598983</td>\n",
       "      <td>1.976059</td>\n",
       "      <td>0.0</td>\n",
       "      <td>0.0</td>\n",
       "      <td>0.0</td>\n",
       "    </tr>\n",
       "    <tr>\n",
       "      <th>14</th>\n",
       "      <td>1.694435</td>\n",
       "      <td>1.971523</td>\n",
       "      <td>0.0</td>\n",
       "      <td>0.0</td>\n",
       "      <td>0.0</td>\n",
       "    </tr>\n",
       "  </tbody>\n",
       "</table>\n",
       "</div>"
      ],
      "text/plain": [
       "                 Thr (Norm)  Conn (Norm)  ChampionsLeague  Hype  SerieA\n",
       "DATE       TIME                                                        \n",
       "2021-05-28 5       0.516417     1.604000              0.0   0.0     0.0\n",
       "           6       0.714319     1.659888              0.0   0.0     0.0\n",
       "           7       1.017623     1.788548              0.0   0.0     0.0\n",
       "           8       1.192673     1.915676              0.0   0.0     0.0\n",
       "           9       1.295367     1.978635              0.0   0.0     0.0\n",
       "           10      1.349436     2.003036              0.0   0.0     0.0\n",
       "           11      1.397872     2.005011              0.0   0.0     0.0\n",
       "           12      1.507205     1.992988              0.0   0.0     0.0\n",
       "           13      1.598983     1.976059              0.0   0.0     0.0\n",
       "           14      1.694435     1.971523              0.0   0.0     0.0"
      ]
     },
     "execution_count": 568,
     "metadata": {},
     "output_type": "execute_result"
    }
   ],
   "source": [
    "df.tail(10)"
   ]
  },
  {
   "cell_type": "code",
   "execution_count": 569,
   "metadata": {},
   "outputs": [
    {
     "name": "stdout",
     "output_type": "stream",
     "text": [
      "<class 'pandas.core.frame.DataFrame'>\n",
      "MultiIndex: 21129 entries, (2018-08-18 00:00:00, 18) to (2021-05-28 00:00:00, 14)\n",
      "Data columns (total 5 columns):\n",
      "Thr (Norm)         20827 non-null float64\n",
      "Conn (Norm)        20827 non-null float64\n",
      "ChampionsLeague    21129 non-null float64\n",
      "Hype               21129 non-null float64\n",
      "SerieA             21129 non-null float64\n",
      "dtypes: float64(5)\n",
      "memory usage: 894.9 KB\n"
     ]
    }
   ],
   "source": [
    "df.info()"
   ]
  },
  {
   "cell_type": "code",
   "execution_count": 570,
   "metadata": {},
   "outputs": [],
   "source": [
    "df=df.dropna(axis=0)"
   ]
  },
  {
   "cell_type": "code",
   "execution_count": 571,
   "metadata": {},
   "outputs": [
    {
     "name": "stdout",
     "output_type": "stream",
     "text": [
      "<class 'pandas.core.frame.DataFrame'>\n",
      "MultiIndex: 20827 entries, (2019-01-01 00:00:00, 0) to (2021-05-28 00:00:00, 14)\n",
      "Data columns (total 5 columns):\n",
      "Thr (Norm)         20827 non-null float64\n",
      "Conn (Norm)        20827 non-null float64\n",
      "ChampionsLeague    20827 non-null float64\n",
      "Hype               20827 non-null float64\n",
      "SerieA             20827 non-null float64\n",
      "dtypes: float64(5)\n",
      "memory usage: 882.2 KB\n"
     ]
    }
   ],
   "source": [
    "df.info()"
   ]
  },
  {
   "cell_type": "markdown",
   "metadata": {},
   "source": [
    "At this point all relevant data are in a single df and we don't have more Nan value.\n",
    "Let's check the content of the DF in a sunday with SerieA matches:"
   ]
  },
  {
   "cell_type": "code",
   "execution_count": 572,
   "metadata": {},
   "outputs": [
    {
     "data": {
      "text/html": [
       "<div>\n",
       "<style scoped>\n",
       "    .dataframe tbody tr th:only-of-type {\n",
       "        vertical-align: middle;\n",
       "    }\n",
       "\n",
       "    .dataframe tbody tr th {\n",
       "        vertical-align: top;\n",
       "    }\n",
       "\n",
       "    .dataframe thead th {\n",
       "        text-align: right;\n",
       "    }\n",
       "</style>\n",
       "<table border=\"1\" class=\"dataframe\">\n",
       "  <thead>\n",
       "    <tr style=\"text-align: right;\">\n",
       "      <th></th>\n",
       "      <th>Thr (Norm)</th>\n",
       "      <th>Conn (Norm)</th>\n",
       "      <th>ChampionsLeague</th>\n",
       "      <th>Hype</th>\n",
       "      <th>SerieA</th>\n",
       "    </tr>\n",
       "    <tr>\n",
       "      <th>TIME</th>\n",
       "      <th></th>\n",
       "      <th></th>\n",
       "      <th></th>\n",
       "      <th></th>\n",
       "      <th></th>\n",
       "    </tr>\n",
       "  </thead>\n",
       "  <tbody>\n",
       "    <tr>\n",
       "      <th>0</th>\n",
       "      <td>1.403261</td>\n",
       "      <td>1.651505</td>\n",
       "      <td>0.0</td>\n",
       "      <td>0.0</td>\n",
       "      <td>0.0</td>\n",
       "    </tr>\n",
       "    <tr>\n",
       "      <th>1</th>\n",
       "      <td>1.017881</td>\n",
       "      <td>1.609515</td>\n",
       "      <td>0.0</td>\n",
       "      <td>0.0</td>\n",
       "      <td>0.0</td>\n",
       "    </tr>\n",
       "    <tr>\n",
       "      <th>2</th>\n",
       "      <td>0.769966</td>\n",
       "      <td>1.584168</td>\n",
       "      <td>0.0</td>\n",
       "      <td>0.0</td>\n",
       "      <td>0.0</td>\n",
       "    </tr>\n",
       "    <tr>\n",
       "      <th>3</th>\n",
       "      <td>0.584770</td>\n",
       "      <td>1.566506</td>\n",
       "      <td>0.0</td>\n",
       "      <td>0.0</td>\n",
       "      <td>0.0</td>\n",
       "    </tr>\n",
       "    <tr>\n",
       "      <th>4</th>\n",
       "      <td>0.489827</td>\n",
       "      <td>1.558430</td>\n",
       "      <td>0.0</td>\n",
       "      <td>0.0</td>\n",
       "      <td>0.0</td>\n",
       "    </tr>\n",
       "    <tr>\n",
       "      <th>5</th>\n",
       "      <td>0.469985</td>\n",
       "      <td>1.557944</td>\n",
       "      <td>0.0</td>\n",
       "      <td>0.0</td>\n",
       "      <td>0.0</td>\n",
       "    </tr>\n",
       "    <tr>\n",
       "      <th>6</th>\n",
       "      <td>0.536909</td>\n",
       "      <td>1.570746</td>\n",
       "      <td>0.0</td>\n",
       "      <td>0.0</td>\n",
       "      <td>0.0</td>\n",
       "    </tr>\n",
       "    <tr>\n",
       "      <th>7</th>\n",
       "      <td>0.759818</td>\n",
       "      <td>1.610016</td>\n",
       "      <td>0.0</td>\n",
       "      <td>0.0</td>\n",
       "      <td>0.0</td>\n",
       "    </tr>\n",
       "    <tr>\n",
       "      <th>8</th>\n",
       "      <td>1.069868</td>\n",
       "      <td>1.684940</td>\n",
       "      <td>0.0</td>\n",
       "      <td>0.0</td>\n",
       "      <td>0.0</td>\n",
       "    </tr>\n",
       "    <tr>\n",
       "      <th>9</th>\n",
       "      <td>1.320998</td>\n",
       "      <td>1.775039</td>\n",
       "      <td>0.0</td>\n",
       "      <td>0.0</td>\n",
       "      <td>0.0</td>\n",
       "    </tr>\n",
       "    <tr>\n",
       "      <th>10</th>\n",
       "      <td>1.448029</td>\n",
       "      <td>1.844943</td>\n",
       "      <td>0.0</td>\n",
       "      <td>0.0</td>\n",
       "      <td>0.0</td>\n",
       "    </tr>\n",
       "    <tr>\n",
       "      <th>11</th>\n",
       "      <td>1.505840</td>\n",
       "      <td>1.879066</td>\n",
       "      <td>0.0</td>\n",
       "      <td>0.0</td>\n",
       "      <td>0.0</td>\n",
       "    </tr>\n",
       "    <tr>\n",
       "      <th>12</th>\n",
       "      <td>1.560794</td>\n",
       "      <td>1.874098</td>\n",
       "      <td>0.0</td>\n",
       "      <td>3.0</td>\n",
       "      <td>1.0</td>\n",
       "    </tr>\n",
       "    <tr>\n",
       "      <th>13</th>\n",
       "      <td>1.672365</td>\n",
       "      <td>1.850970</td>\n",
       "      <td>0.0</td>\n",
       "      <td>3.0</td>\n",
       "      <td>1.0</td>\n",
       "    </tr>\n",
       "    <tr>\n",
       "      <th>14</th>\n",
       "      <td>1.820975</td>\n",
       "      <td>1.856363</td>\n",
       "      <td>0.0</td>\n",
       "      <td>0.0</td>\n",
       "      <td>0.0</td>\n",
       "    </tr>\n",
       "    <tr>\n",
       "      <th>15</th>\n",
       "      <td>1.894475</td>\n",
       "      <td>1.869077</td>\n",
       "      <td>0.0</td>\n",
       "      <td>7.0</td>\n",
       "      <td>3.0</td>\n",
       "    </tr>\n",
       "    <tr>\n",
       "      <th>16</th>\n",
       "      <td>1.890827</td>\n",
       "      <td>1.879834</td>\n",
       "      <td>0.0</td>\n",
       "      <td>7.0</td>\n",
       "      <td>3.0</td>\n",
       "    </tr>\n",
       "    <tr>\n",
       "      <th>17</th>\n",
       "      <td>1.850043</td>\n",
       "      <td>1.885122</td>\n",
       "      <td>0.0</td>\n",
       "      <td>0.0</td>\n",
       "      <td>0.0</td>\n",
       "    </tr>\n",
       "    <tr>\n",
       "      <th>18</th>\n",
       "      <td>1.921269</td>\n",
       "      <td>1.882863</td>\n",
       "      <td>0.0</td>\n",
       "      <td>2.0</td>\n",
       "      <td>1.0</td>\n",
       "    </tr>\n",
       "    <tr>\n",
       "      <th>19</th>\n",
       "      <td>1.893911</td>\n",
       "      <td>1.867565</td>\n",
       "      <td>0.0</td>\n",
       "      <td>2.0</td>\n",
       "      <td>1.0</td>\n",
       "    </tr>\n",
       "    <tr>\n",
       "      <th>20</th>\n",
       "      <td>1.942031</td>\n",
       "      <td>1.845439</td>\n",
       "      <td>0.0</td>\n",
       "      <td>0.0</td>\n",
       "      <td>0.0</td>\n",
       "    </tr>\n",
       "    <tr>\n",
       "      <th>21</th>\n",
       "      <td>2.102477</td>\n",
       "      <td>1.815707</td>\n",
       "      <td>0.0</td>\n",
       "      <td>3.0</td>\n",
       "      <td>1.0</td>\n",
       "    </tr>\n",
       "    <tr>\n",
       "      <th>22</th>\n",
       "      <td>2.039808</td>\n",
       "      <td>1.758356</td>\n",
       "      <td>0.0</td>\n",
       "      <td>3.0</td>\n",
       "      <td>1.0</td>\n",
       "    </tr>\n",
       "    <tr>\n",
       "      <th>23</th>\n",
       "      <td>1.653899</td>\n",
       "      <td>1.684938</td>\n",
       "      <td>0.0</td>\n",
       "      <td>0.0</td>\n",
       "      <td>0.0</td>\n",
       "    </tr>\n",
       "  </tbody>\n",
       "</table>\n",
       "</div>"
      ],
      "text/plain": [
       "      Thr (Norm)  Conn (Norm)  ChampionsLeague  Hype  SerieA\n",
       "TIME                                                        \n",
       "0       1.403261     1.651505              0.0   0.0     0.0\n",
       "1       1.017881     1.609515              0.0   0.0     0.0\n",
       "2       0.769966     1.584168              0.0   0.0     0.0\n",
       "3       0.584770     1.566506              0.0   0.0     0.0\n",
       "4       0.489827     1.558430              0.0   0.0     0.0\n",
       "5       0.469985     1.557944              0.0   0.0     0.0\n",
       "6       0.536909     1.570746              0.0   0.0     0.0\n",
       "7       0.759818     1.610016              0.0   0.0     0.0\n",
       "8       1.069868     1.684940              0.0   0.0     0.0\n",
       "9       1.320998     1.775039              0.0   0.0     0.0\n",
       "10      1.448029     1.844943              0.0   0.0     0.0\n",
       "11      1.505840     1.879066              0.0   0.0     0.0\n",
       "12      1.560794     1.874098              0.0   3.0     1.0\n",
       "13      1.672365     1.850970              0.0   3.0     1.0\n",
       "14      1.820975     1.856363              0.0   0.0     0.0\n",
       "15      1.894475     1.869077              0.0   7.0     3.0\n",
       "16      1.890827     1.879834              0.0   7.0     3.0\n",
       "17      1.850043     1.885122              0.0   0.0     0.0\n",
       "18      1.921269     1.882863              0.0   2.0     1.0\n",
       "19      1.893911     1.867565              0.0   2.0     1.0\n",
       "20      1.942031     1.845439              0.0   0.0     0.0\n",
       "21      2.102477     1.815707              0.0   3.0     1.0\n",
       "22      2.039808     1.758356              0.0   3.0     1.0\n",
       "23      1.653899     1.684938              0.0   0.0     0.0"
      ]
     },
     "execution_count": 572,
     "metadata": {},
     "output_type": "execute_result"
    }
   ],
   "source": [
    "df.loc[pd.datetime(2021, 3, 7)] #a sunday with matches"
   ]
  },
  {
   "cell_type": "markdown",
   "metadata": {},
   "source": [
    "As expected, 6 Serie A matches are visible in the outcome, 1 started around Midday, 3 around 6pm 1 at 6pm anf the last at 9pm.  \n",
    "Now that data are ready we can start addressing the questions. First 1 is:"
   ]
  },
  {
   "cell_type": "markdown",
   "metadata": {},
   "source": [
    "#### Question 1: Can we identify a significative numerical correlation between mobile traffic peaks and footbal matches schedule?"
   ]
  },
  {
   "cell_type": "markdown",
   "metadata": {},
   "source": [
    "Let's start from correlation matrices. We consider correlation both on the whole dataframe and on a dataframe only considering daily peak figures"
   ]
  },
  {
   "cell_type": "code",
   "execution_count": 573,
   "metadata": {},
   "outputs": [
    {
     "data": {
      "text/html": [
       "<style  type=\"text/css\" >\n",
       "    #T_0e3d10b4_c60c_11eb_b577_d4d252ca6611row0_col0 {\n",
       "            background-color:  #b40426;\n",
       "        }    #T_0e3d10b4_c60c_11eb_b577_d4d252ca6611row0_col1 {\n",
       "            background-color:  #f7ac8e;\n",
       "        }    #T_0e3d10b4_c60c_11eb_b577_d4d252ca6611row0_col2 {\n",
       "            background-color:  #5673e0;\n",
       "        }    #T_0e3d10b4_c60c_11eb_b577_d4d252ca6611row0_col3 {\n",
       "            background-color:  #7396f5;\n",
       "        }    #T_0e3d10b4_c60c_11eb_b577_d4d252ca6611row0_col4 {\n",
       "            background-color:  #85a8fc;\n",
       "        }    #T_0e3d10b4_c60c_11eb_b577_d4d252ca6611row1_col0 {\n",
       "            background-color:  #f7b497;\n",
       "        }    #T_0e3d10b4_c60c_11eb_b577_d4d252ca6611row1_col1 {\n",
       "            background-color:  #b40426;\n",
       "        }    #T_0e3d10b4_c60c_11eb_b577_d4d252ca6611row1_col2 {\n",
       "            background-color:  #4257c9;\n",
       "        }    #T_0e3d10b4_c60c_11eb_b577_d4d252ca6611row1_col3 {\n",
       "            background-color:  #3b4cc0;\n",
       "        }    #T_0e3d10b4_c60c_11eb_b577_d4d252ca6611row1_col4 {\n",
       "            background-color:  #536edd;\n",
       "        }    #T_0e3d10b4_c60c_11eb_b577_d4d252ca6611row2_col0 {\n",
       "            background-color:  #3b4cc0;\n",
       "        }    #T_0e3d10b4_c60c_11eb_b577_d4d252ca6611row2_col1 {\n",
       "            background-color:  #3b4cc0;\n",
       "        }    #T_0e3d10b4_c60c_11eb_b577_d4d252ca6611row2_col2 {\n",
       "            background-color:  #b40426;\n",
       "        }    #T_0e3d10b4_c60c_11eb_b577_d4d252ca6611row2_col3 {\n",
       "            background-color:  #5470de;\n",
       "        }    #T_0e3d10b4_c60c_11eb_b577_d4d252ca6611row2_col4 {\n",
       "            background-color:  #3b4cc0;\n",
       "        }    #T_0e3d10b4_c60c_11eb_b577_d4d252ca6611row3_col0 {\n",
       "            background-color:  #6f92f3;\n",
       "        }    #T_0e3d10b4_c60c_11eb_b577_d4d252ca6611row3_col1 {\n",
       "            background-color:  #4b64d5;\n",
       "        }    #T_0e3d10b4_c60c_11eb_b577_d4d252ca6611row3_col2 {\n",
       "            background-color:  #6e90f2;\n",
       "        }    #T_0e3d10b4_c60c_11eb_b577_d4d252ca6611row3_col3 {\n",
       "            background-color:  #b40426;\n",
       "        }    #T_0e3d10b4_c60c_11eb_b577_d4d252ca6611row3_col4 {\n",
       "            background-color:  #be242e;\n",
       "        }    #T_0e3d10b4_c60c_11eb_b577_d4d252ca6611row4_col0 {\n",
       "            background-color:  #688aef;\n",
       "        }    #T_0e3d10b4_c60c_11eb_b577_d4d252ca6611row4_col1 {\n",
       "            background-color:  #4b64d5;\n",
       "        }    #T_0e3d10b4_c60c_11eb_b577_d4d252ca6611row4_col2 {\n",
       "            background-color:  #3b4cc0;\n",
       "        }    #T_0e3d10b4_c60c_11eb_b577_d4d252ca6611row4_col3 {\n",
       "            background-color:  #be242e;\n",
       "        }    #T_0e3d10b4_c60c_11eb_b577_d4d252ca6611row4_col4 {\n",
       "            background-color:  #b40426;\n",
       "        }</style>  \n",
       "<table id=\"T_0e3d10b4_c60c_11eb_b577_d4d252ca6611\" > \n",
       "<thead>    <tr> \n",
       "        <th class=\"blank level0\" ></th> \n",
       "        <th class=\"col_heading level0 col0\" >Thr (Norm)</th> \n",
       "        <th class=\"col_heading level0 col1\" >Conn (Norm)</th> \n",
       "        <th class=\"col_heading level0 col2\" >ChampionsLeague</th> \n",
       "        <th class=\"col_heading level0 col3\" >Hype</th> \n",
       "        <th class=\"col_heading level0 col4\" >SerieA</th> \n",
       "    </tr></thead> \n",
       "<tbody>    <tr> \n",
       "        <th id=\"T_0e3d10b4_c60c_11eb_b577_d4d252ca6611level0_row0\" class=\"row_heading level0 row0\" >Thr (Norm)</th> \n",
       "        <td id=\"T_0e3d10b4_c60c_11eb_b577_d4d252ca6611row0_col0\" class=\"data row0 col0\" >1</td> \n",
       "        <td id=\"T_0e3d10b4_c60c_11eb_b577_d4d252ca6611row0_col1\" class=\"data row0 col1\" >0.704787</td> \n",
       "        <td id=\"T_0e3d10b4_c60c_11eb_b577_d4d252ca6611row0_col2\" class=\"data row0 col2\" >0.0806945</td> \n",
       "        <td id=\"T_0e3d10b4_c60c_11eb_b577_d4d252ca6611row0_col3\" class=\"data row0 col3\" >0.23464</td> \n",
       "        <td id=\"T_0e3d10b4_c60c_11eb_b577_d4d252ca6611row0_col4\" class=\"data row0 col4\" >0.215682</td> \n",
       "    </tr>    <tr> \n",
       "        <th id=\"T_0e3d10b4_c60c_11eb_b577_d4d252ca6611level0_row1\" class=\"row_heading level0 row1\" >Conn (Norm)</th> \n",
       "        <td id=\"T_0e3d10b4_c60c_11eb_b577_d4d252ca6611row1_col0\" class=\"data row1 col0\" >0.704787</td> \n",
       "        <td id=\"T_0e3d10b4_c60c_11eb_b577_d4d252ca6611row1_col1\" class=\"data row1 col1\" >1</td> \n",
       "        <td id=\"T_0e3d10b4_c60c_11eb_b577_d4d252ca6611row1_col2\" class=\"data row1 col2\" >0.0130583</td> \n",
       "        <td id=\"T_0e3d10b4_c60c_11eb_b577_d4d252ca6611row1_col3\" class=\"data row1 col3\" >0.0698841</td> \n",
       "        <td id=\"T_0e3d10b4_c60c_11eb_b577_d4d252ca6611row1_col4\" class=\"data row1 col4\" >0.0677966</td> \n",
       "    </tr>    <tr> \n",
       "        <th id=\"T_0e3d10b4_c60c_11eb_b577_d4d252ca6611level0_row2\" class=\"row_heading level0 row2\" >ChampionsLeague</th> \n",
       "        <td id=\"T_0e3d10b4_c60c_11eb_b577_d4d252ca6611row2_col0\" class=\"data row2 col0\" >0.0806945</td> \n",
       "        <td id=\"T_0e3d10b4_c60c_11eb_b577_d4d252ca6611row2_col1\" class=\"data row2 col1\" >0.0130583</td> \n",
       "        <td id=\"T_0e3d10b4_c60c_11eb_b577_d4d252ca6611row2_col2\" class=\"data row2 col2\" >1</td> \n",
       "        <td id=\"T_0e3d10b4_c60c_11eb_b577_d4d252ca6611row2_col3\" class=\"data row2 col3\" >0.149751</td> \n",
       "        <td id=\"T_0e3d10b4_c60c_11eb_b577_d4d252ca6611row2_col4\" class=\"data row2 col4\" >-0.0143477</td> \n",
       "    </tr>    <tr> \n",
       "        <th id=\"T_0e3d10b4_c60c_11eb_b577_d4d252ca6611level0_row3\" class=\"row_heading level0 row3\" >Hype</th> \n",
       "        <td id=\"T_0e3d10b4_c60c_11eb_b577_d4d252ca6611row3_col0\" class=\"data row3 col0\" >0.23464</td> \n",
       "        <td id=\"T_0e3d10b4_c60c_11eb_b577_d4d252ca6611row3_col1\" class=\"data row3 col1\" >0.0698841</td> \n",
       "        <td id=\"T_0e3d10b4_c60c_11eb_b577_d4d252ca6611row3_col2\" class=\"data row3 col2\" >0.149751</td> \n",
       "        <td id=\"T_0e3d10b4_c60c_11eb_b577_d4d252ca6611row3_col3\" class=\"data row3 col3\" >1</td> \n",
       "        <td id=\"T_0e3d10b4_c60c_11eb_b577_d4d252ca6611row3_col4\" class=\"data row3 col4\" >0.971045</td> \n",
       "    </tr>    <tr> \n",
       "        <th id=\"T_0e3d10b4_c60c_11eb_b577_d4d252ca6611level0_row4\" class=\"row_heading level0 row4\" >SerieA</th> \n",
       "        <td id=\"T_0e3d10b4_c60c_11eb_b577_d4d252ca6611row4_col0\" class=\"data row4 col0\" >0.215682</td> \n",
       "        <td id=\"T_0e3d10b4_c60c_11eb_b577_d4d252ca6611row4_col1\" class=\"data row4 col1\" >0.0677966</td> \n",
       "        <td id=\"T_0e3d10b4_c60c_11eb_b577_d4d252ca6611row4_col2\" class=\"data row4 col2\" >-0.0143477</td> \n",
       "        <td id=\"T_0e3d10b4_c60c_11eb_b577_d4d252ca6611row4_col3\" class=\"data row4 col3\" >0.971045</td> \n",
       "        <td id=\"T_0e3d10b4_c60c_11eb_b577_d4d252ca6611row4_col4\" class=\"data row4 col4\" >1</td> \n",
       "    </tr></tbody> \n",
       "</table> "
      ],
      "text/plain": [
       "<pandas.io.formats.style.Styler at 0x21b2b857d30>"
      ]
     },
     "execution_count": 573,
     "metadata": {},
     "output_type": "execute_result"
    }
   ],
   "source": [
    "corr = df.corr()\n",
    "corr.style.background_gradient(cmap='coolwarm')"
   ]
  },
  {
   "cell_type": "code",
   "execution_count": 574,
   "metadata": {},
   "outputs": [
    {
     "data": {
      "text/html": [
       "<style  type=\"text/css\" >\n",
       "    #T_0e9bc1c6_c60c_11eb_b542_d4d252ca6611row0_col0 {\n",
       "            background-color:  #b40426;\n",
       "        }    #T_0e9bc1c6_c60c_11eb_b542_d4d252ca6611row0_col1 {\n",
       "            background-color:  #c0282f;\n",
       "        }    #T_0e9bc1c6_c60c_11eb_b542_d4d252ca6611row0_col2 {\n",
       "            background-color:  #6788ee;\n",
       "        }    #T_0e9bc1c6_c60c_11eb_b542_d4d252ca6611row0_col3 {\n",
       "            background-color:  #5572df;\n",
       "        }    #T_0e9bc1c6_c60c_11eb_b542_d4d252ca6611row0_col4 {\n",
       "            background-color:  #85a8fc;\n",
       "        }    #T_0e9bc1c6_c60c_11eb_b542_d4d252ca6611row1_col0 {\n",
       "            background-color:  #c0282f;\n",
       "        }    #T_0e9bc1c6_c60c_11eb_b542_d4d252ca6611row1_col1 {\n",
       "            background-color:  #b40426;\n",
       "        }    #T_0e9bc1c6_c60c_11eb_b542_d4d252ca6611row1_col2 {\n",
       "            background-color:  #6282ea;\n",
       "        }    #T_0e9bc1c6_c60c_11eb_b542_d4d252ca6611row1_col3 {\n",
       "            background-color:  #3c4ec2;\n",
       "        }    #T_0e9bc1c6_c60c_11eb_b542_d4d252ca6611row1_col4 {\n",
       "            background-color:  #6f92f3;\n",
       "        }    #T_0e9bc1c6_c60c_11eb_b542_d4d252ca6611row2_col0 {\n",
       "            background-color:  #3b4cc0;\n",
       "        }    #T_0e9bc1c6_c60c_11eb_b542_d4d252ca6611row2_col1 {\n",
       "            background-color:  #3b4cc0;\n",
       "        }    #T_0e9bc1c6_c60c_11eb_b542_d4d252ca6611row2_col2 {\n",
       "            background-color:  #b40426;\n",
       "        }    #T_0e9bc1c6_c60c_11eb_b542_d4d252ca6611row2_col3 {\n",
       "            background-color:  #3b4cc0;\n",
       "        }    #T_0e9bc1c6_c60c_11eb_b542_d4d252ca6611row2_col4 {\n",
       "            background-color:  #3b4cc0;\n",
       "        }    #T_0e9bc1c6_c60c_11eb_b542_d4d252ca6611row3_col0 {\n",
       "            background-color:  #5e7de7;\n",
       "        }    #T_0e9bc1c6_c60c_11eb_b542_d4d252ca6611row3_col1 {\n",
       "            background-color:  #4961d2;\n",
       "        }    #T_0e9bc1c6_c60c_11eb_b542_d4d252ca6611row3_col2 {\n",
       "            background-color:  #7093f3;\n",
       "        }    #T_0e9bc1c6_c60c_11eb_b542_d4d252ca6611row3_col3 {\n",
       "            background-color:  #b40426;\n",
       "        }    #T_0e9bc1c6_c60c_11eb_b542_d4d252ca6611row3_col4 {\n",
       "            background-color:  #be242e;\n",
       "        }    #T_0e9bc1c6_c60c_11eb_b542_d4d252ca6611row4_col0 {\n",
       "            background-color:  #5977e3;\n",
       "        }    #T_0e9bc1c6_c60c_11eb_b542_d4d252ca6611row4_col1 {\n",
       "            background-color:  #485fd1;\n",
       "        }    #T_0e9bc1c6_c60c_11eb_b542_d4d252ca6611row4_col2 {\n",
       "            background-color:  #3b4cc0;\n",
       "        }    #T_0e9bc1c6_c60c_11eb_b542_d4d252ca6611row4_col3 {\n",
       "            background-color:  #c0282f;\n",
       "        }    #T_0e9bc1c6_c60c_11eb_b542_d4d252ca6611row4_col4 {\n",
       "            background-color:  #b40426;\n",
       "        }</style>  \n",
       "<table id=\"T_0e9bc1c6_c60c_11eb_b542_d4d252ca6611\" > \n",
       "<thead>    <tr> \n",
       "        <th class=\"blank level0\" ></th> \n",
       "        <th class=\"col_heading level0 col0\" >Thr (Norm)</th> \n",
       "        <th class=\"col_heading level0 col1\" >Conn (Norm)</th> \n",
       "        <th class=\"col_heading level0 col2\" >ChampionsLeague</th> \n",
       "        <th class=\"col_heading level0 col3\" >Hype</th> \n",
       "        <th class=\"col_heading level0 col4\" >SerieA</th> \n",
       "    </tr></thead> \n",
       "<tbody>    <tr> \n",
       "        <th id=\"T_0e9bc1c6_c60c_11eb_b542_d4d252ca6611level0_row0\" class=\"row_heading level0 row0\" >Thr (Norm)</th> \n",
       "        <td id=\"T_0e9bc1c6_c60c_11eb_b542_d4d252ca6611row0_col0\" class=\"data row0 col0\" >1</td> \n",
       "        <td id=\"T_0e9bc1c6_c60c_11eb_b542_d4d252ca6611row0_col1\" class=\"data row0 col1\" >0.969101</td> \n",
       "        <td id=\"T_0e9bc1c6_c60c_11eb_b542_d4d252ca6611row0_col2\" class=\"data row0 col2\" >0.0545621</td> \n",
       "        <td id=\"T_0e9bc1c6_c60c_11eb_b542_d4d252ca6611row0_col3\" class=\"data row0 col3\" >0.162409</td> \n",
       "        <td id=\"T_0e9bc1c6_c60c_11eb_b542_d4d252ca6611row0_col4\" class=\"data row0 col4\" >0.149262</td> \n",
       "    </tr>    <tr> \n",
       "        <th id=\"T_0e9bc1c6_c60c_11eb_b542_d4d252ca6611level0_row1\" class=\"row_heading level0 row1\" >Conn (Norm)</th> \n",
       "        <td id=\"T_0e9bc1c6_c60c_11eb_b542_d4d252ca6611row1_col0\" class=\"data row1 col0\" >0.969101</td> \n",
       "        <td id=\"T_0e9bc1c6_c60c_11eb_b542_d4d252ca6611row1_col1\" class=\"data row1 col1\" >1</td> \n",
       "        <td id=\"T_0e9bc1c6_c60c_11eb_b542_d4d252ca6611row1_col2\" class=\"data row1 col2\" >0.0393025</td> \n",
       "        <td id=\"T_0e9bc1c6_c60c_11eb_b542_d4d252ca6611row1_col3\" class=\"data row1 col3\" >0.0875547</td> \n",
       "        <td id=\"T_0e9bc1c6_c60c_11eb_b542_d4d252ca6611row1_col4\" class=\"data row1 col4\" >0.0806997</td> \n",
       "    </tr>    <tr> \n",
       "        <th id=\"T_0e9bc1c6_c60c_11eb_b542_d4d252ca6611level0_row2\" class=\"row_heading level0 row2\" >ChampionsLeague</th> \n",
       "        <td id=\"T_0e9bc1c6_c60c_11eb_b542_d4d252ca6611row2_col0\" class=\"data row2 col0\" >0.0545621</td> \n",
       "        <td id=\"T_0e9bc1c6_c60c_11eb_b542_d4d252ca6611row2_col1\" class=\"data row2 col1\" >0.0393025</td> \n",
       "        <td id=\"T_0e9bc1c6_c60c_11eb_b542_d4d252ca6611row2_col2\" class=\"data row2 col2\" >1</td> \n",
       "        <td id=\"T_0e9bc1c6_c60c_11eb_b542_d4d252ca6611row2_col3\" class=\"data row2 col3\" >0.0836413</td> \n",
       "        <td id=\"T_0e9bc1c6_c60c_11eb_b542_d4d252ca6611row2_col4\" class=\"data row2 col4\" >-0.101828</td> \n",
       "    </tr>    <tr> \n",
       "        <th id=\"T_0e9bc1c6_c60c_11eb_b542_d4d252ca6611level0_row3\" class=\"row_heading level0 row3\" >Hype</th> \n",
       "        <td id=\"T_0e9bc1c6_c60c_11eb_b542_d4d252ca6611row3_col0\" class=\"data row3 col0\" >0.162409</td> \n",
       "        <td id=\"T_0e9bc1c6_c60c_11eb_b542_d4d252ca6611row3_col1\" class=\"data row3 col1\" >0.0875547</td> \n",
       "        <td id=\"T_0e9bc1c6_c60c_11eb_b542_d4d252ca6611row3_col2\" class=\"data row3 col2\" >0.0836413</td> \n",
       "        <td id=\"T_0e9bc1c6_c60c_11eb_b542_d4d252ca6611row3_col3\" class=\"data row3 col3\" >1</td> \n",
       "        <td id=\"T_0e9bc1c6_c60c_11eb_b542_d4d252ca6611row3_col4\" class=\"data row3 col4\" >0.968771</td> \n",
       "    </tr>    <tr> \n",
       "        <th id=\"T_0e9bc1c6_c60c_11eb_b542_d4d252ca6611level0_row4\" class=\"row_heading level0 row4\" >SerieA</th> \n",
       "        <td id=\"T_0e9bc1c6_c60c_11eb_b542_d4d252ca6611row4_col0\" class=\"data row4 col0\" >0.149262</td> \n",
       "        <td id=\"T_0e9bc1c6_c60c_11eb_b542_d4d252ca6611row4_col1\" class=\"data row4 col1\" >0.0806997</td> \n",
       "        <td id=\"T_0e9bc1c6_c60c_11eb_b542_d4d252ca6611row4_col2\" class=\"data row4 col2\" >-0.101828</td> \n",
       "        <td id=\"T_0e9bc1c6_c60c_11eb_b542_d4d252ca6611row4_col3\" class=\"data row4 col3\" >0.968771</td> \n",
       "        <td id=\"T_0e9bc1c6_c60c_11eb_b542_d4d252ca6611row4_col4\" class=\"data row4 col4\" >1</td> \n",
       "    </tr></tbody> \n",
       "</table> "
      ],
      "text/plain": [
       "<pandas.io.formats.style.Styler at 0x21b28ae7048>"
      ]
     },
     "execution_count": 574,
     "metadata": {},
     "output_type": "execute_result"
    }
   ],
   "source": [
    "#Grouping to have daily max\n",
    "corr = df.groupby('DATE').max().corr()\n",
    "corr.style.background_gradient(cmap='coolwarm')"
   ]
  },
  {
   "cell_type": "markdown",
   "metadata": {},
   "source": [
    "Looking at relation between traffic measurement (firts two rows) and match schedule (last three column) the correlation is positive but appear to be rather low. Let's limit the analysy to daily peaks (the actual case of interest) for which correlation appear to be a bit higher: "
   ]
  },
  {
   "cell_type": "code",
   "execution_count": 575,
   "metadata": {},
   "outputs": [],
   "source": [
    "df_dp=df.groupby('DATE').max()"
   ]
  },
  {
   "cell_type": "markdown",
   "metadata": {},
   "source": [
    "Then, let's plot a few plot trying to investigate hype versus throughput relation: "
   ]
  },
  {
   "cell_type": "code",
   "execution_count": 576,
   "metadata": {},
   "outputs": [
    {
     "data": {
      "application/vnd.plotly.v1+json": {
       "config": {
        "plotlyServerURL": "https://plot.ly"
       },
       "data": [
        {
         "line": {
          "color": "rgba(255, 153, 51, 1.0)",
          "dash": "solid",
          "shape": "linear",
          "width": 1.3
         },
         "marker": {
          "size": 12,
          "symbol": "circle"
         },
         "mode": "markers",
         "name": "Thr (Norm)",
         "text": "",
         "type": "scatter",
         "x": [
          0,
          0,
          0,
          0,
          0,
          0,
          0,
          0,
          0,
          0,
          0,
          0,
          0,
          0,
          0,
          0,
          0,
          0,
          3,
          4,
          3,
          0,
          0,
          0,
          0,
          4,
          8,
          2,
          0,
          0,
          0,
          0,
          3,
          4,
          3,
          0,
          0,
          3,
          3,
          3,
          7,
          0,
          2,
          0,
          0,
          3,
          4,
          7,
          3,
          0,
          2,
          0,
          3,
          3,
          7,
          0,
          0,
          0,
          0,
          3,
          4,
          6,
          0,
          0,
          2,
          0,
          3,
          3,
          8,
          3,
          2,
          0,
          0,
          2,
          3,
          8,
          0,
          0,
          0,
          0,
          0,
          0,
          0,
          0,
          0,
          0,
          0,
          2,
          3,
          8,
          0,
          3,
          13,
          3,
          0,
          4,
          7,
          2,
          0,
          2,
          0,
          0,
          4,
          6,
          3,
          2,
          3,
          0,
          0,
          13,
          0,
          4,
          0,
          0,
          0,
          0,
          4,
          4,
          3,
          0,
          0,
          0,
          3,
          3,
          8,
          3,
          0,
          0,
          0,
          0,
          3,
          4,
          3,
          0,
          0,
          0,
          0,
          3,
          8,
          3,
          0,
          0,
          0,
          0,
          3,
          16,
          0,
          0,
          0,
          0,
          0,
          0,
          0,
          0,
          0,
          0,
          0,
          0,
          0,
          0,
          0,
          0,
          0,
          0,
          0,
          0,
          0,
          0,
          0,
          0,
          0,
          0,
          0,
          0,
          0,
          0,
          0,
          0,
          0,
          0,
          0,
          0,
          0,
          0,
          0,
          0,
          0,
          0,
          0,
          0,
          0,
          0,
          0,
          0,
          0,
          0,
          0,
          0,
          0,
          0,
          0,
          0,
          0,
          0,
          0,
          0,
          0,
          0,
          0,
          0,
          0,
          0,
          2,
          8,
          0,
          0,
          0,
          0,
          0,
          0,
          0,
          0,
          0,
          0,
          0,
          0,
          0,
          0,
          0,
          0,
          0,
          0,
          0,
          0,
          0,
          3,
          15,
          3,
          0,
          0,
          0,
          2,
          4,
          14,
          0,
          0,
          0,
          0,
          0,
          0,
          0,
          0,
          0,
          0,
          0,
          0,
          3,
          7,
          2,
          2,
          4,
          0,
          2,
          4,
          8,
          0,
          3,
          15,
          3,
          0,
          3,
          8,
          2,
          2,
          2,
          0,
          0,
          3,
          9,
          0,
          0,
          0,
          0,
          0,
          0,
          0,
          0,
          0,
          0,
          0,
          0,
          4,
          7,
          2,
          4,
          4,
          0,
          2,
          3,
          8,
          0,
          3,
          15,
          3,
          0,
          4,
          6,
          2,
          4,
          2,
          0,
          2,
          3,
          8,
          0,
          0,
          0,
          0,
          0,
          0,
          0,
          0,
          0,
          0,
          0,
          0,
          4,
          8,
          2,
          4,
          4,
          0,
          0,
          3,
          9,
          2,
          0,
          0,
          0,
          4,
          4,
          6,
          0,
          2,
          2,
          0,
          0,
          3,
          9,
          3,
          0,
          3,
          0,
          3,
          3,
          4,
          0,
          0,
          0,
          0,
          0,
          0,
          0,
          0,
          0,
          0,
          0,
          0,
          0,
          3,
          9,
          0,
          0,
          0,
          0,
          4,
          6,
          2,
          0,
          0,
          0,
          0,
          3,
          7,
          3,
          0,
          0,
          0,
          3,
          3,
          6,
          0,
          0,
          0,
          0,
          0,
          3,
          9,
          3,
          0,
          3,
          0,
          3,
          3,
          7,
          0,
          0,
          0,
          0,
          0,
          2,
          7,
          3,
          0,
          2,
          0,
          3,
          3,
          3,
          0,
          2,
          2,
          0,
          0,
          3,
          3,
          0,
          0,
          0,
          0,
          0,
          0,
          7,
          2,
          2,
          0,
          0,
          0,
          0,
          0,
          0,
          0,
          0,
          0,
          0,
          0,
          0,
          0,
          0,
          0,
          0,
          0,
          0,
          0,
          0,
          0,
          0,
          0,
          0,
          0,
          0,
          0,
          0,
          0,
          0,
          0,
          0,
          0,
          0,
          0,
          0,
          0,
          0,
          0,
          0,
          0,
          0,
          0,
          0,
          0,
          0,
          0,
          0,
          0,
          0,
          0,
          0,
          0,
          0,
          0,
          0,
          0,
          0,
          0,
          0,
          0,
          0,
          0,
          0,
          0,
          0,
          0,
          0,
          0,
          0,
          0,
          0,
          0,
          0,
          0,
          0,
          0,
          0,
          0,
          0,
          0,
          0,
          0,
          0,
          0,
          0,
          0,
          0,
          0,
          0,
          0,
          0,
          0,
          0,
          0,
          0,
          0,
          0,
          0,
          2,
          3,
          5,
          5,
          7,
          0,
          3,
          3,
          10,
          0,
          3,
          9,
          4,
          0,
          4,
          11,
          0,
          4,
          10,
          3,
          0,
          4,
          8,
          3,
          3,
          11,
          3,
          0,
          3,
          9,
          4,
          3,
          12,
          3,
          4,
          3,
          10,
          0,
          4,
          12,
          0,
          0,
          0,
          0,
          0,
          0,
          0,
          0,
          2,
          2,
          0,
          0,
          0,
          2,
          0,
          0,
          0,
          0,
          0,
          0,
          0,
          0,
          0,
          0,
          0,
          0,
          0,
          0,
          0,
          0,
          0,
          0,
          0,
          0,
          0,
          0,
          0,
          0,
          0,
          0,
          0,
          0,
          0,
          0,
          0,
          0,
          0,
          0,
          0,
          0,
          0,
          3,
          3,
          3,
          0,
          0,
          0,
          0,
          5,
          6,
          2,
          0,
          5,
          0,
          2,
          3,
          8,
          0,
          0,
          0,
          0,
          0,
          0,
          0,
          0,
          0,
          0,
          0,
          0,
          7,
          4,
          2,
          2,
          4,
          0,
          2,
          3,
          5,
          4,
          2,
          4,
          0,
          0,
          3,
          6,
          2,
          4,
          2,
          0,
          2,
          2,
          9,
          0,
          0,
          0,
          0,
          0,
          0,
          0,
          0,
          0,
          0,
          0,
          0,
          3,
          10,
          0,
          4,
          4,
          0,
          0,
          3,
          5,
          2,
          4,
          4,
          0,
          0,
          3,
          5,
          2,
          2,
          2,
          0,
          2,
          3,
          9,
          0,
          3,
          15,
          3,
          0,
          3,
          10,
          0,
          3,
          19,
          0,
          0,
          0,
          0,
          0,
          0,
          0,
          0,
          0,
          0,
          18,
          0,
          0,
          18,
          0,
          0,
          3,
          8,
          2,
          0,
          0,
          0,
          4,
          2,
          4,
          3,
          0,
          3,
          0,
          2,
          7,
          5,
          0,
          0,
          0,
          0,
          2,
          3,
          8,
          0,
          0,
          0,
          0,
          3,
          5,
          5,
          0,
          0,
          0,
          0,
          2,
          4,
          5,
          2,
          0,
          2,
          0,
          2,
          3,
          4,
          3,
          2,
          2,
          0,
          0,
          3,
          7,
          0,
          3,
          15,
          3,
          0,
          4,
          7,
          4,
          2,
          0,
          0,
          3,
          2,
          6,
          0,
          2,
          2,
          0,
          2,
          2,
          8,
          0,
          0,
          0,
          0,
          0,
          0,
          0,
          0,
          0,
          0,
          0,
          0,
          18,
          0,
          0,
          0,
          7,
          0,
          0,
          3,
          9,
          2,
          0,
          0,
          0,
          0,
          4,
          9,
          0,
          2,
          14,
          4,
          0,
          2,
          6,
          4,
          0,
          0,
          0,
          0,
          3,
          8,
          2,
          0,
          0,
          0,
          0,
          5,
          7,
          0,
          3,
          20,
          2,
          0,
          5,
          4,
          2,
          3,
          0,
          0,
          0,
          6,
          18,
          0,
          0,
          0,
          0,
          0
         ],
         "y": [
          1,
          0.9950575426354888,
          0.9952952846647068,
          0.9675637384721336,
          0.9259464139302508,
          0.9618949327881297,
          0.9773655210703219,
          0.9752501084059122,
          0.9928395614176052,
          0.9882671348874544,
          0.9657185992592324,
          0.9480132476954948,
          0.9924559872798352,
          1.0115445205901203,
          1.002743022599507,
          1.0060107926224544,
          1.0037488232625,
          0.9792340868369028,
          1.0534917036623437,
          1.039520061670888,
          1.0479199711759228,
          1.0045641940198298,
          1.0080750971892884,
          1.0036536521758692,
          0.9883555841212714,
          1.1212374118773678,
          1.0532816914619727,
          1.0217520469545605,
          1.0293788678152636,
          1.0372798357381088,
          1.0174832774524316,
          0.9970452159560654,
          1.105887611177907,
          1.0535316516607818,
          1.0354286575845109,
          1.0073576285167132,
          1.0424191535907004,
          1.0292605293429922,
          1.0212406993798833,
          1.1006210637885792,
          1.0622201179154294,
          1.0278569366435215,
          1.0246686464754395,
          1.0242238171176172,
          1.0670360418405351,
          1.0358127769575285,
          1.0987955239591165,
          1.0549673938248323,
          1.0557074537333275,
          1.027396934673936,
          1.033307681835462,
          1.0239479319636058,
          1.0262290407349148,
          1.0426547611891648,
          1.070974069431816,
          1.0307299039058313,
          1.0589088992469895,
          1.0558704579180649,
          1.022302393201242,
          1.0391291757988186,
          1.1264605439925683,
          1.1131178337865784,
          1.0431432760560284,
          1.044094509403301,
          1.0634611355249215,
          1.0587709018809113,
          1.1216401969726688,
          1.0931263661851105,
          1.059905234153948,
          1.0734030057793786,
          1.1430520979617658,
          1.0735559822384024,
          1.0624831844661868,
          1.0298821020504452,
          1.0272785099455803,
          1.1161092184692682,
          1.052202217284531,
          1.0347173732695367,
          1.0493143719297895,
          1.0426196951373394,
          1.0227308084747038,
          1.012993929751329,
          1.0499854333077212,
          1.0683905948051722,
          1.0841123443305656,
          1.064635288202588,
          1.0567547473961016,
          1.0360075380471576,
          1.0951304113577565,
          1.0848021754548698,
          0.9023184075799584,
          1.1037548105003403,
          1.159411499062824,
          1.0621154000038435,
          1.0090780144518323,
          1.058432942906169,
          1.0723624688481237,
          1.0466440930978105,
          1.0652671521819657,
          1.0885136026403182,
          1.0578173572475305,
          1.0122004497868573,
          1.1125313650964317,
          1.0850887226155457,
          1.0492201468543825,
          1.1133522802509177,
          1.0435242537572058,
          1.0381136828310351,
          0.9896801419557746,
          1.0661530521702884,
          1.0526698594624129,
          1.1269207378000776,
          1.0660359009400966,
          1.0719054582011172,
          1.0874687798907314,
          1.049067933189197,
          1.1934618520162,
          1.0940422526293652,
          1.0433890006510924,
          1.044518288742764,
          1.0632297327991034,
          1.0531867768767262,
          1.069061707036013,
          1.1004113486556455,
          1.0762707183049007,
          1.0671223312089764,
          1.067554651874055,
          1.0731787701495972,
          1.070908104607688,
          1.025533292547511,
          1.1077645445790325,
          1.1088167294647515,
          1.1129089279290114,
          1.0779887388572649,
          1.07833697934032,
          1.057657161400576,
          1.042393149670448,
          1.0654845060656473,
          1.141373120503703,
          1.0857738399019974,
          1.0750013544318815,
          1.065303354448289,
          1.0541148231043689,
          1.032692289449506,
          1.0387694468531778,
          1.184904517601051,
          0.9907593776303516,
          1.0567432537900348,
          1.068214188396826,
          1.075987606636826,
          1.0344978319339528,
          1.0687493087815545,
          1.074164336115887,
          1.0670460107550248,
          1.0800304374498704,
          1.0713556910727924,
          1.0796515973057714,
          1.0558135601297045,
          1.0381139976288143,
          1.0913815541095122,
          1.0843035320419676,
          1.1007731304967052,
          1.0688804543709742,
          1.0847197201541166,
          1.1345738513743442,
          1.046624173682717,
          1.0994699720484795,
          1.1278376678022353,
          1.121857427965644,
          1.1127999074926032,
          1.1029760030399312,
          1.0804014940487912,
          1.0908017871274875,
          1.11947811609458,
          1.1172337800553274,
          1.083611560493508,
          1.1282728140193654,
          1.1017286378918905,
          1.086925617571553,
          1.1010577945692313,
          1.1312549875786408,
          1.1185448863029044,
          1.1379946715280678,
          1.055222438434193,
          1.12124316278127,
          1.1142980838716992,
          1.1238377328008675,
          1.1573207296345285,
          1.1428332487799393,
          1.1554816096952916,
          1.17653310243881,
          1.1612199535703172,
          1.13271059817552,
          1.1391705144973696,
          1.173031611506485,
          1.1719701340571684,
          1.174946989836149,
          1.1807436637909587,
          1.1698149236564244,
          1.1657459420490894,
          1.1574879073207387,
          1.1791500322011397,
          1.1885128104162177,
          1.1960698071754043,
          1.2039660572134443,
          1.19701529360865,
          1.15603587572883,
          1.1882587003569405,
          1.2141858567591006,
          1.1918733620449098,
          1.1812942992816071,
          1.177448240743218,
          1.1077227334191102,
          1.1433478010647873,
          1.138418571386384,
          1.169387843081305,
          1.1825362279939546,
          1.187512684607932,
          1.1998241597135255,
          1.1859675125018154,
          1.1502256394825148,
          1.1508586985619609,
          1.1417957862490624,
          1.1825126726155646,
          1.1756837831709797,
          1.1743256873148296,
          1.1668551178167743,
          1.1932881318652264,
          1.1776761478308722,
          1.1852025659222052,
          1.2098696870945909,
          1.2131454052536592,
          1.2023638393367606,
          1.218849182210478,
          1.1972492859393586,
          1.213338774665333,
          1.2757105210862014,
          1.3260040689407004,
          1.2155324079042114,
          1.2120011471424208,
          1.201039257816419,
          1.1733368973726623,
          1.2376848650516885,
          1.244984289952349,
          1.191785891883998,
          1.2040854856153822,
          1.1869694768399648,
          1.1727237698930908,
          1.135966459885294,
          1.1234197598856974,
          1.1906788639193102,
          1.169197260334636,
          1.215827935331419,
          1.1808101984375723,
          1.180574064129487,
          1.1503401967634619,
          1.2882560536025802,
          1.2395303217805291,
          1.2186280431104124,
          1.2297447711185765,
          1.2339294768413993,
          1.2172192967359046,
          1.1809625709789124,
          1.3357836120288362,
          1.2840084220303405,
          1.2109278854082801,
          1.3423659765391682,
          1.2758349667009596,
          1.2322670430703933,
          1.167342910635449,
          1.1859237783761516,
          1.2695517771825953,
          1.237058993788044,
          1.217358120452941,
          1.2586032831696865,
          1.2197589159153046,
          1.1689980620980978,
          1.2645995220204118,
          1.2974459062819803,
          1.2347651558234367,
          1.2431533515001454,
          1.223817690476536,
          1.2221650737172425,
          1.1913074771821544,
          1.1819943888045588,
          1.25916899608669,
          1.246753073497782,
          1.2793756581019,
          1.2457186826739792,
          1.2226628418635892,
          1.206724157815947,
          1.284413076058628,
          1.2757643047580085,
          1.2626625981229516,
          1.275593611069866,
          1.2948158773597205,
          1.2627749108547492,
          1.2383165385273744,
          1.1957506491081604,
          1.259878251783166,
          1.239747988947358,
          1.1578848186692805,
          1.31507500846938,
          1.2006449879553411,
          1.252847762388018,
          1.3287472214811709,
          1.2957152025584835,
          1.2707868293123192,
          1.2688790836293993,
          1.2691149383691886,
          1.2476724630597475,
          1.232698564823783,
          1.2268291040610044,
          1.2958001176677525,
          1.2491838115744025,
          1.2457864785102055,
          1.2626203435289187,
          1.2401830478791829,
          1.2280794662182046,
          1.1436616888206108,
          1.2438893586213968,
          1.2512231061683332,
          1.2350816539806826,
          1.2481123542019097,
          1.2508099392293648,
          1.2250184249312608,
          1.2734510448598892,
          1.2733522017137069,
          1.2734797342346795,
          1.2453747539437243,
          1.2998408967705821,
          1.2480435885784391,
          1.2053160160777252,
          1.177532512304456,
          1.2805396785365848,
          1.2792136843068551,
          1.2660564941793808,
          1.2749695804874723,
          1.292261793020574,
          1.312383996809785,
          1.3822207328716138,
          1.32366608922118,
          1.3179977485806482,
          1.3087539067864529,
          1.3342209613861298,
          1.3251794836807274,
          1.2926576580556626,
          1.253300776267312,
          1.354728792060329,
          1.3428061373705886,
          1.2967794687713623,
          1.3520349048897604,
          1.3091688497395362,
          1.2779632118470539,
          1.2354685703472958,
          1.303009568734296,
          1.2452278707197988,
          1.1427562090632566,
          1.2417155314952548,
          1.2756464938498326,
          1.261617990716477,
          1.248134976902163,
          1.296578383284102,
          1.2874303617845573,
          1.172781865761498,
          1.3523461738941989,
          1.342946369780975,
          1.3132134478831148,
          1.263652380610127,
          1.3369275529952982,
          1.3693771721720256,
          1.3170287777662353,
          1.32697597951102,
          1.3188761759449614,
          1.2950168834446047,
          1.3934710291241807,
          1.3827714990552589,
          1.3537267771227268,
          1.3506476088513892,
          1.3807975340669956,
          1.363373995051918,
          1.3322737739637374,
          1.3577316605880665,
          1.4195194626088827,
          1.3949674838965875,
          1.385393727481395,
          1.4057872932030595,
          1.261634055473946,
          1.3635667841503891,
          1.3360599795091923,
          1.4568447155700406,
          1.3906678417077245,
          1.3991737248540064,
          1.3957349287290333,
          1.3534635850526602,
          1.346545271117633,
          1.3552132938284611,
          1.4335177965348864,
          1.407349845117326,
          1.3855632202265191,
          1.4352974512831091,
          1.379423677337292,
          1.361011501301164,
          1.4640705692104798,
          1.449000307812376,
          1.418717543229287,
          1.3870885994738011,
          1.4486386251434789,
          1.4485004196126376,
          1.3285097560172456,
          1.2760019044687605,
          1.471196415507202,
          1.4346331724108776,
          1.4030048638004986,
          1.4472405565371456,
          1.4381461384302872,
          1.406124559458015,
          1.4300351780142255,
          1.4278294748119893,
          1.4520341721725767,
          1.4554336172576008,
          1.5171483491601108,
          1.4626520634458229,
          1.396267653248901,
          1.3987232944578634,
          1.5046903931641056,
          1.451902962821105,
          1.4928046934891523,
          1.4591788655697346,
          1.4536725445347427,
          1.4243768726157158,
          1.3815171351749835,
          1.5397515369161907,
          1.5065654112689553,
          1.6064388533825529,
          1.6011608653928333,
          1.644812883630221,
          1.6569344562516723,
          1.6414314936263288,
          1.6530518054282388,
          1.5988578362588706,
          1.5933018553503615,
          1.5498769655872977,
          1.5758246040201986,
          1.6195881031054224,
          1.6135010468824496,
          1.6592002232888428,
          1.6062299429625988,
          1.6153797164630517,
          1.6375513270375182,
          1.6630289783630237,
          1.6326342309886015,
          1.6022984503872553,
          1.6034228760474496,
          1.5609585098143923,
          1.57880937878934,
          1.5905393441744762,
          1.5799624607283869,
          1.603786078792311,
          1.6098852634412844,
          1.5822679807589148,
          1.4863313564536271,
          1.5930053706695602,
          1.6426178329096115,
          1.6235971147476482,
          1.5707813323542408,
          1.5958734958794123,
          1.6269694271510602,
          1.6211752717461838,
          1.5549339848499442,
          1.5587180652132009,
          1.5549768561040933,
          1.5901054845051084,
          1.6098299273185894,
          1.6181755986158988,
          1.610234104387494,
          1.6050838551420878,
          1.6149515007962103,
          1.6005616668595066,
          1.6274512528055582,
          1.6363615812137051,
          1.5680726382623231,
          1.591798977566618,
          1.5878698525121326,
          1.6539443712936184,
          1.623732995767599,
          1.6080845188357842,
          1.6024474250398508,
          1.5656942926146171,
          1.4953583431759996,
          1.5352568718105428,
          1.5444332139380836,
          1.527312818963922,
          1.535139019205246,
          1.488058274727902,
          1.52641281786524,
          1.5306493605836955,
          1.3518266715493363,
          1.4883988794761531,
          1.2534436842855092,
          1.3427674906348583,
          1.4993029843764436,
          1.5736496696231463,
          1.5410673277703193,
          1.5096953569400344,
          1.4482338036566555,
          1.3960827981479011,
          1.4540122052502769,
          1.5002814057810188,
          1.5211029024275695,
          1.5262125503524109,
          1.514164955438478,
          1.4654096381342812,
          1.420227830332748,
          1.4913973410409058,
          1.5407164981782149,
          1.5462866196703002,
          1.5721175874126083,
          1.6068026203648982,
          1.5318516457228597,
          1.4560669969532452,
          1.5553046052420632,
          1.6230545635564169,
          1.6000073236095098,
          1.5903815593232715,
          1.6836901041395955,
          1.5879688246040138,
          1.5381385003178112,
          1.5113465830737332,
          1.624021366658015,
          1.6189372669502196,
          1.6798463363415888,
          1.6048281810728784,
          1.5658462432208982,
          1.5151789057040823,
          1.6229089095343148,
          1.693032670719084,
          1.6439904540429098,
          1.6612038347072269,
          1.6014058485497915,
          1.6263860909036931,
          1.5664999610348969,
          1.6283872139755646,
          1.659999785831576,
          1.7182737537206465,
          1.67117368930303,
          1.6073757299770943,
          1.6138144796296543,
          1.6860813666137189,
          1.6512628908372289,
          1.6517946680719358,
          1.87234247784896,
          1.694115795050734,
          1.6381052684929247,
          1.6254011410568825,
          1.8137403127908576,
          1.6780180524506283,
          1.7118409333999671,
          1.6859962177990606,
          1.7188407212343997,
          1.7056382684470306,
          1.6247375389829208,
          1.6614049171288563,
          1.7017612654986118,
          1.7693165293863882,
          1.6995034366804302,
          1.7468992458131372,
          1.653567379073857,
          1.7055356443318188,
          1.5988107115307464,
          1.7106265745036526,
          1.6993654992324043,
          1.7131590977208295,
          1.7470101758007663,
          1.5862409091809515,
          1.6282374986934325,
          1.6966733571946175,
          1.660014438004962,
          1.6974966005054768,
          1.7321314758490436,
          1.7383489871063358,
          1.6825893841936062,
          1.6943290730505205,
          1.6009450056941792,
          1.6350165853697158,
          1.7118046695115876,
          1.6933014715134127,
          1.7374139866111733,
          1.681151822361176,
          1.691443952182385,
          1.6883309414359622,
          1.7193761419427789,
          1.7732588418047126,
          1.7646391528345082,
          1.7432911012651964,
          1.7232791576020676,
          1.743415600621823,
          1.6365403589026977,
          1.7448064838479975,
          1.7670208726964869,
          1.7524914355843006,
          1.7266987245331884,
          1.7536048328957534,
          1.7015828644459006,
          1.6793357347956783,
          1.7004415796848655,
          1.7464662779000888,
          1.7143398967677232,
          1.7142251701579685,
          1.6990167248973314,
          1.6553209021138102,
          1.6188598342355558,
          1.6915126150484288,
          1.7334195685112888,
          1.6970170113237526,
          1.6862530969601766,
          1.7172159360559505,
          1.660566342028286,
          1.5909570596042797,
          1.657033480859046,
          1.6884827562055589,
          1.6710720954613922,
          1.6880619046381569,
          1.7605766437473698,
          1.6259097295516207,
          1.63738360151203,
          1.7871615443934237,
          1.7657280238787934,
          1.71239412517699,
          1.700783434283559,
          1.7953498051527266,
          1.666546102667951,
          1.7397769274174424,
          1.8292615941875048,
          1.7460950802264474,
          1.7177463797258723,
          1.7167627987662044,
          1.8061926984486816,
          1.6916119192254078,
          1.6641950693772989,
          1.7981444608883277,
          1.7320453878377158,
          1.7199874671285058,
          1.7168650985905336,
          1.7038015638506252,
          1.6611930970363484,
          1.6043203578466951,
          1.7695482382899783,
          1.5651966797836765,
          1.7672593385172837,
          1.977063052127359,
          1.7256398350524689,
          1.6905960886618314,
          1.7899993988519287,
          1.7941803239619758,
          1.7830858591808314,
          1.843939069847792,
          1.8328310436514144,
          1.8097885701844785,
          1.7801546735238354,
          1.7659779585304154,
          1.879064326249604,
          1.97754026866022,
          1.885677638473172,
          1.8610762526635736,
          1.8646684743959865,
          1.843285298624577,
          1.8415083627395576,
          1.9113685622736918,
          1.9084053350177317,
          1.899507091136266,
          1.9503024558445712,
          1.8945404532475976,
          1.9467830497101908,
          1.9397906604437167,
          2.0290411182370054,
          1.9344271797217747,
          1.960949933944116,
          1.946342946518228,
          1.9313344083764512,
          1.9085401589655844,
          1.8695212702453483,
          1.933482559096576,
          1.90673024648746,
          1.8804870805901348,
          1.9275361539442792,
          1.9040368999845585,
          1.9381477962994584,
          1.912919797300674,
          1.992962883846484,
          1.9097795431832358,
          1.9545552671242936,
          1.993227653784996,
          1.9071482822390229,
          1.871179525367772,
          1.8278704892147728,
          1.9452461960918168,
          1.8922068086088653,
          1.9909169994568576,
          2.0165956703216152,
          1.9037046294343856,
          1.8790515684671023,
          1.9269893480819533,
          1.944739470447864,
          1.8637114228530958,
          1.8752354122239303,
          2.043526681227376,
          1.920377347161473,
          1.912474811037328,
          1.9085322521929364,
          1.8780051020419728,
          1.8801970486670256,
          1.9137287699058367,
          2.0806463317707675,
          1.8840272073519448,
          1.8570428931389331,
          1.9080886431442776,
          1.8680368253444253,
          1.8803786807875968,
          1.9223368729884127,
          2.0012725880605,
          1.7212520001340916,
          1.939635758135735,
          1.9029894644192125,
          1.872880390039827,
          1.89404429375882,
          1.9139234575439263,
          1.935919187362464,
          1.644348517052476,
          1.9445975610568318,
          1.9177159543109683,
          2.040402713149124,
          1.930051251453136,
          1.9651449404578,
          2.122237114738417,
          1.8749701441885271,
          1.957707942635876,
          1.9855003331009489,
          2.007266718294128,
          1.927183355113461,
          1.9350950204898936,
          1.958168416474324,
          1.9265554452937383,
          2.055459421461584,
          1.9703259354771072,
          2.209006308596151,
          2.0902791209984533,
          2.0066636465610035,
          2.004120909891133,
          1.9800720369892848,
          2.0811866894104387,
          2.0511106615729577,
          2.0503295711753964,
          2.013091943413289,
          1.9997478349361968,
          1.9875899061877151,
          1.991316165309059,
          2.027869813612042,
          2.091790063120245,
          2.057850879271738,
          2.015868179063791,
          2.039037269285735,
          2.0393210625362106,
          2.004489618272129,
          2.1409278366587743,
          2.075236987999462,
          2.074448284375136,
          2.016919561734853,
          2.0372837626602167,
          2.018351179292786,
          1.9708926191016465,
          2.0146076958342527,
          2.1308990660673777,
          2.194035699812119,
          2.0245803071647823,
          2.029001993120984,
          2.1863191382010525,
          2.0153713806479887,
          2.0131550170857158,
          2.011927564807351,
          2.104521173757754,
          2.125817094497559,
          2.0212222639027924,
          2.123726990969279,
          2.1109977319600297,
          2.0301461850530247,
          2.160241807102218,
          2.166751451482269,
          2.043584452388011,
          2.1246175595983483,
          2.2111394371945474,
          2.1157303806046057,
          2.017317477995545,
          2.2030297968689823,
          2.1024771735985177,
          2.2276011986809063,
          2.1499924745407166,
          2.1903419166548086,
          2.1582661354740424,
          2.1290277400269524,
          2.116910112858408,
          2.1733013137364514,
          2.169277150838759,
          2.255173880588624,
          2.2255463724995024,
          2.2114859190285965,
          2.1122803906449588,
          2.0505398430120643,
          2.232160532290147,
          2.1104396660636042,
          2.136395208695105,
          2.1303998501725165,
          2.1682555393220166,
          2.0819335116922377,
          2.028700253945132,
          2.142044088887192,
          2.1178490888636596,
          2.1660780773455777,
          2.2064610050103597,
          2.1701605654188207,
          2.143577884704439,
          2.169951414177661,
          2.2031806478746234,
          2.150671258776439,
          2.1682355603514134,
          2.2081202203437242,
          2.1950230230942043,
          2.1540296287996683,
          2.1833893810454708,
          2.1784584094106867,
          2.136150460523476,
          2.141707301215336,
          2.2052597671047023,
          2.154816518442385,
          2.0729575100604545,
          2.093757258753552,
          2.258361559204093,
          2.1583071652377503,
          2.1675077380807592,
          2.377251316942993,
          2.2633826742368406,
          2.1297495378985745,
          2.1017116499392863,
          2.1423668806906444,
          2.243442696710184,
          2.182226138676877,
          2.2133066529694245,
          2.1485794975173094,
          2.105225791713649,
          2.196231977281524,
          2.133717454301145,
          2.100667642639657,
          2.1072493356973463,
          2.143281651658949,
          2.0964742041021616,
          2.072881319696064,
          2.066979975639265,
          2.1731914761398508,
          2.0620272875881382,
          2.1704503548597427,
          2.267525998376834,
          2.1144664026661752,
          2.0517338360657242,
          2.056486321393765,
          2.1553788482169742,
          2.0870012080432008,
          2.076865240528564,
          2.024424493068594,
          2.035088628438881,
          1.9561422561771613,
          1.9596258405838487,
          2.2690388838594924,
          2.0473594480910458,
          2.039903582903039,
          2.020115035745592,
          2,
          1.6944345263835132
         ]
        }
       ],
       "layout": {
        "legend": {
         "bgcolor": "#F5F6F9",
         "font": {
          "color": "#4D5663"
         }
        },
        "paper_bgcolor": "#F5F6F9",
        "plot_bgcolor": "#F5F6F9",
        "template": {
         "data": {
          "bar": [
           {
            "error_x": {
             "color": "#2a3f5f"
            },
            "error_y": {
             "color": "#2a3f5f"
            },
            "marker": {
             "line": {
              "color": "#E5ECF6",
              "width": 0.5
             }
            },
            "type": "bar"
           }
          ],
          "barpolar": [
           {
            "marker": {
             "line": {
              "color": "#E5ECF6",
              "width": 0.5
             }
            },
            "type": "barpolar"
           }
          ],
          "carpet": [
           {
            "aaxis": {
             "endlinecolor": "#2a3f5f",
             "gridcolor": "white",
             "linecolor": "white",
             "minorgridcolor": "white",
             "startlinecolor": "#2a3f5f"
            },
            "baxis": {
             "endlinecolor": "#2a3f5f",
             "gridcolor": "white",
             "linecolor": "white",
             "minorgridcolor": "white",
             "startlinecolor": "#2a3f5f"
            },
            "type": "carpet"
           }
          ],
          "choropleth": [
           {
            "colorbar": {
             "outlinewidth": 0,
             "ticks": ""
            },
            "type": "choropleth"
           }
          ],
          "contour": [
           {
            "colorbar": {
             "outlinewidth": 0,
             "ticks": ""
            },
            "colorscale": [
             [
              0,
              "#0d0887"
             ],
             [
              0.1111111111111111,
              "#46039f"
             ],
             [
              0.2222222222222222,
              "#7201a8"
             ],
             [
              0.3333333333333333,
              "#9c179e"
             ],
             [
              0.4444444444444444,
              "#bd3786"
             ],
             [
              0.5555555555555556,
              "#d8576b"
             ],
             [
              0.6666666666666666,
              "#ed7953"
             ],
             [
              0.7777777777777778,
              "#fb9f3a"
             ],
             [
              0.8888888888888888,
              "#fdca26"
             ],
             [
              1,
              "#f0f921"
             ]
            ],
            "type": "contour"
           }
          ],
          "contourcarpet": [
           {
            "colorbar": {
             "outlinewidth": 0,
             "ticks": ""
            },
            "type": "contourcarpet"
           }
          ],
          "heatmap": [
           {
            "colorbar": {
             "outlinewidth": 0,
             "ticks": ""
            },
            "colorscale": [
             [
              0,
              "#0d0887"
             ],
             [
              0.1111111111111111,
              "#46039f"
             ],
             [
              0.2222222222222222,
              "#7201a8"
             ],
             [
              0.3333333333333333,
              "#9c179e"
             ],
             [
              0.4444444444444444,
              "#bd3786"
             ],
             [
              0.5555555555555556,
              "#d8576b"
             ],
             [
              0.6666666666666666,
              "#ed7953"
             ],
             [
              0.7777777777777778,
              "#fb9f3a"
             ],
             [
              0.8888888888888888,
              "#fdca26"
             ],
             [
              1,
              "#f0f921"
             ]
            ],
            "type": "heatmap"
           }
          ],
          "heatmapgl": [
           {
            "colorbar": {
             "outlinewidth": 0,
             "ticks": ""
            },
            "colorscale": [
             [
              0,
              "#0d0887"
             ],
             [
              0.1111111111111111,
              "#46039f"
             ],
             [
              0.2222222222222222,
              "#7201a8"
             ],
             [
              0.3333333333333333,
              "#9c179e"
             ],
             [
              0.4444444444444444,
              "#bd3786"
             ],
             [
              0.5555555555555556,
              "#d8576b"
             ],
             [
              0.6666666666666666,
              "#ed7953"
             ],
             [
              0.7777777777777778,
              "#fb9f3a"
             ],
             [
              0.8888888888888888,
              "#fdca26"
             ],
             [
              1,
              "#f0f921"
             ]
            ],
            "type": "heatmapgl"
           }
          ],
          "histogram": [
           {
            "marker": {
             "colorbar": {
              "outlinewidth": 0,
              "ticks": ""
             }
            },
            "type": "histogram"
           }
          ],
          "histogram2d": [
           {
            "colorbar": {
             "outlinewidth": 0,
             "ticks": ""
            },
            "colorscale": [
             [
              0,
              "#0d0887"
             ],
             [
              0.1111111111111111,
              "#46039f"
             ],
             [
              0.2222222222222222,
              "#7201a8"
             ],
             [
              0.3333333333333333,
              "#9c179e"
             ],
             [
              0.4444444444444444,
              "#bd3786"
             ],
             [
              0.5555555555555556,
              "#d8576b"
             ],
             [
              0.6666666666666666,
              "#ed7953"
             ],
             [
              0.7777777777777778,
              "#fb9f3a"
             ],
             [
              0.8888888888888888,
              "#fdca26"
             ],
             [
              1,
              "#f0f921"
             ]
            ],
            "type": "histogram2d"
           }
          ],
          "histogram2dcontour": [
           {
            "colorbar": {
             "outlinewidth": 0,
             "ticks": ""
            },
            "colorscale": [
             [
              0,
              "#0d0887"
             ],
             [
              0.1111111111111111,
              "#46039f"
             ],
             [
              0.2222222222222222,
              "#7201a8"
             ],
             [
              0.3333333333333333,
              "#9c179e"
             ],
             [
              0.4444444444444444,
              "#bd3786"
             ],
             [
              0.5555555555555556,
              "#d8576b"
             ],
             [
              0.6666666666666666,
              "#ed7953"
             ],
             [
              0.7777777777777778,
              "#fb9f3a"
             ],
             [
              0.8888888888888888,
              "#fdca26"
             ],
             [
              1,
              "#f0f921"
             ]
            ],
            "type": "histogram2dcontour"
           }
          ],
          "mesh3d": [
           {
            "colorbar": {
             "outlinewidth": 0,
             "ticks": ""
            },
            "type": "mesh3d"
           }
          ],
          "parcoords": [
           {
            "line": {
             "colorbar": {
              "outlinewidth": 0,
              "ticks": ""
             }
            },
            "type": "parcoords"
           }
          ],
          "pie": [
           {
            "automargin": true,
            "type": "pie"
           }
          ],
          "scatter": [
           {
            "marker": {
             "colorbar": {
              "outlinewidth": 0,
              "ticks": ""
             }
            },
            "type": "scatter"
           }
          ],
          "scatter3d": [
           {
            "line": {
             "colorbar": {
              "outlinewidth": 0,
              "ticks": ""
             }
            },
            "marker": {
             "colorbar": {
              "outlinewidth": 0,
              "ticks": ""
             }
            },
            "type": "scatter3d"
           }
          ],
          "scattercarpet": [
           {
            "marker": {
             "colorbar": {
              "outlinewidth": 0,
              "ticks": ""
             }
            },
            "type": "scattercarpet"
           }
          ],
          "scattergeo": [
           {
            "marker": {
             "colorbar": {
              "outlinewidth": 0,
              "ticks": ""
             }
            },
            "type": "scattergeo"
           }
          ],
          "scattergl": [
           {
            "marker": {
             "colorbar": {
              "outlinewidth": 0,
              "ticks": ""
             }
            },
            "type": "scattergl"
           }
          ],
          "scattermapbox": [
           {
            "marker": {
             "colorbar": {
              "outlinewidth": 0,
              "ticks": ""
             }
            },
            "type": "scattermapbox"
           }
          ],
          "scatterpolar": [
           {
            "marker": {
             "colorbar": {
              "outlinewidth": 0,
              "ticks": ""
             }
            },
            "type": "scatterpolar"
           }
          ],
          "scatterpolargl": [
           {
            "marker": {
             "colorbar": {
              "outlinewidth": 0,
              "ticks": ""
             }
            },
            "type": "scatterpolargl"
           }
          ],
          "scatterternary": [
           {
            "marker": {
             "colorbar": {
              "outlinewidth": 0,
              "ticks": ""
             }
            },
            "type": "scatterternary"
           }
          ],
          "surface": [
           {
            "colorbar": {
             "outlinewidth": 0,
             "ticks": ""
            },
            "colorscale": [
             [
              0,
              "#0d0887"
             ],
             [
              0.1111111111111111,
              "#46039f"
             ],
             [
              0.2222222222222222,
              "#7201a8"
             ],
             [
              0.3333333333333333,
              "#9c179e"
             ],
             [
              0.4444444444444444,
              "#bd3786"
             ],
             [
              0.5555555555555556,
              "#d8576b"
             ],
             [
              0.6666666666666666,
              "#ed7953"
             ],
             [
              0.7777777777777778,
              "#fb9f3a"
             ],
             [
              0.8888888888888888,
              "#fdca26"
             ],
             [
              1,
              "#f0f921"
             ]
            ],
            "type": "surface"
           }
          ],
          "table": [
           {
            "cells": {
             "fill": {
              "color": "#EBF0F8"
             },
             "line": {
              "color": "white"
             }
            },
            "header": {
             "fill": {
              "color": "#C8D4E3"
             },
             "line": {
              "color": "white"
             }
            },
            "type": "table"
           }
          ]
         },
         "layout": {
          "annotationdefaults": {
           "arrowcolor": "#2a3f5f",
           "arrowhead": 0,
           "arrowwidth": 1
          },
          "autotypenumbers": "strict",
          "coloraxis": {
           "colorbar": {
            "outlinewidth": 0,
            "ticks": ""
           }
          },
          "colorscale": {
           "diverging": [
            [
             0,
             "#8e0152"
            ],
            [
             0.1,
             "#c51b7d"
            ],
            [
             0.2,
             "#de77ae"
            ],
            [
             0.3,
             "#f1b6da"
            ],
            [
             0.4,
             "#fde0ef"
            ],
            [
             0.5,
             "#f7f7f7"
            ],
            [
             0.6,
             "#e6f5d0"
            ],
            [
             0.7,
             "#b8e186"
            ],
            [
             0.8,
             "#7fbc41"
            ],
            [
             0.9,
             "#4d9221"
            ],
            [
             1,
             "#276419"
            ]
           ],
           "sequential": [
            [
             0,
             "#0d0887"
            ],
            [
             0.1111111111111111,
             "#46039f"
            ],
            [
             0.2222222222222222,
             "#7201a8"
            ],
            [
             0.3333333333333333,
             "#9c179e"
            ],
            [
             0.4444444444444444,
             "#bd3786"
            ],
            [
             0.5555555555555556,
             "#d8576b"
            ],
            [
             0.6666666666666666,
             "#ed7953"
            ],
            [
             0.7777777777777778,
             "#fb9f3a"
            ],
            [
             0.8888888888888888,
             "#fdca26"
            ],
            [
             1,
             "#f0f921"
            ]
           ],
           "sequentialminus": [
            [
             0,
             "#0d0887"
            ],
            [
             0.1111111111111111,
             "#46039f"
            ],
            [
             0.2222222222222222,
             "#7201a8"
            ],
            [
             0.3333333333333333,
             "#9c179e"
            ],
            [
             0.4444444444444444,
             "#bd3786"
            ],
            [
             0.5555555555555556,
             "#d8576b"
            ],
            [
             0.6666666666666666,
             "#ed7953"
            ],
            [
             0.7777777777777778,
             "#fb9f3a"
            ],
            [
             0.8888888888888888,
             "#fdca26"
            ],
            [
             1,
             "#f0f921"
            ]
           ]
          },
          "colorway": [
           "#636efa",
           "#EF553B",
           "#00cc96",
           "#ab63fa",
           "#FFA15A",
           "#19d3f3",
           "#FF6692",
           "#B6E880",
           "#FF97FF",
           "#FECB52"
          ],
          "font": {
           "color": "#2a3f5f"
          },
          "geo": {
           "bgcolor": "white",
           "lakecolor": "white",
           "landcolor": "#E5ECF6",
           "showlakes": true,
           "showland": true,
           "subunitcolor": "white"
          },
          "hoverlabel": {
           "align": "left"
          },
          "hovermode": "closest",
          "mapbox": {
           "style": "light"
          },
          "paper_bgcolor": "white",
          "plot_bgcolor": "#E5ECF6",
          "polar": {
           "angularaxis": {
            "gridcolor": "white",
            "linecolor": "white",
            "ticks": ""
           },
           "bgcolor": "#E5ECF6",
           "radialaxis": {
            "gridcolor": "white",
            "linecolor": "white",
            "ticks": ""
           }
          },
          "scene": {
           "xaxis": {
            "backgroundcolor": "#E5ECF6",
            "gridcolor": "white",
            "gridwidth": 2,
            "linecolor": "white",
            "showbackground": true,
            "ticks": "",
            "zerolinecolor": "white"
           },
           "yaxis": {
            "backgroundcolor": "#E5ECF6",
            "gridcolor": "white",
            "gridwidth": 2,
            "linecolor": "white",
            "showbackground": true,
            "ticks": "",
            "zerolinecolor": "white"
           },
           "zaxis": {
            "backgroundcolor": "#E5ECF6",
            "gridcolor": "white",
            "gridwidth": 2,
            "linecolor": "white",
            "showbackground": true,
            "ticks": "",
            "zerolinecolor": "white"
           }
          },
          "shapedefaults": {
           "line": {
            "color": "#2a3f5f"
           }
          },
          "ternary": {
           "aaxis": {
            "gridcolor": "white",
            "linecolor": "white",
            "ticks": ""
           },
           "baxis": {
            "gridcolor": "white",
            "linecolor": "white",
            "ticks": ""
           },
           "bgcolor": "#E5ECF6",
           "caxis": {
            "gridcolor": "white",
            "linecolor": "white",
            "ticks": ""
           }
          },
          "title": {
           "x": 0.05
          },
          "xaxis": {
           "automargin": true,
           "gridcolor": "white",
           "linecolor": "white",
           "ticks": "",
           "title": {
            "standoff": 15
           },
           "zerolinecolor": "white",
           "zerolinewidth": 2
          },
          "yaxis": {
           "automargin": true,
           "gridcolor": "white",
           "linecolor": "white",
           "ticks": "",
           "title": {
            "standoff": 15
           },
           "zerolinecolor": "white",
           "zerolinewidth": 2
          }
         }
        },
        "title": {
         "font": {
          "color": "#4D5663"
         }
        },
        "xaxis": {
         "gridcolor": "#E1E5ED",
         "showgrid": true,
         "tickfont": {
          "color": "#4D5663"
         },
         "title": {
          "font": {
           "color": "#4D5663"
          },
          "text": "Hype"
         },
         "zerolinecolor": "#E1E5ED"
        },
        "yaxis": {
         "gridcolor": "#E1E5ED",
         "showgrid": true,
         "tickfont": {
          "color": "#4D5663"
         },
         "title": {
          "font": {
           "color": "#4D5663"
          },
          "text": "Normalized throughput"
         },
         "zerolinecolor": "#E1E5ED"
        }
       }
      },
      "text/html": [
       "<div>                            <div id=\"d71a09ff-e84d-4be0-bbef-e40a34bdfce4\" class=\"plotly-graph-div\" style=\"height:525px; width:100%;\"></div>            <script type=\"text/javascript\">                require([\"plotly\"], function(Plotly) {                    window.PLOTLYENV=window.PLOTLYENV || {};                                    if (document.getElementById(\"d71a09ff-e84d-4be0-bbef-e40a34bdfce4\")) {                    Plotly.newPlot(                        \"d71a09ff-e84d-4be0-bbef-e40a34bdfce4\",                        [{\"line\": {\"color\": \"rgba(255, 153, 51, 1.0)\", \"dash\": \"solid\", \"shape\": \"linear\", \"width\": 1.3}, \"marker\": {\"size\": 12, \"symbol\": \"circle\"}, \"mode\": \"markers\", \"name\": \"Thr (Norm)\", \"text\": \"\", \"type\": \"scatter\", \"x\": [0.0, 0.0, 0.0, 0.0, 0.0, 0.0, 0.0, 0.0, 0.0, 0.0, 0.0, 0.0, 0.0, 0.0, 0.0, 0.0, 0.0, 0.0, 3.0, 4.0, 3.0, 0.0, 0.0, 0.0, 0.0, 4.0, 8.0, 2.0, 0.0, 0.0, 0.0, 0.0, 3.0, 4.0, 3.0, 0.0, 0.0, 3.0, 3.0, 3.0, 7.0, 0.0, 2.0, 0.0, 0.0, 3.0, 4.0, 7.0, 3.0, 0.0, 2.0, 0.0, 3.0, 3.0, 7.0, 0.0, 0.0, 0.0, 0.0, 3.0, 4.0, 6.0, 0.0, 0.0, 2.0, 0.0, 3.0, 3.0, 8.0, 3.0, 2.0, 0.0, 0.0, 2.0, 3.0, 8.0, 0.0, 0.0, 0.0, 0.0, 0.0, 0.0, 0.0, 0.0, 0.0, 0.0, 0.0, 2.0, 3.0, 8.0, 0.0, 3.0, 13.0, 3.0, 0.0, 4.0, 7.0, 2.0, 0.0, 2.0, 0.0, 0.0, 4.0, 6.0, 3.0, 2.0, 3.0, 0.0, 0.0, 13.0, 0.0, 4.0, 0.0, 0.0, 0.0, 0.0, 4.0, 4.0, 3.0, 0.0, 0.0, 0.0, 3.0, 3.0, 8.0, 3.0, 0.0, 0.0, 0.0, 0.0, 3.0, 4.0, 3.0, 0.0, 0.0, 0.0, 0.0, 3.0, 8.0, 3.0, 0.0, 0.0, 0.0, 0.0, 3.0, 16.0, 0.0, 0.0, 0.0, 0.0, 0.0, 0.0, 0.0, 0.0, 0.0, 0.0, 0.0, 0.0, 0.0, 0.0, 0.0, 0.0, 0.0, 0.0, 0.0, 0.0, 0.0, 0.0, 0.0, 0.0, 0.0, 0.0, 0.0, 0.0, 0.0, 0.0, 0.0, 0.0, 0.0, 0.0, 0.0, 0.0, 0.0, 0.0, 0.0, 0.0, 0.0, 0.0, 0.0, 0.0, 0.0, 0.0, 0.0, 0.0, 0.0, 0.0, 0.0, 0.0, 0.0, 0.0, 0.0, 0.0, 0.0, 0.0, 0.0, 0.0, 0.0, 0.0, 0.0, 0.0, 0.0, 0.0, 2.0, 8.0, 0.0, 0.0, 0.0, 0.0, 0.0, 0.0, 0.0, 0.0, 0.0, 0.0, 0.0, 0.0, 0.0, 0.0, 0.0, 0.0, 0.0, 0.0, 0.0, 0.0, 0.0, 3.0, 15.0, 3.0, 0.0, 0.0, 0.0, 2.0, 4.0, 14.0, 0.0, 0.0, 0.0, 0.0, 0.0, 0.0, 0.0, 0.0, 0.0, 0.0, 0.0, 0.0, 3.0, 7.0, 2.0, 2.0, 4.0, 0.0, 2.0, 4.0, 8.0, 0.0, 3.0, 15.0, 3.0, 0.0, 3.0, 8.0, 2.0, 2.0, 2.0, 0.0, 0.0, 3.0, 9.0, 0.0, 0.0, 0.0, 0.0, 0.0, 0.0, 0.0, 0.0, 0.0, 0.0, 0.0, 0.0, 4.0, 7.0, 2.0, 4.0, 4.0, 0.0, 2.0, 3.0, 8.0, 0.0, 3.0, 15.0, 3.0, 0.0, 4.0, 6.0, 2.0, 4.0, 2.0, 0.0, 2.0, 3.0, 8.0, 0.0, 0.0, 0.0, 0.0, 0.0, 0.0, 0.0, 0.0, 0.0, 0.0, 0.0, 0.0, 4.0, 8.0, 2.0, 4.0, 4.0, 0.0, 0.0, 3.0, 9.0, 2.0, 0.0, 0.0, 0.0, 4.0, 4.0, 6.0, 0.0, 2.0, 2.0, 0.0, 0.0, 3.0, 9.0, 3.0, 0.0, 3.0, 0.0, 3.0, 3.0, 4.0, 0.0, 0.0, 0.0, 0.0, 0.0, 0.0, 0.0, 0.0, 0.0, 0.0, 0.0, 0.0, 0.0, 3.0, 9.0, 0.0, 0.0, 0.0, 0.0, 4.0, 6.0, 2.0, 0.0, 0.0, 0.0, 0.0, 3.0, 7.0, 3.0, 0.0, 0.0, 0.0, 3.0, 3.0, 6.0, 0.0, 0.0, 0.0, 0.0, 0.0, 3.0, 9.0, 3.0, 0.0, 3.0, 0.0, 3.0, 3.0, 7.0, 0.0, 0.0, 0.0, 0.0, 0.0, 2.0, 7.0, 3.0, 0.0, 2.0, 0.0, 3.0, 3.0, 3.0, 0.0, 2.0, 2.0, 0.0, 0.0, 3.0, 3.0, 0.0, 0.0, 0.0, 0.0, 0.0, 0.0, 7.0, 2.0, 2.0, 0.0, 0.0, 0.0, 0.0, 0.0, 0.0, 0.0, 0.0, 0.0, 0.0, 0.0, 0.0, 0.0, 0.0, 0.0, 0.0, 0.0, 0.0, 0.0, 0.0, 0.0, 0.0, 0.0, 0.0, 0.0, 0.0, 0.0, 0.0, 0.0, 0.0, 0.0, 0.0, 0.0, 0.0, 0.0, 0.0, 0.0, 0.0, 0.0, 0.0, 0.0, 0.0, 0.0, 0.0, 0.0, 0.0, 0.0, 0.0, 0.0, 0.0, 0.0, 0.0, 0.0, 0.0, 0.0, 0.0, 0.0, 0.0, 0.0, 0.0, 0.0, 0.0, 0.0, 0.0, 0.0, 0.0, 0.0, 0.0, 0.0, 0.0, 0.0, 0.0, 0.0, 0.0, 0.0, 0.0, 0.0, 0.0, 0.0, 0.0, 0.0, 0.0, 0.0, 0.0, 0.0, 0.0, 0.0, 0.0, 0.0, 0.0, 0.0, 0.0, 0.0, 0.0, 0.0, 0.0, 0.0, 0.0, 0.0, 2.0, 3.0, 5.0, 5.0, 7.0, 0.0, 3.0, 3.0, 10.0, 0.0, 3.0, 9.0, 4.0, 0.0, 4.0, 11.0, 0.0, 4.0, 10.0, 3.0, 0.0, 4.0, 8.0, 3.0, 3.0, 11.0, 3.0, 0.0, 3.0, 9.0, 4.0, 3.0, 12.0, 3.0, 4.0, 3.0, 10.0, 0.0, 4.0, 12.0, 0.0, 0.0, 0.0, 0.0, 0.0, 0.0, 0.0, 0.0, 2.0, 2.0, 0.0, 0.0, 0.0, 2.0, 0.0, 0.0, 0.0, 0.0, 0.0, 0.0, 0.0, 0.0, 0.0, 0.0, 0.0, 0.0, 0.0, 0.0, 0.0, 0.0, 0.0, 0.0, 0.0, 0.0, 0.0, 0.0, 0.0, 0.0, 0.0, 0.0, 0.0, 0.0, 0.0, 0.0, 0.0, 0.0, 0.0, 0.0, 0.0, 0.0, 0.0, 3.0, 3.0, 3.0, 0.0, 0.0, 0.0, 0.0, 5.0, 6.0, 2.0, 0.0, 5.0, 0.0, 2.0, 3.0, 8.0, 0.0, 0.0, 0.0, 0.0, 0.0, 0.0, 0.0, 0.0, 0.0, 0.0, 0.0, 0.0, 7.0, 4.0, 2.0, 2.0, 4.0, 0.0, 2.0, 3.0, 5.0, 4.0, 2.0, 4.0, 0.0, 0.0, 3.0, 6.0, 2.0, 4.0, 2.0, 0.0, 2.0, 2.0, 9.0, 0.0, 0.0, 0.0, 0.0, 0.0, 0.0, 0.0, 0.0, 0.0, 0.0, 0.0, 0.0, 3.0, 10.0, 0.0, 4.0, 4.0, 0.0, 0.0, 3.0, 5.0, 2.0, 4.0, 4.0, 0.0, 0.0, 3.0, 5.0, 2.0, 2.0, 2.0, 0.0, 2.0, 3.0, 9.0, 0.0, 3.0, 15.0, 3.0, 0.0, 3.0, 10.0, 0.0, 3.0, 19.0, 0.0, 0.0, 0.0, 0.0, 0.0, 0.0, 0.0, 0.0, 0.0, 0.0, 18.0, 0.0, 0.0, 18.0, 0.0, 0.0, 3.0, 8.0, 2.0, 0.0, 0.0, 0.0, 4.0, 2.0, 4.0, 3.0, 0.0, 3.0, 0.0, 2.0, 7.0, 5.0, 0.0, 0.0, 0.0, 0.0, 2.0, 3.0, 8.0, 0.0, 0.0, 0.0, 0.0, 3.0, 5.0, 5.0, 0.0, 0.0, 0.0, 0.0, 2.0, 4.0, 5.0, 2.0, 0.0, 2.0, 0.0, 2.0, 3.0, 4.0, 3.0, 2.0, 2.0, 0.0, 0.0, 3.0, 7.0, 0.0, 3.0, 15.0, 3.0, 0.0, 4.0, 7.0, 4.0, 2.0, 0.0, 0.0, 3.0, 2.0, 6.0, 0.0, 2.0, 2.0, 0.0, 2.0, 2.0, 8.0, 0.0, 0.0, 0.0, 0.0, 0.0, 0.0, 0.0, 0.0, 0.0, 0.0, 0.0, 0.0, 18.0, 0.0, 0.0, 0.0, 7.0, 0.0, 0.0, 3.0, 9.0, 2.0, 0.0, 0.0, 0.0, 0.0, 4.0, 9.0, 0.0, 2.0, 14.0, 4.0, 0.0, 2.0, 6.0, 4.0, 0.0, 0.0, 0.0, 0.0, 3.0, 8.0, 2.0, 0.0, 0.0, 0.0, 0.0, 5.0, 7.0, 0.0, 3.0, 20.0, 2.0, 0.0, 5.0, 4.0, 2.0, 3.0, 0.0, 0.0, 0.0, 6.0, 18.0, 0.0, 0.0, 0.0, 0.0, 0.0], \"y\": [1.0, 0.9950575426354888, 0.9952952846647068, 0.9675637384721336, 0.9259464139302508, 0.9618949327881297, 0.9773655210703219, 0.9752501084059122, 0.9928395614176052, 0.9882671348874544, 0.9657185992592324, 0.9480132476954948, 0.9924559872798352, 1.0115445205901203, 1.002743022599507, 1.0060107926224544, 1.0037488232625, 0.9792340868369028, 1.0534917036623437, 1.039520061670888, 1.0479199711759228, 1.0045641940198298, 1.0080750971892884, 1.0036536521758692, 0.9883555841212714, 1.1212374118773678, 1.0532816914619727, 1.0217520469545605, 1.0293788678152636, 1.0372798357381088, 1.0174832774524316, 0.9970452159560654, 1.105887611177907, 1.0535316516607818, 1.0354286575845109, 1.0073576285167132, 1.0424191535907004, 1.0292605293429922, 1.0212406993798833, 1.1006210637885792, 1.0622201179154294, 1.0278569366435215, 1.0246686464754395, 1.0242238171176172, 1.0670360418405351, 1.0358127769575285, 1.0987955239591165, 1.0549673938248323, 1.0557074537333275, 1.027396934673936, 1.033307681835462, 1.0239479319636058, 1.0262290407349148, 1.0426547611891648, 1.070974069431816, 1.0307299039058313, 1.0589088992469895, 1.0558704579180649, 1.022302393201242, 1.0391291757988186, 1.1264605439925683, 1.1131178337865784, 1.0431432760560284, 1.044094509403301, 1.0634611355249215, 1.0587709018809113, 1.1216401969726688, 1.0931263661851105, 1.059905234153948, 1.0734030057793786, 1.1430520979617658, 1.0735559822384024, 1.0624831844661868, 1.0298821020504452, 1.0272785099455803, 1.1161092184692682, 1.052202217284531, 1.0347173732695367, 1.0493143719297895, 1.0426196951373394, 1.0227308084747038, 1.012993929751329, 1.0499854333077212, 1.0683905948051722, 1.0841123443305656, 1.064635288202588, 1.0567547473961016, 1.0360075380471576, 1.0951304113577565, 1.0848021754548698, 0.9023184075799584, 1.1037548105003403, 1.159411499062824, 1.0621154000038435, 1.0090780144518323, 1.058432942906169, 1.0723624688481237, 1.0466440930978105, 1.0652671521819657, 1.0885136026403182, 1.0578173572475305, 1.0122004497868573, 1.1125313650964317, 1.0850887226155457, 1.0492201468543825, 1.1133522802509177, 1.0435242537572058, 1.0381136828310351, 0.9896801419557746, 1.0661530521702884, 1.0526698594624129, 1.1269207378000776, 1.0660359009400966, 1.0719054582011172, 1.0874687798907314, 1.049067933189197, 1.1934618520162, 1.0940422526293652, 1.0433890006510924, 1.044518288742764, 1.0632297327991034, 1.0531867768767262, 1.069061707036013, 1.1004113486556455, 1.0762707183049007, 1.0671223312089764, 1.067554651874055, 1.0731787701495972, 1.070908104607688, 1.025533292547511, 1.1077645445790325, 1.1088167294647515, 1.1129089279290114, 1.0779887388572649, 1.07833697934032, 1.057657161400576, 1.042393149670448, 1.0654845060656473, 1.141373120503703, 1.0857738399019974, 1.0750013544318815, 1.065303354448289, 1.0541148231043689, 1.032692289449506, 1.0387694468531778, 1.184904517601051, 0.9907593776303516, 1.0567432537900348, 1.068214188396826, 1.075987606636826, 1.0344978319339528, 1.0687493087815545, 1.074164336115887, 1.0670460107550248, 1.0800304374498704, 1.0713556910727924, 1.0796515973057714, 1.0558135601297045, 1.0381139976288143, 1.0913815541095122, 1.0843035320419676, 1.1007731304967052, 1.0688804543709742, 1.0847197201541166, 1.1345738513743442, 1.046624173682717, 1.0994699720484795, 1.1278376678022353, 1.121857427965644, 1.1127999074926032, 1.1029760030399312, 1.0804014940487912, 1.0908017871274875, 1.11947811609458, 1.1172337800553274, 1.083611560493508, 1.1282728140193654, 1.1017286378918905, 1.086925617571553, 1.1010577945692313, 1.1312549875786408, 1.1185448863029044, 1.1379946715280678, 1.055222438434193, 1.12124316278127, 1.1142980838716992, 1.1238377328008675, 1.1573207296345285, 1.1428332487799393, 1.1554816096952916, 1.17653310243881, 1.1612199535703172, 1.13271059817552, 1.1391705144973696, 1.173031611506485, 1.1719701340571684, 1.174946989836149, 1.1807436637909587, 1.1698149236564244, 1.1657459420490894, 1.1574879073207387, 1.1791500322011397, 1.1885128104162177, 1.1960698071754043, 1.2039660572134443, 1.19701529360865, 1.15603587572883, 1.1882587003569405, 1.2141858567591006, 1.1918733620449098, 1.1812942992816071, 1.177448240743218, 1.1077227334191102, 1.1433478010647873, 1.138418571386384, 1.169387843081305, 1.1825362279939546, 1.187512684607932, 1.1998241597135255, 1.1859675125018154, 1.1502256394825148, 1.1508586985619609, 1.1417957862490624, 1.1825126726155646, 1.1756837831709797, 1.1743256873148296, 1.1668551178167743, 1.1932881318652264, 1.1776761478308722, 1.1852025659222052, 1.2098696870945909, 1.2131454052536592, 1.2023638393367606, 1.218849182210478, 1.1972492859393586, 1.213338774665333, 1.2757105210862014, 1.3260040689407004, 1.2155324079042114, 1.2120011471424208, 1.201039257816419, 1.1733368973726623, 1.2376848650516885, 1.244984289952349, 1.191785891883998, 1.2040854856153822, 1.1869694768399648, 1.1727237698930908, 1.135966459885294, 1.1234197598856974, 1.1906788639193102, 1.169197260334636, 1.215827935331419, 1.1808101984375723, 1.180574064129487, 1.1503401967634619, 1.2882560536025802, 1.2395303217805291, 1.2186280431104124, 1.2297447711185765, 1.2339294768413993, 1.2172192967359046, 1.1809625709789124, 1.3357836120288362, 1.2840084220303405, 1.2109278854082801, 1.3423659765391682, 1.2758349667009596, 1.2322670430703933, 1.167342910635449, 1.1859237783761516, 1.2695517771825953, 1.237058993788044, 1.217358120452941, 1.2586032831696865, 1.2197589159153046, 1.1689980620980978, 1.2645995220204118, 1.2974459062819803, 1.2347651558234367, 1.2431533515001454, 1.223817690476536, 1.2221650737172425, 1.1913074771821544, 1.1819943888045588, 1.25916899608669, 1.246753073497782, 1.2793756581019, 1.2457186826739792, 1.2226628418635892, 1.206724157815947, 1.284413076058628, 1.2757643047580085, 1.2626625981229516, 1.275593611069866, 1.2948158773597205, 1.2627749108547492, 1.2383165385273744, 1.1957506491081604, 1.259878251783166, 1.239747988947358, 1.1578848186692805, 1.31507500846938, 1.2006449879553411, 1.252847762388018, 1.3287472214811709, 1.2957152025584835, 1.2707868293123192, 1.2688790836293993, 1.2691149383691886, 1.2476724630597475, 1.232698564823783, 1.2268291040610044, 1.2958001176677525, 1.2491838115744025, 1.2457864785102055, 1.2626203435289187, 1.2401830478791829, 1.2280794662182046, 1.1436616888206108, 1.2438893586213968, 1.2512231061683332, 1.2350816539806826, 1.2481123542019097, 1.2508099392293648, 1.2250184249312608, 1.2734510448598892, 1.2733522017137069, 1.2734797342346795, 1.2453747539437243, 1.2998408967705821, 1.2480435885784391, 1.2053160160777252, 1.177532512304456, 1.2805396785365848, 1.2792136843068551, 1.2660564941793808, 1.2749695804874723, 1.292261793020574, 1.312383996809785, 1.3822207328716138, 1.32366608922118, 1.3179977485806482, 1.3087539067864529, 1.3342209613861298, 1.3251794836807274, 1.2926576580556626, 1.253300776267312, 1.354728792060329, 1.3428061373705886, 1.2967794687713623, 1.3520349048897604, 1.3091688497395362, 1.2779632118470539, 1.2354685703472958, 1.303009568734296, 1.2452278707197988, 1.1427562090632566, 1.2417155314952548, 1.2756464938498326, 1.261617990716477, 1.248134976902163, 1.296578383284102, 1.2874303617845573, 1.172781865761498, 1.3523461738941989, 1.342946369780975, 1.3132134478831148, 1.263652380610127, 1.3369275529952982, 1.3693771721720256, 1.3170287777662353, 1.32697597951102, 1.3188761759449614, 1.2950168834446047, 1.3934710291241807, 1.3827714990552589, 1.3537267771227268, 1.3506476088513892, 1.3807975340669956, 1.363373995051918, 1.3322737739637374, 1.3577316605880665, 1.4195194626088827, 1.3949674838965875, 1.385393727481395, 1.4057872932030595, 1.261634055473946, 1.3635667841503891, 1.3360599795091923, 1.4568447155700406, 1.3906678417077245, 1.3991737248540064, 1.3957349287290333, 1.3534635850526602, 1.346545271117633, 1.3552132938284611, 1.4335177965348864, 1.407349845117326, 1.3855632202265191, 1.4352974512831091, 1.379423677337292, 1.361011501301164, 1.4640705692104798, 1.449000307812376, 1.418717543229287, 1.3870885994738011, 1.4486386251434789, 1.4485004196126376, 1.3285097560172456, 1.2760019044687605, 1.471196415507202, 1.4346331724108776, 1.4030048638004986, 1.4472405565371456, 1.4381461384302872, 1.406124559458015, 1.4300351780142255, 1.4278294748119893, 1.4520341721725767, 1.4554336172576008, 1.5171483491601108, 1.4626520634458229, 1.396267653248901, 1.3987232944578634, 1.5046903931641056, 1.451902962821105, 1.4928046934891523, 1.4591788655697346, 1.4536725445347427, 1.4243768726157158, 1.3815171351749835, 1.5397515369161907, 1.5065654112689553, 1.6064388533825529, 1.6011608653928333, 1.644812883630221, 1.6569344562516723, 1.6414314936263288, 1.6530518054282388, 1.5988578362588706, 1.5933018553503615, 1.5498769655872977, 1.5758246040201986, 1.6195881031054224, 1.6135010468824496, 1.6592002232888428, 1.6062299429625988, 1.6153797164630517, 1.6375513270375182, 1.6630289783630237, 1.6326342309886015, 1.6022984503872553, 1.6034228760474496, 1.5609585098143923, 1.57880937878934, 1.5905393441744762, 1.5799624607283869, 1.603786078792311, 1.6098852634412844, 1.5822679807589148, 1.4863313564536271, 1.5930053706695602, 1.6426178329096115, 1.6235971147476482, 1.5707813323542408, 1.5958734958794123, 1.6269694271510602, 1.6211752717461838, 1.5549339848499442, 1.5587180652132009, 1.5549768561040933, 1.5901054845051084, 1.6098299273185894, 1.6181755986158988, 1.610234104387494, 1.6050838551420878, 1.6149515007962103, 1.6005616668595066, 1.6274512528055582, 1.6363615812137051, 1.5680726382623231, 1.591798977566618, 1.5878698525121326, 1.6539443712936184, 1.623732995767599, 1.6080845188357842, 1.6024474250398508, 1.5656942926146171, 1.4953583431759996, 1.5352568718105428, 1.5444332139380836, 1.527312818963922, 1.535139019205246, 1.488058274727902, 1.52641281786524, 1.5306493605836955, 1.3518266715493363, 1.4883988794761531, 1.2534436842855092, 1.3427674906348583, 1.4993029843764436, 1.5736496696231463, 1.5410673277703193, 1.5096953569400344, 1.4482338036566555, 1.3960827981479011, 1.4540122052502769, 1.5002814057810188, 1.5211029024275695, 1.5262125503524109, 1.514164955438478, 1.4654096381342812, 1.420227830332748, 1.4913973410409058, 1.5407164981782149, 1.5462866196703002, 1.5721175874126083, 1.6068026203648982, 1.5318516457228597, 1.4560669969532452, 1.5553046052420632, 1.6230545635564169, 1.6000073236095098, 1.5903815593232715, 1.6836901041395955, 1.5879688246040138, 1.5381385003178112, 1.5113465830737332, 1.624021366658015, 1.6189372669502196, 1.6798463363415888, 1.6048281810728784, 1.5658462432208982, 1.5151789057040823, 1.6229089095343148, 1.693032670719084, 1.6439904540429098, 1.6612038347072269, 1.6014058485497915, 1.6263860909036931, 1.5664999610348969, 1.6283872139755646, 1.659999785831576, 1.7182737537206465, 1.67117368930303, 1.6073757299770943, 1.6138144796296543, 1.6860813666137189, 1.6512628908372289, 1.6517946680719358, 1.87234247784896, 1.694115795050734, 1.6381052684929247, 1.6254011410568825, 1.8137403127908576, 1.6780180524506283, 1.7118409333999671, 1.6859962177990606, 1.7188407212343997, 1.7056382684470306, 1.6247375389829208, 1.6614049171288563, 1.7017612654986118, 1.7693165293863882, 1.6995034366804302, 1.7468992458131372, 1.653567379073857, 1.7055356443318188, 1.5988107115307464, 1.7106265745036526, 1.6993654992324043, 1.7131590977208295, 1.7470101758007663, 1.5862409091809515, 1.6282374986934325, 1.6966733571946175, 1.660014438004962, 1.6974966005054768, 1.7321314758490436, 1.7383489871063358, 1.6825893841936062, 1.6943290730505205, 1.6009450056941792, 1.6350165853697158, 1.7118046695115876, 1.6933014715134127, 1.7374139866111733, 1.681151822361176, 1.691443952182385, 1.6883309414359622, 1.7193761419427789, 1.7732588418047126, 1.7646391528345082, 1.7432911012651964, 1.7232791576020676, 1.743415600621823, 1.6365403589026977, 1.7448064838479975, 1.7670208726964869, 1.7524914355843006, 1.7266987245331884, 1.7536048328957534, 1.7015828644459006, 1.6793357347956783, 1.7004415796848655, 1.7464662779000888, 1.7143398967677232, 1.7142251701579685, 1.6990167248973314, 1.6553209021138102, 1.6188598342355558, 1.6915126150484288, 1.7334195685112888, 1.6970170113237526, 1.6862530969601766, 1.7172159360559505, 1.660566342028286, 1.5909570596042797, 1.657033480859046, 1.6884827562055589, 1.6710720954613922, 1.6880619046381569, 1.7605766437473698, 1.6259097295516207, 1.63738360151203, 1.7871615443934237, 1.7657280238787934, 1.71239412517699, 1.700783434283559, 1.7953498051527266, 1.666546102667951, 1.7397769274174424, 1.8292615941875048, 1.7460950802264474, 1.7177463797258723, 1.7167627987662044, 1.8061926984486816, 1.6916119192254078, 1.6641950693772989, 1.7981444608883277, 1.7320453878377158, 1.7199874671285058, 1.7168650985905336, 1.7038015638506252, 1.6611930970363484, 1.6043203578466951, 1.7695482382899783, 1.5651966797836765, 1.7672593385172837, 1.977063052127359, 1.7256398350524689, 1.6905960886618314, 1.7899993988519287, 1.7941803239619758, 1.7830858591808314, 1.843939069847792, 1.8328310436514144, 1.8097885701844785, 1.7801546735238354, 1.7659779585304154, 1.879064326249604, 1.97754026866022, 1.885677638473172, 1.8610762526635736, 1.8646684743959865, 1.843285298624577, 1.8415083627395576, 1.9113685622736918, 1.9084053350177317, 1.899507091136266, 1.9503024558445712, 1.8945404532475976, 1.9467830497101908, 1.9397906604437167, 2.0290411182370054, 1.9344271797217747, 1.960949933944116, 1.946342946518228, 1.9313344083764512, 1.9085401589655844, 1.8695212702453483, 1.933482559096576, 1.90673024648746, 1.8804870805901348, 1.9275361539442792, 1.9040368999845585, 1.9381477962994584, 1.912919797300674, 1.992962883846484, 1.9097795431832358, 1.9545552671242936, 1.993227653784996, 1.9071482822390229, 1.871179525367772, 1.8278704892147728, 1.9452461960918168, 1.8922068086088653, 1.9909169994568576, 2.0165956703216152, 1.9037046294343856, 1.8790515684671023, 1.9269893480819533, 1.944739470447864, 1.8637114228530958, 1.8752354122239303, 2.043526681227376, 1.920377347161473, 1.912474811037328, 1.9085322521929364, 1.8780051020419728, 1.8801970486670256, 1.9137287699058367, 2.0806463317707675, 1.8840272073519448, 1.8570428931389331, 1.9080886431442776, 1.8680368253444253, 1.8803786807875968, 1.9223368729884127, 2.0012725880605, 1.7212520001340916, 1.939635758135735, 1.9029894644192125, 1.872880390039827, 1.89404429375882, 1.9139234575439263, 1.935919187362464, 1.644348517052476, 1.9445975610568318, 1.9177159543109683, 2.040402713149124, 1.930051251453136, 1.9651449404578, 2.122237114738417, 1.8749701441885271, 1.957707942635876, 1.9855003331009489, 2.007266718294128, 1.927183355113461, 1.9350950204898936, 1.958168416474324, 1.9265554452937383, 2.055459421461584, 1.9703259354771072, 2.209006308596151, 2.0902791209984533, 2.0066636465610035, 2.004120909891133, 1.9800720369892848, 2.0811866894104387, 2.0511106615729577, 2.0503295711753964, 2.013091943413289, 1.9997478349361968, 1.9875899061877151, 1.991316165309059, 2.027869813612042, 2.091790063120245, 2.057850879271738, 2.015868179063791, 2.039037269285735, 2.0393210625362106, 2.004489618272129, 2.1409278366587743, 2.075236987999462, 2.074448284375136, 2.016919561734853, 2.0372837626602167, 2.018351179292786, 1.9708926191016465, 2.0146076958342527, 2.1308990660673777, 2.194035699812119, 2.0245803071647823, 2.029001993120984, 2.1863191382010525, 2.0153713806479887, 2.0131550170857158, 2.011927564807351, 2.104521173757754, 2.125817094497559, 2.0212222639027924, 2.123726990969279, 2.1109977319600297, 2.0301461850530247, 2.160241807102218, 2.166751451482269, 2.043584452388011, 2.1246175595983483, 2.2111394371945474, 2.1157303806046057, 2.017317477995545, 2.2030297968689823, 2.1024771735985177, 2.2276011986809063, 2.1499924745407166, 2.1903419166548086, 2.1582661354740424, 2.1290277400269524, 2.116910112858408, 2.1733013137364514, 2.169277150838759, 2.255173880588624, 2.2255463724995024, 2.2114859190285965, 2.1122803906449588, 2.0505398430120643, 2.232160532290147, 2.1104396660636042, 2.136395208695105, 2.1303998501725165, 2.1682555393220166, 2.0819335116922377, 2.028700253945132, 2.142044088887192, 2.1178490888636596, 2.1660780773455777, 2.2064610050103597, 2.1701605654188207, 2.143577884704439, 2.169951414177661, 2.2031806478746234, 2.150671258776439, 2.1682355603514134, 2.2081202203437242, 2.1950230230942043, 2.1540296287996683, 2.1833893810454708, 2.1784584094106867, 2.136150460523476, 2.141707301215336, 2.2052597671047023, 2.154816518442385, 2.0729575100604545, 2.093757258753552, 2.258361559204093, 2.1583071652377503, 2.1675077380807592, 2.377251316942993, 2.2633826742368406, 2.1297495378985745, 2.1017116499392863, 2.1423668806906444, 2.243442696710184, 2.182226138676877, 2.2133066529694245, 2.1485794975173094, 2.105225791713649, 2.196231977281524, 2.133717454301145, 2.100667642639657, 2.1072493356973463, 2.143281651658949, 2.0964742041021616, 2.072881319696064, 2.066979975639265, 2.1731914761398508, 2.0620272875881382, 2.1704503548597427, 2.267525998376834, 2.1144664026661752, 2.0517338360657242, 2.056486321393765, 2.1553788482169742, 2.0870012080432008, 2.076865240528564, 2.024424493068594, 2.035088628438881, 1.9561422561771613, 1.9596258405838487, 2.2690388838594924, 2.0473594480910458, 2.039903582903039, 2.020115035745592, 2.0, 1.6944345263835132]}],                        {\"legend\": {\"bgcolor\": \"#F5F6F9\", \"font\": {\"color\": \"#4D5663\"}}, \"paper_bgcolor\": \"#F5F6F9\", \"plot_bgcolor\": \"#F5F6F9\", \"template\": {\"data\": {\"bar\": [{\"error_x\": {\"color\": \"#2a3f5f\"}, \"error_y\": {\"color\": \"#2a3f5f\"}, \"marker\": {\"line\": {\"color\": \"#E5ECF6\", \"width\": 0.5}}, \"type\": \"bar\"}], \"barpolar\": [{\"marker\": {\"line\": {\"color\": \"#E5ECF6\", \"width\": 0.5}}, \"type\": \"barpolar\"}], \"carpet\": [{\"aaxis\": {\"endlinecolor\": \"#2a3f5f\", \"gridcolor\": \"white\", \"linecolor\": \"white\", \"minorgridcolor\": \"white\", \"startlinecolor\": \"#2a3f5f\"}, \"baxis\": {\"endlinecolor\": \"#2a3f5f\", \"gridcolor\": \"white\", \"linecolor\": \"white\", \"minorgridcolor\": \"white\", \"startlinecolor\": \"#2a3f5f\"}, \"type\": \"carpet\"}], \"choropleth\": [{\"colorbar\": {\"outlinewidth\": 0, \"ticks\": \"\"}, \"type\": \"choropleth\"}], \"contour\": [{\"colorbar\": {\"outlinewidth\": 0, \"ticks\": \"\"}, \"colorscale\": [[0.0, \"#0d0887\"], [0.1111111111111111, \"#46039f\"], [0.2222222222222222, \"#7201a8\"], [0.3333333333333333, \"#9c179e\"], [0.4444444444444444, \"#bd3786\"], [0.5555555555555556, \"#d8576b\"], [0.6666666666666666, \"#ed7953\"], [0.7777777777777778, \"#fb9f3a\"], [0.8888888888888888, \"#fdca26\"], [1.0, \"#f0f921\"]], \"type\": \"contour\"}], \"contourcarpet\": [{\"colorbar\": {\"outlinewidth\": 0, \"ticks\": \"\"}, \"type\": \"contourcarpet\"}], \"heatmap\": [{\"colorbar\": {\"outlinewidth\": 0, \"ticks\": \"\"}, \"colorscale\": [[0.0, \"#0d0887\"], [0.1111111111111111, \"#46039f\"], [0.2222222222222222, \"#7201a8\"], [0.3333333333333333, \"#9c179e\"], [0.4444444444444444, \"#bd3786\"], [0.5555555555555556, \"#d8576b\"], [0.6666666666666666, \"#ed7953\"], [0.7777777777777778, \"#fb9f3a\"], [0.8888888888888888, \"#fdca26\"], [1.0, \"#f0f921\"]], \"type\": \"heatmap\"}], \"heatmapgl\": [{\"colorbar\": {\"outlinewidth\": 0, \"ticks\": \"\"}, \"colorscale\": [[0.0, \"#0d0887\"], [0.1111111111111111, \"#46039f\"], [0.2222222222222222, \"#7201a8\"], [0.3333333333333333, \"#9c179e\"], [0.4444444444444444, \"#bd3786\"], [0.5555555555555556, \"#d8576b\"], [0.6666666666666666, \"#ed7953\"], [0.7777777777777778, \"#fb9f3a\"], [0.8888888888888888, \"#fdca26\"], [1.0, \"#f0f921\"]], \"type\": \"heatmapgl\"}], \"histogram\": [{\"marker\": {\"colorbar\": {\"outlinewidth\": 0, \"ticks\": \"\"}}, \"type\": \"histogram\"}], \"histogram2d\": [{\"colorbar\": {\"outlinewidth\": 0, \"ticks\": \"\"}, \"colorscale\": [[0.0, \"#0d0887\"], [0.1111111111111111, \"#46039f\"], [0.2222222222222222, \"#7201a8\"], [0.3333333333333333, \"#9c179e\"], [0.4444444444444444, \"#bd3786\"], [0.5555555555555556, \"#d8576b\"], [0.6666666666666666, \"#ed7953\"], [0.7777777777777778, \"#fb9f3a\"], [0.8888888888888888, \"#fdca26\"], [1.0, \"#f0f921\"]], \"type\": \"histogram2d\"}], \"histogram2dcontour\": [{\"colorbar\": {\"outlinewidth\": 0, \"ticks\": \"\"}, \"colorscale\": [[0.0, \"#0d0887\"], [0.1111111111111111, \"#46039f\"], [0.2222222222222222, \"#7201a8\"], [0.3333333333333333, \"#9c179e\"], [0.4444444444444444, \"#bd3786\"], [0.5555555555555556, \"#d8576b\"], [0.6666666666666666, \"#ed7953\"], [0.7777777777777778, \"#fb9f3a\"], [0.8888888888888888, \"#fdca26\"], [1.0, \"#f0f921\"]], \"type\": \"histogram2dcontour\"}], \"mesh3d\": [{\"colorbar\": {\"outlinewidth\": 0, \"ticks\": \"\"}, \"type\": \"mesh3d\"}], \"parcoords\": [{\"line\": {\"colorbar\": {\"outlinewidth\": 0, \"ticks\": \"\"}}, \"type\": \"parcoords\"}], \"pie\": [{\"automargin\": true, \"type\": \"pie\"}], \"scatter\": [{\"marker\": {\"colorbar\": {\"outlinewidth\": 0, \"ticks\": \"\"}}, \"type\": \"scatter\"}], \"scatter3d\": [{\"line\": {\"colorbar\": {\"outlinewidth\": 0, \"ticks\": \"\"}}, \"marker\": {\"colorbar\": {\"outlinewidth\": 0, \"ticks\": \"\"}}, \"type\": \"scatter3d\"}], \"scattercarpet\": [{\"marker\": {\"colorbar\": {\"outlinewidth\": 0, \"ticks\": \"\"}}, \"type\": \"scattercarpet\"}], \"scattergeo\": [{\"marker\": {\"colorbar\": {\"outlinewidth\": 0, \"ticks\": \"\"}}, \"type\": \"scattergeo\"}], \"scattergl\": [{\"marker\": {\"colorbar\": {\"outlinewidth\": 0, \"ticks\": \"\"}}, \"type\": \"scattergl\"}], \"scattermapbox\": [{\"marker\": {\"colorbar\": {\"outlinewidth\": 0, \"ticks\": \"\"}}, \"type\": \"scattermapbox\"}], \"scatterpolar\": [{\"marker\": {\"colorbar\": {\"outlinewidth\": 0, \"ticks\": \"\"}}, \"type\": \"scatterpolar\"}], \"scatterpolargl\": [{\"marker\": {\"colorbar\": {\"outlinewidth\": 0, \"ticks\": \"\"}}, \"type\": \"scatterpolargl\"}], \"scatterternary\": [{\"marker\": {\"colorbar\": {\"outlinewidth\": 0, \"ticks\": \"\"}}, \"type\": \"scatterternary\"}], \"surface\": [{\"colorbar\": {\"outlinewidth\": 0, \"ticks\": \"\"}, \"colorscale\": [[0.0, \"#0d0887\"], [0.1111111111111111, \"#46039f\"], [0.2222222222222222, \"#7201a8\"], [0.3333333333333333, \"#9c179e\"], [0.4444444444444444, \"#bd3786\"], [0.5555555555555556, \"#d8576b\"], [0.6666666666666666, \"#ed7953\"], [0.7777777777777778, \"#fb9f3a\"], [0.8888888888888888, \"#fdca26\"], [1.0, \"#f0f921\"]], \"type\": \"surface\"}], \"table\": [{\"cells\": {\"fill\": {\"color\": \"#EBF0F8\"}, \"line\": {\"color\": \"white\"}}, \"header\": {\"fill\": {\"color\": \"#C8D4E3\"}, \"line\": {\"color\": \"white\"}}, \"type\": \"table\"}]}, \"layout\": {\"annotationdefaults\": {\"arrowcolor\": \"#2a3f5f\", \"arrowhead\": 0, \"arrowwidth\": 1}, \"autotypenumbers\": \"strict\", \"coloraxis\": {\"colorbar\": {\"outlinewidth\": 0, \"ticks\": \"\"}}, \"colorscale\": {\"diverging\": [[0, \"#8e0152\"], [0.1, \"#c51b7d\"], [0.2, \"#de77ae\"], [0.3, \"#f1b6da\"], [0.4, \"#fde0ef\"], [0.5, \"#f7f7f7\"], [0.6, \"#e6f5d0\"], [0.7, \"#b8e186\"], [0.8, \"#7fbc41\"], [0.9, \"#4d9221\"], [1, \"#276419\"]], \"sequential\": [[0.0, \"#0d0887\"], [0.1111111111111111, \"#46039f\"], [0.2222222222222222, \"#7201a8\"], [0.3333333333333333, \"#9c179e\"], [0.4444444444444444, \"#bd3786\"], [0.5555555555555556, \"#d8576b\"], [0.6666666666666666, \"#ed7953\"], [0.7777777777777778, \"#fb9f3a\"], [0.8888888888888888, \"#fdca26\"], [1.0, \"#f0f921\"]], \"sequentialminus\": [[0.0, \"#0d0887\"], [0.1111111111111111, \"#46039f\"], [0.2222222222222222, \"#7201a8\"], [0.3333333333333333, \"#9c179e\"], [0.4444444444444444, \"#bd3786\"], [0.5555555555555556, \"#d8576b\"], [0.6666666666666666, \"#ed7953\"], [0.7777777777777778, \"#fb9f3a\"], [0.8888888888888888, \"#fdca26\"], [1.0, \"#f0f921\"]]}, \"colorway\": [\"#636efa\", \"#EF553B\", \"#00cc96\", \"#ab63fa\", \"#FFA15A\", \"#19d3f3\", \"#FF6692\", \"#B6E880\", \"#FF97FF\", \"#FECB52\"], \"font\": {\"color\": \"#2a3f5f\"}, \"geo\": {\"bgcolor\": \"white\", \"lakecolor\": \"white\", \"landcolor\": \"#E5ECF6\", \"showlakes\": true, \"showland\": true, \"subunitcolor\": \"white\"}, \"hoverlabel\": {\"align\": \"left\"}, \"hovermode\": \"closest\", \"mapbox\": {\"style\": \"light\"}, \"paper_bgcolor\": \"white\", \"plot_bgcolor\": \"#E5ECF6\", \"polar\": {\"angularaxis\": {\"gridcolor\": \"white\", \"linecolor\": \"white\", \"ticks\": \"\"}, \"bgcolor\": \"#E5ECF6\", \"radialaxis\": {\"gridcolor\": \"white\", \"linecolor\": \"white\", \"ticks\": \"\"}}, \"scene\": {\"xaxis\": {\"backgroundcolor\": \"#E5ECF6\", \"gridcolor\": \"white\", \"gridwidth\": 2, \"linecolor\": \"white\", \"showbackground\": true, \"ticks\": \"\", \"zerolinecolor\": \"white\"}, \"yaxis\": {\"backgroundcolor\": \"#E5ECF6\", \"gridcolor\": \"white\", \"gridwidth\": 2, \"linecolor\": \"white\", \"showbackground\": true, \"ticks\": \"\", \"zerolinecolor\": \"white\"}, \"zaxis\": {\"backgroundcolor\": \"#E5ECF6\", \"gridcolor\": \"white\", \"gridwidth\": 2, \"linecolor\": \"white\", \"showbackground\": true, \"ticks\": \"\", \"zerolinecolor\": \"white\"}}, \"shapedefaults\": {\"line\": {\"color\": \"#2a3f5f\"}}, \"ternary\": {\"aaxis\": {\"gridcolor\": \"white\", \"linecolor\": \"white\", \"ticks\": \"\"}, \"baxis\": {\"gridcolor\": \"white\", \"linecolor\": \"white\", \"ticks\": \"\"}, \"bgcolor\": \"#E5ECF6\", \"caxis\": {\"gridcolor\": \"white\", \"linecolor\": \"white\", \"ticks\": \"\"}}, \"title\": {\"x\": 0.05}, \"xaxis\": {\"automargin\": true, \"gridcolor\": \"white\", \"linecolor\": \"white\", \"ticks\": \"\", \"title\": {\"standoff\": 15}, \"zerolinecolor\": \"white\", \"zerolinewidth\": 2}, \"yaxis\": {\"automargin\": true, \"gridcolor\": \"white\", \"linecolor\": \"white\", \"ticks\": \"\", \"title\": {\"standoff\": 15}, \"zerolinecolor\": \"white\", \"zerolinewidth\": 2}}}, \"title\": {\"font\": {\"color\": \"#4D5663\"}}, \"xaxis\": {\"gridcolor\": \"#E1E5ED\", \"showgrid\": true, \"tickfont\": {\"color\": \"#4D5663\"}, \"title\": {\"font\": {\"color\": \"#4D5663\"}, \"text\": \"Hype\"}, \"zerolinecolor\": \"#E1E5ED\"}, \"yaxis\": {\"gridcolor\": \"#E1E5ED\", \"showgrid\": true, \"tickfont\": {\"color\": \"#4D5663\"}, \"title\": {\"font\": {\"color\": \"#4D5663\"}, \"text\": \"Normalized throughput\"}, \"zerolinecolor\": \"#E1E5ED\"}},                        {\"responsive\": true}                    ).then(function(){\n",
       "                            \n",
       "var gd = document.getElementById('d71a09ff-e84d-4be0-bbef-e40a34bdfce4');\n",
       "var x = new MutationObserver(function (mutations, observer) {{\n",
       "        var display = window.getComputedStyle(gd).display;\n",
       "        if (!display || display === 'none') {{\n",
       "            console.log([gd, 'removed!']);\n",
       "            Plotly.purge(gd);\n",
       "            observer.disconnect();\n",
       "        }}\n",
       "}});\n",
       "\n",
       "// Listen for the removal of the full notebook cells\n",
       "var notebookContainer = gd.closest('#notebook-container');\n",
       "if (notebookContainer) {{\n",
       "    x.observe(notebookContainer, {childList: true});\n",
       "}}\n",
       "\n",
       "// Listen for the clearing of the current output cell\n",
       "var outputEl = gd.closest('.output');\n",
       "if (outputEl) {{\n",
       "    x.observe(outputEl, {childList: true});\n",
       "}}\n",
       "\n",
       "                        })                };                });            </script>        </div>"
      ]
     },
     "metadata": {},
     "output_type": "display_data"
    }
   ],
   "source": [
    "fig=df_dp.iplot(x='Hype',y='Thr (Norm)',asFigure=True,xTitle='Hype',yTitle='Normalized throughput', mode='markers')\n",
    "fig.show()"
   ]
  },
  {
   "cell_type": "code",
   "execution_count": 577,
   "metadata": {},
   "outputs": [
    {
     "data": {
      "image/png": "[encoded data removed]",
      "text/plain": [
       "<Figure size 1152x576 with 1 Axes>"
      ]
     },
     "metadata": {},
     "output_type": "display_data"
    }
   ],
   "source": [
    "plt.figure(figsize=(16,8))\n",
    "fig=sns.scatterplot(data=df_dp.reset_index(), x='DATE', y='Thr (Norm)', hue='Hype')\n"
   ]
  },
  {
   "cell_type": "markdown",
   "metadata": {},
   "source": [
    "Some general outcome from correlation  and plots observation:\n",
    "- Overall, traffic growth is relatively independent from football match es schedule (and I guess from other sport or high hype event). In the graph we see an organic and consistent growth (apparently not far from a linear trend) throught the whole period for which data are available. This organic growth (maybe motivated be new users or by increased traffic per user, or even possibly by limits in the statistical quality of source data after normalization), appear to be the most significative trend in network traffic calculation.\n",
    "- Nevertheless, high hype events in the scatter plot are mostly positioned on the upper part of the scale per each period. A forecast mainly based on time slot with footbal hyped events may provide a conservative and more effective estimations of resources actually needed "
   ]
  },
  {
   "cell_type": "markdown",
   "metadata": {},
   "source": [
    "#### Question 2: \n",
    "Can we add insigth for classes of football event parameters showing higher correlations (e.g. number of contemporary matches, hype of a single match, types of broadcaster)?"
   ]
  },
  {
   "cell_type": "markdown",
   "metadata": {},
   "source": [
    "#### Tentative answer, based on evidence above:\n",
    "\n",
    "In the mapping of categorical values about football schedules into numerical variables, we defined three different variables on each hour in the considered period:\n",
    "    - The number of Serie A matches live in the hour\n",
    "    - The number of Champions League matches live in the hour\n",
    "    - An ad hoc 'hype' functions, where hype of a match is measured by the presence among the opposing teams of one or two major  SerieA teams\n",
    "    \n",
    "Considering correlation matrices discussed above, the variables that is more effective in impacting overal throughput is the 'hype' of the match, while number of contemporary matches appear to play a less significant role (we can say due to the fact that major matches are normally not broadcasted at the same time)"
   ]
  },
  {
   "cell_type": "markdown",
   "metadata": {},
   "source": [
    "#### Question 3: Linear regression for traffic forecast. "
   ]
  },
  {
   "cell_type": "markdown",
   "metadata": {},
   "source": [
    "Let's first look at a linear regression plot based on pure traffic data (daily peaks only):"
   ]
  },
  {
   "cell_type": "code",
   "execution_count": 524,
   "metadata": {},
   "outputs": [
    {
     "data": {
      "image/png": "[encoded data removed]",
      "text/plain": [
       "<Figure size 1080x576 with 1 Axes>"
      ]
     },
     "metadata": {},
     "output_type": "display_data"
    }
   ],
   "source": [
    "plt.figure(figsize=(15,8))\n",
    "regplot_df=df_dp.reset_index()\n",
    "x0=regplot_df['DATE'][0].value\n",
    "regplot_df['DATE']=regplot_df['DATE'].apply(lambda x: (x.value-x0)/(3600*24*1e9))\n",
    "fig=sns.regplot(data=regplot_df, x='DATE', y='Thr (Norm)')"
   ]
  },
  {
   "cell_type": "markdown",
   "metadata": {},
   "source": [
    "The above regression plot (uniquely based on one variable) appears effective in capturing the organic growth trend but probably weak in capuring peaks that shall be manged in the network. Considering what said before, let's see if a similar plot based on 'Hyped' hours only is more effective in being near the peaks: "
   ]
  },
  {
   "cell_type": "code",
   "execution_count": 578,
   "metadata": {},
   "outputs": [
    {
     "data": {
      "text/plain": [
       "<matplotlib.axes._subplots.AxesSubplot at 0x21b2b461128>"
      ]
     },
     "execution_count": 578,
     "metadata": {},
     "output_type": "execute_result"
    },
    {
     "data": {
      "image/png": "[encoded data removed]",
      "text/plain": [
       "<Figure size 1080x576 with 2 Axes>"
      ]
     },
     "metadata": {},
     "output_type": "display_data"
    }
   ],
   "source": [
    "fig, ax = plt.subplots()\n",
    "ax2 = ax.twinx() \n",
    "fig.set_size_inches(15,8)\n",
    "#Red line and pink scatter show the linear regression graph presented above \n",
    "sns.regplot(data=regplot_df, x='DATE', y='Thr (Norm)', scatter_kws={\"color\": \"pink\"}, line_kws={\"color\": \"red\"},ax=ax)\n",
    "#Blue line and scatter on the same graph show the linear regression line based on hyped data only \n",
    "sns.regplot(data=regplot_df[regplot_df['Hype']>5], x='DATE', y='Thr (Norm)', ax=ax2)"
   ]
  },
  {
   "cell_type": "markdown",
   "metadata": {},
   "source": [
    "As expected the regression plot based on 'hyped' hour is somehow more aggressive in the forecast (and probably more effective in calculating needed network capacity). However, even in this case, several measurements are over the forecast. "
   ]
  },
  {
   "cell_type": "markdown",
   "metadata": {},
   "source": [
    "At the end, let's make the exercise of linear regression forecast. We will try two cases, with data traffic only first and then with sport event info included\n",
    "\n",
    "Let's start without:"
   ]
  },
  {
   "cell_type": "code",
   "execution_count": 579,
   "metadata": {
    "scrolled": true
   },
   "outputs": [
    {
     "name": "stdout",
     "output_type": "stream",
     "text": [
      "<class 'pandas.core.frame.DataFrame'>\n",
      "RangeIndex: 877 entries, 0 to 876\n",
      "Data columns (total 6 columns):\n",
      "DATE               877 non-null float64\n",
      "Thr (Norm)         877 non-null float64\n",
      "Conn (Norm)        877 non-null float64\n",
      "ChampionsLeague    877 non-null float64\n",
      "Hype               877 non-null float64\n",
      "SerieA             877 non-null float64\n",
      "dtypes: float64(6)\n",
      "memory usage: 41.2 KB\n"
     ]
    }
   ],
   "source": [
    "df_dp_linregr=df_dp.reset_index()\n",
    "df_dp_linregr['DATE']=df_dp_linregr['DATE'].apply(lambda x: x.value/(3600*24*1e9))\n",
    "df_dp_linregr.info()\n",
    "X_train, X_test, y_train, y_test = train_test_split(df_dp_linregr[['DATE','Conn (Norm)']], df_dp_linregr['Thr (Norm)'], test_size = .30, random_state=42) "
   ]
  },
  {
   "cell_type": "code",
   "execution_count": 580,
   "metadata": {},
   "outputs": [
    {
     "data": {
      "text/plain": [
       "LinearRegression(copy_X=True, fit_intercept=True, n_jobs=1, normalize=True)"
      ]
     },
     "execution_count": 580,
     "metadata": {},
     "output_type": "execute_result"
    }
   ],
   "source": [
    "lm_model = LinearRegression(normalize=True) # Instantiate\n",
    "lm_model.fit(X_train, y_train) #Fit"
   ]
  },
  {
   "cell_type": "code",
   "execution_count": 581,
   "metadata": {},
   "outputs": [
    {
     "data": {
      "text/plain": [
       "'The r-squared score for your model was 0.9534558287554198 on 264 values.'"
      ]
     },
     "execution_count": 581,
     "metadata": {},
     "output_type": "execute_result"
    }
   ],
   "source": [
    "y_test_preds = lm_model.predict(X_test) \n",
    "\"The r-squared score for your model was {} on {} values.\".format(r2_score(y_test, y_test_preds), len(y_test))"
   ]
  },
  {
   "cell_type": "markdown",
   "metadata": {},
   "source": [
    "Now that we have a prediction, let's plot the outcome of the prediction against actual values:"
   ]
  },
  {
   "cell_type": "code",
   "execution_count": 529,
   "metadata": {
    "scrolled": false
   },
   "outputs": [
    {
     "data": {
      "text/plain": [
       "Text(0,0.5,'Throughput')"
      ]
     },
     "execution_count": 529,
     "metadata": {},
     "output_type": "execute_result"
    },
    {
     "data": {
      "image/png": "[encoded data removed]",
      "text/plain": [
       "<Figure size 1080x576 with 1 Axes>"
      ]
     },
     "metadata": {},
     "output_type": "display_data"
    }
   ],
   "source": [
    "test_outcome=X_test\n",
    "test_outcome['Actual Thr']=y_test\n",
    "test_outcome['Predicted Thr']=y_test_preds\n",
    "test_outcome.sort_index(inplace=True)\n",
    "fig, ax = plt.subplots()\n",
    "fig.set_size_inches(15,8)\n",
    "sns.scatterplot(data=test_outcome, x='DATE',y='Actual Thr',  color = 'blue' )\n",
    "sns.scatterplot(data=test_outcome, x='DATE',y='Predicted Thr', color='red')\n",
    "ax.set_ylabel(\"Throughput\")"
   ]
  },
  {
   "cell_type": "markdown",
   "metadata": {},
   "source": [
    "Finally, let's repeat the exercise using 'hype' column"
   ]
  },
  {
   "cell_type": "code",
   "execution_count": 530,
   "metadata": {
    "scrolled": true
   },
   "outputs": [
    {
     "name": "stdout",
     "output_type": "stream",
     "text": [
      "<class 'pandas.core.frame.DataFrame'>\n",
      "RangeIndex: 877 entries, 0 to 876\n",
      "Data columns (total 6 columns):\n",
      "DATE               877 non-null float64\n",
      "Thr (Norm)         877 non-null float64\n",
      "Conn (Norm)        877 non-null float64\n",
      "ChampionsLeague    877 non-null float64\n",
      "Hype               877 non-null float64\n",
      "SerieA             877 non-null float64\n",
      "dtypes: float64(6)\n",
      "memory usage: 41.2 KB\n"
     ]
    }
   ],
   "source": [
    "df_dp_linregr=df_dp.reset_index()\n",
    "df_dp_linregr['DATE']=df_dp_linregr['DATE'].apply(lambda x: x.value/(3600*24*1e9))\n",
    "df_dp_linregr.info()\n",
    "X_train, X_test, y_train, y_test = train_test_split(df_dp_linregr[['DATE','Conn (Norm)','Hype']], df_dp_linregr['Thr (Norm)'], test_size = .30, random_state=42) "
   ]
  },
  {
   "cell_type": "code",
   "execution_count": 531,
   "metadata": {},
   "outputs": [
    {
     "data": {
      "text/plain": [
       "LinearRegression(copy_X=True, fit_intercept=True, n_jobs=1, normalize=True)"
      ]
     },
     "execution_count": 531,
     "metadata": {},
     "output_type": "execute_result"
    }
   ],
   "source": [
    "lm_model = LinearRegression(normalize=True) # Instantiate\n",
    "lm_model.fit(X_train, y_train) #Fit"
   ]
  },
  {
   "cell_type": "code",
   "execution_count": 532,
   "metadata": {},
   "outputs": [
    {
     "data": {
      "text/plain": [
       "'The r-squared score for your model was 0.9611264481182126 on 264 values.'"
      ]
     },
     "execution_count": 532,
     "metadata": {},
     "output_type": "execute_result"
    }
   ],
   "source": [
    "y_test_preds = lm_model.predict(X_test) \n",
    "\"The r-squared score for your model was {} on {} values.\".format(r2_score(y_test, y_test_preds), len(y_test))"
   ]
  },
  {
   "cell_type": "markdown",
   "metadata": {},
   "source": [
    "Now that we have a prediction, let's plot the outcome of the prediction againsta ctual values:"
   ]
  },
  {
   "cell_type": "code",
   "execution_count": 500,
   "metadata": {
    "scrolled": false
   },
   "outputs": [
    {
     "data": {
      "text/plain": [
       "Text(0,0.5,'Throughput')"
      ]
     },
     "execution_count": 500,
     "metadata": {},
     "output_type": "execute_result"
    },
    {
     "data": {
      "image/png": "[encoded data removed]",
      "text/plain": [
       "<Figure size 1080x576 with 1 Axes>"
      ]
     },
     "metadata": {},
     "output_type": "display_data"
    }
   ],
   "source": [
    "test_outcome_with_hype=X_test\n",
    "test_outcome_with_hype['Actual Thr']=y_test\n",
    "test_outcome_with_hype['Predicted Thr']=y_test_preds\n",
    "test_outcome.sort_index(inplace=True)\n",
    "fig, ax = plt.subplots()\n",
    "fig.set_size_inches(15,8)\n",
    "sns.scatterplot(data=test_outcome_with_hype, x='DATE',y='Actual Thr',  color = 'blue' )\n",
    "sns.scatterplot(data=test_outcome, x='DATE',y='Predicted Thr', color='red')\n",
    "sns.scatterplot(data=test_outcome_with_hype, x='DATE',y='Predicted Thr', color='green')\n",
    "ax.set_ylabel(\"Throughput\")\n"
   ]
  },
  {
   "cell_type": "markdown",
   "metadata": {},
   "source": [
    "Again, the forecast also using sport event data appear to be a bit more effective (at least on this single picture) to predict period with very high throughput. For any other aspect, the usage of sport event data doesn't improve significatevely the quality of the linear regression, that is pretty fitting in both cases."
   ]
  },
  {
   "cell_type": "markdown",
   "metadata": {},
   "source": [
    "#### Conclusions\n",
    "As described in the beginning, the analysis is intended as a procedural exercise and include a few sources of weakness:\n",
    "- To avoid disclosure of information, used traffic data were related to a limitedgeographical area; \n",
    "- For the same reason, data were normalized before usage to vary in a predefined range (roughly for 1 to 2).\n",
    "- Analysis of the results was limited to some initial evidences and hints for sake of time \n",
    "\n",
    "Bearing in mind the limitation above, we can try to draft the following conclusions for the exercise:\n",
    "- Traffic growth in the network is mainly driven by organic growth (additional users and or growth of traffic per user. Sport events can carry to occasional peaks that are however soon reached by the normal traffic levels\n",
    "- Usage of sport events information does not carry particolar benefit in modeling the main trend (organic growth) but might results in a more conservative network dimensioning given some ability to anticipate occasional peaks.\n",
    "- Among footbal events parameter, the one providing the greatest correlation is the presence of major italian teams in the ongoing match, more than the number of conteporary matchs  \n"
   ]
  },
  {
   "cell_type": "code",
   "execution_count": null,
   "metadata": {},
   "outputs": [],
   "source": []
  }
 ],
 "metadata": {
  "kernelspec": {
   "display_name": "Python 3",
   "language": "python",
   "name": "python3"
  },
  "language_info": {
   "codemirror_mode": {
    "name": "ipython",
    "version": 3
   },
   "file_extension": ".py",
   "mimetype": "text/x-python",
   "name": "python",
   "nbconvert_exporter": "python",
   "pygments_lexer": "ipython3",
   "version": "3.6.5"
  }
 },
 "nbformat": 4,
 "nbformat_minor": 2
}
